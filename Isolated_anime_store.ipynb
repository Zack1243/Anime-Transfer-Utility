{
 "cells": [
  {
   "cell_type": "markdown",
   "metadata": {},
   "source": [
    "# Import Libraries"
   ]
  },
  {
   "cell_type": "code",
   "execution_count": 27,
   "metadata": {},
   "outputs": [],
   "source": [
    "import json\n",
    "import math\n",
    "import os\n",
    "import shutil\n",
    "from tkinter import *\n",
    "from tkinter import ttk\n",
    "from tkinter import filedialog\n",
    "from tkinter import font\n",
    "from tkinter import messagebox"
   ]
  },
  {
   "cell_type": "markdown",
   "metadata": {},
   "source": [
    "# Initialize"
   ]
  },
  {
   "cell_type": "code",
   "execution_count": 28,
   "metadata": {},
   "outputs": [],
   "source": [
    "# Run a new instance of ttk\n",
    "INFOFILE = 'information.json'\n",
    "root_store = Tk()\n",
    "frm_store = ttk.Frame(root_store, padding=10)\n",
    "frm_store.grid()\n",
    "app_width = 500\n",
    "app_height = 500\n",
    "screen_width = root_store.winfo_screenwidth()\n",
    "screen_height = root_store.winfo_screenheight()\n",
    "x = (screen_width / 2) - (app_width / 2)\n",
    "y = (screen_height / 2) - (app_height / 2)\n",
    "root_store.geometry(f'{app_width}x{app_height}+{int(x + 100)}+{int(y + 100)}')\n",
    "my_listbox = Listbox(frm_store)\n",
    "my_listbox.grid()"
   ]
  },
  {
   "cell_type": "code",
   "execution_count": 29,
   "metadata": {},
   "outputs": [
    {
     "name": "stdout",
     "output_type": "stream",
     "text": [
      "library path: D:\\emulated Aniyomi Phone\\localanime\n",
      "Show folders: []\n",
      "............................................\n",
      "The following folder(s) were empty!\n",
      "............................................\n"
     ]
    }
   ],
   "source": [
    "# Get a list of the anime inside of the folder\n",
    "with open(INFOFILE, 'r') as json_file:\n",
    "    data = json.load(json_file)\n",
    "if data:\n",
    "    # Get the directory of the library\n",
    "    library_path = data[\"Phone Directory\"]\n",
    "    library_path = os.path.join(str(library_path), \"localanime\").replace(\"/\", \"\\\\\")\n",
    "    show_folders = [os.path.join(str(library_path), item).replace(\"/\", \"\\\\\") for item in os.listdir(library_path)]\n",
    "    print(f\"library path: {library_path}\")\n",
    "    print(f\"Show folders: {show_folders}\")\n",
    "    video_extensions = {\".mov\", \".mkv\", \".mp4\"}\n",
    "    \n",
    "    # Invalid shows\n",
    "    empty_folders = []\n",
    "    \n",
    "    # Check if directories are valid and have files to play\n",
    "    for show in show_folders:\n",
    "        if not os.path.isdir(show):\n",
    "            empty_folders.append(show)\n",
    "            continue\n",
    "        found = any(file.endswith((\".mov\", \".mkv\", \".mp4\")) for _, _, files in os.walk(show) for file in files)\n",
    "        if not found:\n",
    "            empty_folders.append(show)\n",
    "            continue\n",
    "    \n",
    "    # Get rid of the empty/invalid shows\n",
    "    # TODO: Make a warning to delete the empty folders\n",
    "    for show in empty_folders:\n",
    "        show_folders.remove(show)\n",
    "    \n",
    "    print(\"............................................\")\n",
    "    print(f\"The following folder(s) were empty!\")\n",
    "    for show in empty_folders:\n",
    "        print(f\">>> {show}\")\n",
    "    print(\"............................................\")\n",
    "\n",
    "    # Isolate the valid titles\n",
    "    titles = [show.split('\\\\')[-1] for show in show_folders]\n",
    "    \n",
    "    # Get the destination directory\n",
    "    pc_directory = data[\"PC Directory\"]\n",
    "    \n",
    "    # Check if the destination directory is valid\n",
    "    if not pc_directory:\n",
    "        print(f\"{pc_directory} is invalid! Please choose another directory\")\n",
    "    else:\n",
    "        for show in show_folders:\n",
    "            dst = os.path.join(pc_directory, show.split('\\\\')[-1])\n",
    "            shutil.move(show, dst)\n",
    "    for title in titles:\n",
    "        my_listbox.insert(END, title)\n",
    "\n",
    "\n",
    "    if empty_folders:\n",
    "        pc_directory = data[\"PC Directory\"]\n",
    "        # showinfo, showwarning, shoerror, askquestion, askokcancel, askyesno\n",
    "        missing_titles_warning_message = f\"The following titles within {pc_directory} contain no .mkv, .mp4, or .mov files and cannot be stored. (You may wish to confirm if you are using the right PC Directory)\\n\\n\"\n",
    "        for show in empty_folders:\n",
    "            title = show.split('\\\\')[-1]\n",
    "            missing_titles_warning_message = missing_titles_warning_message + f\"- {title}\\n\"\n",
    "        missing_titles_warning_message = missing_titles_warning_message + \"\\nWould you like to delete them?\"\n",
    "            \n",
    "            \n",
    "        delete_shows_messagebox = messagebox.askyesno(\n",
    "            title=\"Invalid Folders Discovered Within PC Directory\",\n",
    "            message=missing_titles_warning_message,\n",
    "            icon=\"warning\",\n",
    "            parent=frm_store,\n",
    "            default=\"no\"\n",
    "        )\n",
    "        \n",
    "        confirm_deletion_message = \"Are you sure you would like to delete the following titles?\\n\\n\"\n",
    "        for show in empty_folders:\n",
    "            title = show.split('\\\\')[-1]\n",
    "            confirm_deletion_message = confirm_deletion_message + f\"- {title}\\n\"\n",
    "        \n",
    "        if delete_shows_messagebox:\n",
    "            confirm_show_deletion = messagebox.askyesno(\n",
    "            title=\"Are you sure?\",\n",
    "            message=confirm_deletion_message,\n",
    "            icon=\"question\",\n",
    "            default=\"no\"\n",
    "        )\n",
    "        if confirm_show_deletion:\n",
    "            for folder in empty_folders:\n",
    "                shutil.rmtree(folder)"
   ]
  },
  {
   "cell_type": "markdown",
   "metadata": {},
   "source": [
    "## Functions"
   ]
  },
  {
   "cell_type": "markdown",
   "metadata": {},
   "source": [
    "### Store Anime"
   ]
  },
  {
   "cell_type": "code",
   "execution_count": null,
   "metadata": {},
   "outputs": [],
   "source": []
  },
  {
   "cell_type": "markdown",
   "metadata": {},
   "source": [
    "## Delete Folders"
   ]
  },
  {
   "cell_type": "code",
   "execution_count": 30,
   "metadata": {},
   "outputs": [],
   "source": [
    "def deleteFolders(folders):\n",
    "    for folder in folders:\n",
    "        shutil.rmtree(folder)"
   ]
  },
  {
   "cell_type": "markdown",
   "metadata": {},
   "source": [
    "# Button Functions"
   ]
  },
  {
   "cell_type": "markdown",
   "metadata": {},
   "source": [
    "## Popup"
   ]
  },
  {
   "cell_type": "markdown",
   "metadata": {},
   "source": [
    "# Buttons"
   ]
  },
  {
   "cell_type": "markdown",
   "metadata": {},
   "source": [
    "## Row 0"
   ]
  },
  {
   "cell_type": "code",
   "execution_count": null,
   "metadata": {},
   "outputs": [],
   "source": []
  },
  {
   "cell_type": "markdown",
   "metadata": {},
   "source": [
    "## Row 1"
   ]
  },
  {
   "cell_type": "code",
   "execution_count": 31,
   "metadata": {},
   "outputs": [],
   "source": [
    "# Entry box\n",
    "pass"
   ]
  },
  {
   "cell_type": "markdown",
   "metadata": {},
   "source": [
    "## Row 2"
   ]
  },
  {
   "cell_type": "code",
   "execution_count": 32,
   "metadata": {},
   "outputs": [],
   "source": [
    "# Button to transfer stuff\n",
    "pass"
   ]
  },
  {
   "cell_type": "markdown",
   "metadata": {},
   "source": [
    "## Row 3"
   ]
  },
  {
   "cell_type": "code",
   "execution_count": 33,
   "metadata": {},
   "outputs": [],
   "source": [
    "pass"
   ]
  },
  {
   "cell_type": "code",
   "execution_count": 34,
   "metadata": {},
   "outputs": [],
   "source": [
    "root_store.mainloop()"
   ]
  }
 ],
 "metadata": {
  "kernelspec": {
   "display_name": "Python 3",
   "language": "python",
   "name": "python3"
  },
  "language_info": {
   "codemirror_mode": {
    "name": "ipython",
    "version": 3
   },
   "file_extension": ".py",
   "mimetype": "text/x-python",
   "name": "python",
   "nbconvert_exporter": "python",
   "pygments_lexer": "ipython3",
   "version": "3.11.9"
  }
 },
 "nbformat": 4,
 "nbformat_minor": 2
}
