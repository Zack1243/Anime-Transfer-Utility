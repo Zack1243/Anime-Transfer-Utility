{
 "cells": [
  {
   "cell_type": "markdown",
   "metadata": {},
   "source": [
    "# Import Libraries"
   ]
  },
  {
   "cell_type": "code",
   "execution_count": null,
   "metadata": {},
   "outputs": [],
   "source": [
    "import button_functions as func_but\n",
    "import functions as func\n",
    "import json\n",
    "import numpy as np\n",
    "import math\n",
    "import os\n",
    "import popups as pop\n",
    "import shutil\n",
    "from tkinter import *\n",
    "from tkinter import ttk\n",
    "from tkinter import filedialog\n",
    "from tkinter import font\n",
    "from tkinter import messagebox"
   ]
  },
  {
   "cell_type": "markdown",
   "metadata": {},
   "source": [
    "# Initialize"
   ]
  },
  {
   "cell_type": "markdown",
   "metadata": {},
   "source": [
    "## Main window"
   ]
  },
  {
   "cell_type": "code",
   "execution_count": 24,
   "metadata": {},
   "outputs": [
    {
     "data": {
      "text/plain": [
       "''"
      ]
     },
     "execution_count": 24,
     "metadata": {},
     "output_type": "execute_result"
    }
   ],
   "source": [
    "# Run a new instance of ttk\n",
    "INFOFILE = 'information.json'\n",
    "VIDEO_EXTENSIONS = {\".mov\", \".mkv\", \".mp4\"}\n",
    "root_store = Tk()\n",
    "frm_store = ttk.Frame(root_store, padding=10)\n",
    "frm_store.grid()\n",
    "app_width = 500\n",
    "app_height = 500\n",
    "screen_width = root_store.winfo_screenwidth()\n",
    "screen_height = root_store.winfo_screenheight()\n",
    "x = (screen_width / 2) - (app_width / 2)\n",
    "y = (screen_height / 2) - (app_height / 2)\n",
    "root_store.geometry(f'{app_width}x{app_height}+{int(x + 100)}+{int(y + 100)}')"
   ]
  },
  {
   "cell_type": "markdown",
   "metadata": {},
   "source": [
    "## Listbox"
   ]
  },
  {
   "cell_type": "code",
   "execution_count": 25,
   "metadata": {},
   "outputs": [],
   "source": [
    "my_listbox = Listbox(frm_store)\n",
    "my_listbox.grid()"
   ]
  },
  {
   "cell_type": "markdown",
   "metadata": {},
   "source": [
    "# Error Popup Windows"
   ]
  },
  {
   "cell_type": "markdown",
   "metadata": {},
   "source": [
    "## Invalid Phone Directory"
   ]
  },
  {
   "cell_type": "code",
   "execution_count": null,
   "metadata": {},
   "outputs": [],
   "source": []
  },
  {
   "cell_type": "code",
   "execution_count": null,
   "metadata": {},
   "outputs": [
    {
     "ename": "IndentationError",
     "evalue": "expected an indented block after 'if' statement on line 5 (2461349470.py, line 11)",
     "output_type": "error",
     "traceback": [
      "\u001b[1;36m  Cell \u001b[1;32mIn[32], line 11\u001b[1;36m\u001b[0m\n\u001b[1;33m    library_path = data[\"Phone Directory\"]\u001b[0m\n\u001b[1;37m    ^\u001b[0m\n\u001b[1;31mIndentationError\u001b[0m\u001b[1;31m:\u001b[0m expected an indented block after 'if' statement on line 5\n"
     ]
    }
   ],
   "source": [
    "# Get a list of the anime inside of the folder\n",
    "with open(INFOFILE, 'r') as json_file:\n",
    "    data = json.load(json_file)\n",
    "if data:\n",
    "    if not os.path.exists(data[\"Phone Directory\"]):\n",
    "    # Get the directory of the library\n",
    "    library_path = data[\"Phone Directory\"]\n",
    "    library_path = os.path.join(str(library_path), \"localanime\").replace(\"/\", \"\\\\\")\n",
    "    show_folders = [os.path.join(str(library_path), item).replace(\"/\", \"\\\\\") for item in os.listdir(library_path)]\n",
    "    \n",
    "    \n",
    "    \n",
    "    # Invalid shows\n",
    "    empty_folders = []\n",
    "    \n",
    "    # Check if directories are valid and have files to play\n",
    "    for show in show_folders:\n",
    "        if not os.path.isdir(show):\n",
    "            empty_folders.append(show)\n",
    "            continue\n",
    "        found = any(file.endswith(VIDEO_EXTENSIONS) for _, _, files in os.walk(show) for file in files)\n",
    "        if not found:\n",
    "            empty_folders.append(show)\n",
    "            continue\n",
    "\n",
    "    for show in empty_folders:\n",
    "        show_folders.remove(show)\n",
    "    \n",
    "    print(\"............................................\")\n",
    "    print(f\"The following folder(s) were empty!\")\n",
    "    for show in empty_folders:\n",
    "        print(f\">>> {show}\")\n",
    "    print(\"............................................\")\n",
    "\n",
    "    # Isolate the valid titles\n",
    "    titles = [show.split('\\\\')[-1] for show in show_folders]\n",
    "        \n",
    "        \n",
    "    # Get the destination directory\n",
    "    pc_directory = data[\"PC Directory\"]\n",
    "    \n",
    "    store_size = 0\n",
    "    store_progress = 0\n",
    "    \n",
    "    # Check if the destination directory is valid\n",
    "    if not pc_directory:\n",
    "        print(f\"{pc_directory} is invalid! Please choose another directory\")\n",
    "    else:\n",
    "        for show in show_folders:\n",
    "            store_size = store_size + os.path.getsize(show)\n",
    "        for show in show_folders:\n",
    "            dst = os.path.join(pc_directory, show.split('\\\\')[-1])\n",
    "            shutil.move(show, dst)\n",
    "            store_progress = store_progress + os.path.getsize(show)\n",
    "            \n",
    "    \n",
    "    for title in titles:\n",
    "        my_listbox.insert(END, title)\n",
    "\n",
    "    if empty_folders:\n",
    "        pc_directory = data[\"PC Directory\"]\n",
    "        # showinfo, showwarning, shoerror, askquestion, askokcancel, askyesno\n",
    "        missing_titles_warning_message = f\"The following titles within {pc_directory} contain no .mkv, .mp4, or .mov files and cannot be stored. (You may wish to confirm if you are using the right PC Directory)\\n\\n\"\n",
    "        for show in empty_folders:\n",
    "            title = show.split('\\\\')[-1]\n",
    "            missing_titles_warning_message = missing_titles_warning_message + f\"- {title}\\n\"\n",
    "        missing_titles_warning_message = missing_titles_warning_message + \"\\nWould you like to delete them?\"\n",
    "            \n",
    "            \n",
    "        delete_shows_messagebox = messagebox.askyesno(\n",
    "            title=\"Invalid Folders Discovered Within PC Directory\",\n",
    "            message=missing_titles_warning_message,\n",
    "            icon=\"warning\",\n",
    "            parent=frm_store,\n",
    "            default=\"no\"\n",
    "        )\n",
    "        \n",
    "        confirm_deletion_message = \"Are you sure you would like to delete the following titles?\\n\\n\"\n",
    "        for show in empty_folders:\n",
    "            title = show.split('\\\\')[-1]\n",
    "            confirm_deletion_message = confirm_deletion_message + f\"- {title}\\n\"\n",
    "        \n",
    "        if delete_shows_messagebox:\n",
    "            confirm_show_deletion = messagebox.askyesno(\n",
    "            title=\"Are you sure?\",\n",
    "            message=confirm_deletion_message,\n",
    "            icon=\"question\",\n",
    "            default=\"no\"\n",
    "        )\n",
    "        if confirm_show_deletion:\n",
    "            for folder in empty_folders:\n",
    "                shutil.rmtree(folder)"
   ]
  },
  {
   "cell_type": "markdown",
   "metadata": {},
   "source": [
    "## Functions"
   ]
  },
  {
   "cell_type": "markdown",
   "metadata": {},
   "source": [
    "### Store Anime"
   ]
  },
  {
   "cell_type": "code",
   "execution_count": null,
   "metadata": {},
   "outputs": [],
   "source": []
  },
  {
   "cell_type": "markdown",
   "metadata": {},
   "source": [
    "## Delete Folders"
   ]
  },
  {
   "cell_type": "markdown",
   "metadata": {},
   "source": [
    "# Button Functions"
   ]
  },
  {
   "cell_type": "markdown",
   "metadata": {},
   "source": [
    "## Popup"
   ]
  },
  {
   "cell_type": "markdown",
   "metadata": {},
   "source": [
    "# Buttons"
   ]
  },
  {
   "cell_type": "markdown",
   "metadata": {},
   "source": [
    "## Row 0"
   ]
  },
  {
   "cell_type": "code",
   "execution_count": null,
   "metadata": {},
   "outputs": [],
   "source": []
  },
  {
   "cell_type": "markdown",
   "metadata": {},
   "source": [
    "## Row 1"
   ]
  },
  {
   "cell_type": "code",
   "execution_count": 28,
   "metadata": {},
   "outputs": [],
   "source": [
    "# Entry box\n",
    "pass"
   ]
  },
  {
   "cell_type": "markdown",
   "metadata": {},
   "source": [
    "## Row 2"
   ]
  },
  {
   "cell_type": "code",
   "execution_count": 29,
   "metadata": {},
   "outputs": [],
   "source": [
    "# Button to transfer stuff\n",
    "pass"
   ]
  },
  {
   "cell_type": "markdown",
   "metadata": {},
   "source": [
    "## Row 3"
   ]
  },
  {
   "cell_type": "code",
   "execution_count": 30,
   "metadata": {},
   "outputs": [],
   "source": [
    "pass"
   ]
  },
  {
   "cell_type": "code",
   "execution_count": 31,
   "metadata": {},
   "outputs": [],
   "source": [
    "root_store.mainloop()"
   ]
  }
 ],
 "metadata": {
  "kernelspec": {
   "display_name": "Python 3",
   "language": "python",
   "name": "python3"
  },
  "language_info": {
   "codemirror_mode": {
    "name": "ipython",
    "version": 3
   },
   "file_extension": ".py",
   "mimetype": "text/x-python",
   "name": "python",
   "nbconvert_exporter": "python",
   "pygments_lexer": "ipython3",
   "version": "3.11.9"
  }
 },
 "nbformat": 4,
 "nbformat_minor": 2
}
