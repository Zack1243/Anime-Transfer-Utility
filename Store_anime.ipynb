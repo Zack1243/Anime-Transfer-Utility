{
 "cells": [
  {
   "cell_type": "markdown",
   "metadata": {},
   "source": [
    "# Import Libraries"
   ]
  },
  {
   "cell_type": "code",
   "execution_count": 1,
   "metadata": {},
   "outputs": [],
   "source": [
    "from button_functions import Button_functions\n",
    "from functions import Functions\n",
    "from popups import Popups\n",
    "from tkinter import *\n",
    "import os\n",
    "INFOFILE = 'information.json'"
   ]
  },
  {
   "cell_type": "markdown",
   "metadata": {},
   "source": [
    "# Initialize"
   ]
  },
  {
   "cell_type": "code",
   "execution_count": 2,
   "metadata": {},
   "outputs": [
    {
     "name": "stdout",
     "output_type": "stream",
     "text": [
      "pc directory: PY_VAR0\n",
      "The following titles are duplicates of existing titles.\n",
      "\n",
      "- Elite 10\n",
      "- fate Reawakening\n",
      "- God is dead\n",
      "\n",
      "Would you like to delete them?\n",
      "Elite 10\n",
      "fate Reawakening\n",
      "God is dead\n",
      "Family guy\n",
      "Heroes\n",
      "Planetary nebula\n",
      "Keyboard masters\n",
      "This world is beautiful\n",
      "video game highschool\n",
      "(6, 7)\n",
      "Selected number of files: 2\n",
      "{'D:\\\\emulated Aniyomi Phone\\\\localanime\\\\Elite 10': 'Elite 10', 'D:\\\\emulated Aniyomi Phone\\\\localanime\\\\fate Reawakening': 'fate Reawakening', 'D:\\\\emulated Aniyomi Phone\\\\localanime\\\\God is dead': 'God is dead', 'D:\\\\emulated Aniyomi Phone\\\\downloads\\\\Aniwave (EN)\\\\Family guy': 'Family guy', 'D:\\\\emulated Aniyomi Phone\\\\downloads\\\\Aniwave (EN)\\\\Heroes': 'Heroes', 'D:\\\\emulated Aniyomi Phone\\\\downloads\\\\Aniwave (EN)\\\\Planetary nebula': 'Planetary nebula', 'D:\\\\emulated Aniyomi Phone\\\\downloads\\\\more_tests (EN)\\\\Keyboard masters': 'Keyboard masters', 'D:\\\\emulated Aniyomi Phone\\\\downloads\\\\testing (EN)\\\\This world is beautiful': 'This world is beautiful', 'D:\\\\emulated Aniyomi Phone\\\\downloads\\\\testing (EN)\\\\video game highschool': 'video game highschool'}\n",
      "TITLE: God is dead\n",
      "Title Directory: D:\\emulated Aniyomi Phone\\localanime\\God is dead\n"
     ]
    },
    {
     "name": "stderr",
     "output_type": "stream",
     "text": [
      "Exception in Tkinter callback\n",
      "Traceback (most recent call last):\n",
      "  File \"C:\\Program Files\\WindowsApps\\PythonSoftwareFoundation.Python.3.11_3.11.2544.0_x64__qbz5n2kfra8p0\\Lib\\tkinter\\__init__.py\", line 1967, in __call__\n",
      "    return self.func(*args)\n",
      "           ^^^^^^^^^^^^^^^^\n",
      "  File \"C:\\Users\\Zachary\\AppData\\Local\\Temp\\ipykernel_26816\\827185376.py\", line 49, in <lambda>\n",
      "    button_function = lambda: func_but.storeAnimeButton(root, frm, pop, obj, data, labels, showListbox, showMap),\n",
      "                              ^^^^^^^^^^^^^^^^^^^^^^^^^^^^^^^^^^^^^^^^^^^^^^^^^^^^^^^^^^^^^^^^^^^^^^^^^^^^^^^^^^\n",
      "  File \"d:\\Programming\\Tkinter exe\\button_functions.py\", line 268, in storeAnimeButton\n",
      "    showNumSize[f\"{title}\"] = size\n",
      "    ~~~~~~~~~~~^^^^^^^^^^^^\n",
      "TypeError: list indices must be integers or slices, not str\n"
     ]
    }
   ],
   "source": [
    "from button_functions import Button_functions\n",
    "from functions import Functions\n",
    "from popups import Popups\n",
    "from tkinter import *\n",
    "import os\n",
    "\n",
    "\n",
    "INFOFILE = 'information.json'\n",
    "obj = Functions(INFOFILE)\n",
    "func_but = Button_functions(INFOFILE)\n",
    "pop = Popups(INFOFILE)\n",
    "root, frm, labels = obj.rootInit()\n",
    "if obj.checkInfofileInit():\n",
    "    data = obj.getInfofileData()\n",
    "phoneDir = data['Phone Directory']\n",
    "\n",
    "\n",
    "if obj.validAniyomiDirectory(frm, obj, func_but, pop, phoneDir, labels):\n",
    "    invalidTitles, duplicateTitles, emptyTitles, showMap = obj.getValidShowMap(frm, obj, func_but, pop, phoneDir, labels)\n",
    "    if showMap:\n",
    "        if duplicateTitles:\n",
    "            obj.cullDuplicates(pop, frm, duplicateTitles)\n",
    "        if emptyTitles:\n",
    "            obj.cullEmptyShows(frm, pop, data, emptyTitles)\n",
    "        if invalidTitles:\n",
    "            for title in invalidTitles:\n",
    "                print(f\"INVALID TITLE: {title}\")\n",
    "                \n",
    "        titles = []\n",
    "        for show in showMap.keys():\n",
    "            print(showMap[show])\n",
    "            titles.append(showMap[show])\n",
    "    else:\n",
    "        root.destroy()\n",
    "else:\n",
    "    root.destroy()\n",
    "    # Isolate the valid titles\n",
    "    \n",
    "# make a listbox of shows\n",
    "showListbox = obj.gridListbox(\n",
    "        frm,\n",
    "        titles,\n",
    "        r = 0,\n",
    "        c = 0\n",
    "    )\n",
    "storeButton = obj.gridButton(\n",
    "        frm,\n",
    "        button_lab = \"Store\",\n",
    "        button_function = lambda: func_but.storeAnimeButton(root, frm, pop, obj, data, labels, showListbox, showMap),\n",
    "        r = 1,\n",
    "        c = 0\n",
    ")\n",
    "root.mainloop()"
   ]
  },
  {
   "cell_type": "code",
   "execution_count": 3,
   "metadata": {},
   "outputs": [
    {
     "name": "stdout",
     "output_type": "stream",
     "text": [
      "The following titles are duplicates of existing titles.\n",
      "\n",
      "- Elite 10\n",
      "- fate Reawakening\n",
      "- God is dead\n",
      "\n",
      "Would you like to delete them?\n"
     ]
    },
    {
     "ename": "TclError",
     "evalue": "can't invoke \"tk_messageBox\" command: application has been destroyed",
     "output_type": "error",
     "traceback": [
      "\u001b[1;31m---------------------------------------------------------------------------\u001b[0m",
      "\u001b[1;31mTclError\u001b[0m                                  Traceback (most recent call last)",
      "Cell \u001b[1;32mIn[3], line 6\u001b[0m\n\u001b[0;32m      4\u001b[0m \u001b[38;5;28;01mif\u001b[39;00m showMap:\n\u001b[0;32m      5\u001b[0m     \u001b[38;5;28;01mif\u001b[39;00m duplicateTitles:\n\u001b[1;32m----> 6\u001b[0m         \u001b[43mobj\u001b[49m\u001b[38;5;241;43m.\u001b[39;49m\u001b[43mcullDuplicates\u001b[49m\u001b[43m(\u001b[49m\u001b[43mpop\u001b[49m\u001b[43m,\u001b[49m\u001b[43m \u001b[49m\u001b[43mfrm\u001b[49m\u001b[43m,\u001b[49m\u001b[43m \u001b[49m\u001b[43mduplicateTitles\u001b[49m\u001b[43m)\u001b[49m\n\u001b[0;32m      7\u001b[0m     \u001b[38;5;28;01mif\u001b[39;00m emptyTitles:\n\u001b[0;32m      8\u001b[0m         obj\u001b[38;5;241m.\u001b[39mcullEmptyShows(frm, pop, data, emptyTitles)\n",
      "File \u001b[1;32md:\\Programming\\Tkinter exe\\functions.py:315\u001b[0m, in \u001b[0;36mFunctions.cullDuplicates\u001b[1;34m(self, pop, frm, duplicateShows)\u001b[0m\n\u001b[0;32m    313\u001b[0m duplicateMessage \u001b[38;5;241m=\u001b[39m \u001b[38;5;28mself\u001b[39m\u001b[38;5;241m.\u001b[39mgetDuplicateShowMessage(duplicateShows)\n\u001b[0;32m    314\u001b[0m \u001b[38;5;28mprint\u001b[39m(duplicateMessage)\n\u001b[1;32m--> 315\u001b[0m \u001b[38;5;28;01mif\u001b[39;00m \u001b[43mpop\u001b[49m\u001b[38;5;241;43m.\u001b[39;49m\u001b[43mduplicatesFound\u001b[49m\u001b[43m(\u001b[49m\u001b[43mfrm\u001b[49m\u001b[43m,\u001b[49m\u001b[43m \u001b[49m\u001b[43mduplicateMessage\u001b[49m\u001b[43m)\u001b[49m:\n\u001b[0;32m    316\u001b[0m     text \u001b[38;5;241m=\u001b[39m \u001b[38;5;124m\"\u001b[39m\u001b[38;5;124mWould you like to delete from \u001b[39m\u001b[38;5;124m'\u001b[39m\u001b[38;5;124mlocal anime\u001b[39m\u001b[38;5;124m'\u001b[39m\u001b[38;5;124m?\u001b[39m\u001b[38;5;130;01m\\n\u001b[39;00m\u001b[38;5;124m(hit no to delete from downloads or cancel to cancel deletion)\u001b[39m\u001b[38;5;124m\"\u001b[39m\n\u001b[0;32m    317\u001b[0m     \u001b[38;5;28;01mif\u001b[39;00m pop\u001b[38;5;241m.\u001b[39mdirToCullDups(frm, text):\n",
      "File \u001b[1;32md:\\Programming\\Tkinter exe\\popups.py:135\u001b[0m, in \u001b[0;36mPopups.duplicatesFound\u001b[1;34m(self, frm, duplicateMessage)\u001b[0m\n\u001b[0;32m    128\u001b[0m \u001b[38;5;28;01mdef\u001b[39;00m \u001b[38;5;21mduplicatesFound\u001b[39m(\u001b[38;5;28mself\u001b[39m, frm, duplicateMessage):\n\u001b[0;32m    129\u001b[0m \u001b[38;5;250m    \u001b[39m\u001b[38;5;124;03m\"\"\"_summary_ Initiates a popup asking if the user would like to delete the duplicate shows\u001b[39;00m\n\u001b[0;32m    130\u001b[0m \u001b[38;5;124;03m        frm (frm): The framework to show the popup over\u001b[39;00m\n\u001b[0;32m    131\u001b[0m \u001b[38;5;124;03m    Returns:\u001b[39;00m\n\u001b[0;32m    132\u001b[0m \u001b[38;5;124;03m        Choice (Boolean): The choice the user picks\u001b[39;00m\n\u001b[0;32m    133\u001b[0m \u001b[38;5;124;03m    \"\"\"\u001b[39;00m\n\u001b[1;32m--> 135\u001b[0m     confirm_show_deletion \u001b[38;5;241m=\u001b[39m \u001b[43mmessagebox\u001b[49m\u001b[38;5;241;43m.\u001b[39;49m\u001b[43maskyesno\u001b[49m\u001b[43m(\u001b[49m\n\u001b[0;32m    136\u001b[0m \u001b[43m        \u001b[49m\u001b[43mtitle\u001b[49m\u001b[38;5;241;43m=\u001b[39;49m\u001b[38;5;124;43m\"\u001b[39;49m\u001b[38;5;124;43mDuplicate titles found\u001b[39;49m\u001b[38;5;124;43m\"\u001b[39;49m\u001b[43m,\u001b[49m\n\u001b[0;32m    137\u001b[0m \u001b[43m        \u001b[49m\u001b[43mmessage\u001b[49m\u001b[38;5;241;43m=\u001b[39;49m\u001b[43mduplicateMessage\u001b[49m\u001b[43m,\u001b[49m\n\u001b[0;32m    138\u001b[0m \u001b[43m        \u001b[49m\u001b[43micon\u001b[49m\u001b[38;5;241;43m=\u001b[39;49m\u001b[38;5;124;43m\"\u001b[39;49m\u001b[38;5;124;43mquestion\u001b[39;49m\u001b[38;5;124;43m\"\u001b[39;49m\u001b[43m,\u001b[49m\n\u001b[0;32m    139\u001b[0m \u001b[43m        \u001b[49m\u001b[43mparent\u001b[49m\u001b[38;5;241;43m=\u001b[39;49m\u001b[43mfrm\u001b[49m\u001b[43m,\u001b[49m\n\u001b[0;32m    140\u001b[0m \u001b[43m        \u001b[49m\u001b[43mdefault\u001b[49m\u001b[38;5;241;43m=\u001b[39;49m\u001b[38;5;124;43m\"\u001b[39;49m\u001b[38;5;124;43mno\u001b[39;49m\u001b[38;5;124;43m\"\u001b[39;49m\n\u001b[0;32m    141\u001b[0m \u001b[43m    \u001b[49m\u001b[43m)\u001b[49m\n\u001b[0;32m    142\u001b[0m     \u001b[38;5;28;01mreturn\u001b[39;00m confirm_show_deletion\n",
      "File \u001b[1;32mC:\\Program Files\\WindowsApps\\PythonSoftwareFoundation.Python.3.11_3.11.2544.0_x64__qbz5n2kfra8p0\\Lib\\tkinter\\messagebox.py:114\u001b[0m, in \u001b[0;36maskyesno\u001b[1;34m(title, message, **options)\u001b[0m\n\u001b[0;32m    112\u001b[0m \u001b[38;5;28;01mdef\u001b[39;00m \u001b[38;5;21maskyesno\u001b[39m(title\u001b[38;5;241m=\u001b[39m\u001b[38;5;28;01mNone\u001b[39;00m, message\u001b[38;5;241m=\u001b[39m\u001b[38;5;28;01mNone\u001b[39;00m, \u001b[38;5;241m*\u001b[39m\u001b[38;5;241m*\u001b[39moptions):\n\u001b[0;32m    113\u001b[0m     \u001b[38;5;124m\"\u001b[39m\u001b[38;5;124mAsk a question; return true if the answer is yes\u001b[39m\u001b[38;5;124m\"\u001b[39m\n\u001b[1;32m--> 114\u001b[0m     s \u001b[38;5;241m=\u001b[39m \u001b[43m_show\u001b[49m\u001b[43m(\u001b[49m\u001b[43mtitle\u001b[49m\u001b[43m,\u001b[49m\u001b[43m \u001b[49m\u001b[43mmessage\u001b[49m\u001b[43m,\u001b[49m\u001b[43m \u001b[49m\u001b[43mQUESTION\u001b[49m\u001b[43m,\u001b[49m\u001b[43m \u001b[49m\u001b[43mYESNO\u001b[49m\u001b[43m,\u001b[49m\u001b[43m \u001b[49m\u001b[38;5;241;43m*\u001b[39;49m\u001b[38;5;241;43m*\u001b[39;49m\u001b[43moptions\u001b[49m\u001b[43m)\u001b[49m\n\u001b[0;32m    115\u001b[0m     \u001b[38;5;28;01mreturn\u001b[39;00m s \u001b[38;5;241m==\u001b[39m YES\n",
      "File \u001b[1;32mC:\\Program Files\\WindowsApps\\PythonSoftwareFoundation.Python.3.11_3.11.2544.0_x64__qbz5n2kfra8p0\\Lib\\tkinter\\messagebox.py:76\u001b[0m, in \u001b[0;36m_show\u001b[1;34m(title, message, _icon, _type, **options)\u001b[0m\n\u001b[0;32m     74\u001b[0m \u001b[38;5;28;01mif\u001b[39;00m title:   options[\u001b[38;5;124m\"\u001b[39m\u001b[38;5;124mtitle\u001b[39m\u001b[38;5;124m\"\u001b[39m] \u001b[38;5;241m=\u001b[39m title\n\u001b[0;32m     75\u001b[0m \u001b[38;5;28;01mif\u001b[39;00m message: options[\u001b[38;5;124m\"\u001b[39m\u001b[38;5;124mmessage\u001b[39m\u001b[38;5;124m\"\u001b[39m] \u001b[38;5;241m=\u001b[39m message\n\u001b[1;32m---> 76\u001b[0m res \u001b[38;5;241m=\u001b[39m \u001b[43mMessage\u001b[49m\u001b[43m(\u001b[49m\u001b[38;5;241;43m*\u001b[39;49m\u001b[38;5;241;43m*\u001b[39;49m\u001b[43moptions\u001b[49m\u001b[43m)\u001b[49m\u001b[38;5;241;43m.\u001b[39;49m\u001b[43mshow\u001b[49m\u001b[43m(\u001b[49m\u001b[43m)\u001b[49m\n\u001b[0;32m     77\u001b[0m \u001b[38;5;66;03m# In some Tcl installations, yes/no is converted into a boolean.\u001b[39;00m\n\u001b[0;32m     78\u001b[0m \u001b[38;5;28;01mif\u001b[39;00m \u001b[38;5;28misinstance\u001b[39m(res, \u001b[38;5;28mbool\u001b[39m):\n",
      "File \u001b[1;32mC:\\Program Files\\WindowsApps\\PythonSoftwareFoundation.Python.3.11_3.11.2544.0_x64__qbz5n2kfra8p0\\Lib\\tkinter\\commondialog.py:45\u001b[0m, in \u001b[0;36mDialog.show\u001b[1;34m(self, **options)\u001b[0m\n\u001b[0;32m     43\u001b[0m \u001b[38;5;28;01mtry\u001b[39;00m:\n\u001b[0;32m     44\u001b[0m     \u001b[38;5;28mself\u001b[39m\u001b[38;5;241m.\u001b[39m_test_callback(master)  \u001b[38;5;66;03m# The function below is replaced for some tests.\u001b[39;00m\n\u001b[1;32m---> 45\u001b[0m     s \u001b[38;5;241m=\u001b[39m \u001b[43mmaster\u001b[49m\u001b[38;5;241;43m.\u001b[39;49m\u001b[43mtk\u001b[49m\u001b[38;5;241;43m.\u001b[39;49m\u001b[43mcall\u001b[49m\u001b[43m(\u001b[49m\u001b[38;5;28;43mself\u001b[39;49m\u001b[38;5;241;43m.\u001b[39;49m\u001b[43mcommand\u001b[49m\u001b[43m,\u001b[49m\u001b[43m \u001b[49m\u001b[38;5;241;43m*\u001b[39;49m\u001b[43mmaster\u001b[49m\u001b[38;5;241;43m.\u001b[39;49m\u001b[43m_options\u001b[49m\u001b[43m(\u001b[49m\u001b[38;5;28;43mself\u001b[39;49m\u001b[38;5;241;43m.\u001b[39;49m\u001b[43moptions\u001b[49m\u001b[43m)\u001b[49m\u001b[43m)\u001b[49m\n\u001b[0;32m     46\u001b[0m     s \u001b[38;5;241m=\u001b[39m \u001b[38;5;28mself\u001b[39m\u001b[38;5;241m.\u001b[39m_fixresult(master, s)\n\u001b[0;32m     47\u001b[0m \u001b[38;5;28;01mfinally\u001b[39;00m:\n",
      "\u001b[1;31mTclError\u001b[0m: can't invoke \"tk_messageBox\" command: application has been destroyed"
     ]
    }
   ],
   "source": [
    "phoneDir = data['Phone Directory']\n",
    "if obj.validAniyomiDirectory(frm, obj, func_but, pop, phoneDir, labels):\n",
    "    invalidTitles, duplicateTitles, emptyTitles, showMap = obj.getValidShowMap(frm, obj, func_but, pop, phoneDir, labels)\n",
    "    if showMap:\n",
    "        if duplicateTitles:\n",
    "            obj.cullDuplicates(pop, frm, duplicateTitles)\n",
    "        if emptyTitles:\n",
    "            obj.cullEmptyShows(frm, pop, data, emptyTitles)\n",
    "        if invalidTitles:\n",
    "            for title in invalidTitles:\n",
    "                print(f\"INVALID TITLE: {title}\")\n",
    "                \n",
    "        titles = []\n",
    "        for show in showMap.keys():\n",
    "            print(showMap[show])\n",
    "            titles.append(showMap[show])\n",
    "    else:\n",
    "        root.destroy()\n",
    "else:\n",
    "    root.destroy()\n",
    "    # Isolate the valid titles\n"
   ]
  },
  {
   "cell_type": "code",
   "execution_count": null,
   "metadata": {},
   "outputs": [],
   "source": [
    "#Listbox Update Function\n",
    "def updateListbox(self, frm, pop, obj, data, labels, showListbox):\n",
    "    showMap = func_but.storeAnimeButton(frm, pop, obj, data, showListbox)"
   ]
  },
  {
   "cell_type": "markdown",
   "metadata": {},
   "source": [
    "## Listbox"
   ]
  },
  {
   "cell_type": "code",
   "execution_count": null,
   "metadata": {},
   "outputs": [
    {
     "ename": "TypeError",
     "evalue": "updateListbox() missing 1 required positional argument: 'showListbox'",
     "output_type": "error",
     "traceback": [
      "\u001b[1;31m---------------------------------------------------------------------------\u001b[0m",
      "\u001b[1;31mTypeError\u001b[0m                                 Traceback (most recent call last)",
      "Cell \u001b[1;32mIn[5], line 12\u001b[0m\n\u001b[0;32m      1\u001b[0m \u001b[38;5;66;03m# make a listbox of shows\u001b[39;00m\n\u001b[0;32m      2\u001b[0m showListbox \u001b[38;5;241m=\u001b[39m obj\u001b[38;5;241m.\u001b[39mgridListbox(\n\u001b[0;32m      3\u001b[0m         frm,\n\u001b[0;32m      4\u001b[0m         titles, \n\u001b[0;32m      5\u001b[0m         r \u001b[38;5;241m=\u001b[39m \u001b[38;5;241m0\u001b[39m,\n\u001b[0;32m      6\u001b[0m         c \u001b[38;5;241m=\u001b[39m \u001b[38;5;241m0\u001b[39m\n\u001b[0;32m      7\u001b[0m     )\n\u001b[0;32m      8\u001b[0m storeButton \u001b[38;5;241m=\u001b[39m obj\u001b[38;5;241m.\u001b[39mgridButton(\n\u001b[0;32m      9\u001b[0m         frm,\n\u001b[0;32m     10\u001b[0m         button_lab \u001b[38;5;241m=\u001b[39m \u001b[38;5;124m\"\u001b[39m\u001b[38;5;124mStore\u001b[39m\u001b[38;5;124m\"\u001b[39m,\n\u001b[0;32m     11\u001b[0m         \u001b[38;5;66;03m# button_function = lambda: func_but.storeAnimeButton(frm, pop, obj, data, showListbox),\u001b[39;00m\n\u001b[1;32m---> 12\u001b[0m         button_function \u001b[38;5;241m=\u001b[39m \u001b[43mupdateListbox\u001b[49m\u001b[43m(\u001b[49m\u001b[43mfrm\u001b[49m\u001b[43m,\u001b[49m\u001b[43m \u001b[49m\u001b[43mpop\u001b[49m\u001b[43m,\u001b[49m\u001b[43m \u001b[49m\u001b[43mobj\u001b[49m\u001b[43m,\u001b[49m\u001b[43m \u001b[49m\u001b[43mdata\u001b[49m\u001b[43m,\u001b[49m\u001b[43m \u001b[49m\u001b[43mlabels\u001b[49m\u001b[43m,\u001b[49m\u001b[43m \u001b[49m\u001b[43mshowListbox\u001b[49m\u001b[43m)\u001b[49m,\n\u001b[0;32m     13\u001b[0m         r \u001b[38;5;241m=\u001b[39m \u001b[38;5;241m1\u001b[39m,\n\u001b[0;32m     14\u001b[0m         c \u001b[38;5;241m=\u001b[39m \u001b[38;5;241m0\u001b[39m\n\u001b[0;32m     15\u001b[0m )\n",
      "\u001b[1;31mTypeError\u001b[0m: updateListbox() missing 1 required positional argument: 'showListbox'"
     ]
    },
    {
     "ename": "",
     "evalue": "",
     "output_type": "error",
     "traceback": [
      "\u001b[1;31mThe Kernel crashed while executing code in the current cell or a previous cell. \n",
      "\u001b[1;31mPlease review the code in the cell(s) to identify a possible cause of the failure. \n",
      "\u001b[1;31mClick <a href='https://aka.ms/vscodeJupyterKernelCrash'>here</a> for more info. \n",
      "\u001b[1;31mView Jupyter <a href='command:jupyter.viewOutput'>log</a> for further details."
     ]
    }
   ],
   "source": [
    "# make a listbox of shows\n",
    "showListbox = obj.gridListbox(\n",
    "        frm,\n",
    "        titles, \n",
    "        r = 0,\n",
    "        c = 0\n",
    "    )\n",
    "storeButton = obj.gridButton(\n",
    "        frm,\n",
    "        button_lab = \"Store\",\n",
    "        # button_function = lambda: func_but.storeAnimeButton(frm, pop, obj, data, showListbox),\n",
    "        button_function = updateListbox(frm, pop, obj, data, labels, showListbox),\n",
    "        r = 1,\n",
    "        c = 0\n",
    ")"
   ]
  },
  {
   "cell_type": "markdown",
   "metadata": {},
   "source": [
    "## Row 1"
   ]
  },
  {
   "cell_type": "code",
   "execution_count": null,
   "metadata": {},
   "outputs": [],
   "source": [
    "# Entry box\n",
    "pass"
   ]
  },
  {
   "cell_type": "code",
   "execution_count": null,
   "metadata": {},
   "outputs": [],
   "source": [
    "root.mainloop()"
   ]
  },
  {
   "cell_type": "code",
   "execution_count": null,
   "metadata": {},
   "outputs": [],
   "source": [
    "\n",
    "# Make a listbox\n",
    "# make an entrybox\n",
    "# make a transfer button\n",
    "    # make a popup if the user tries to store anime that's too big for the folder to handle\n",
    "# make a progress bar for ongoing transfer\n",
    "    # Make a number of files transfered\n",
    "    # make a number of the amount of space left to be transfered\n",
    "    # make an estimated time\n",
    "    # Make an ongoing time\n",
    "    # Make a popup for if the user tries to leave the window mid-transfer\n"
   ]
  }
 ],
 "metadata": {
  "kernelspec": {
   "display_name": "Python 3",
   "language": "python",
   "name": "python3"
  },
  "language_info": {
   "codemirror_mode": {
    "name": "ipython",
    "version": 3
   },
   "file_extension": ".py",
   "mimetype": "text/x-python",
   "name": "python",
   "nbconvert_exporter": "python",
   "pygments_lexer": "ipython3",
   "version": "3.11.9"
  }
 },
 "nbformat": 4,
 "nbformat_minor": 2
}
