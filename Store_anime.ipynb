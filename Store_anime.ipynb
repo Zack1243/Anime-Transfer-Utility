{
 "cells": [
  {
   "cell_type": "markdown",
   "metadata": {},
   "source": [
    "# Import Libraries"
   ]
  },
  {
   "cell_type": "code",
   "execution_count": 1,
   "metadata": {},
   "outputs": [],
   "source": [
    "from button_functions import Button_functions\n",
    "from functions import Functions\n",
    "from popups import Popups\n",
    "from tkinter import *\n",
    "import os\n",
    "INFOFILE = 'information.json'"
   ]
  },
  {
   "cell_type": "markdown",
   "metadata": {},
   "source": [
    "# Initialize"
   ]
  },
  {
   "cell_type": "code",
   "execution_count": 2,
   "metadata": {},
   "outputs": [
    {
     "name": "stdout",
     "output_type": "stream",
     "text": [
      "pc directory: PY_VAR0\n"
     ]
    }
   ],
   "source": [
    "obj = Functions(INFOFILE)\n",
    "func_but = Button_functions(INFOFILE)\n",
    "pop = Popups(INFOFILE)\n",
    "root, frm, labels = obj.rootInit()\n",
    "if obj.checkInfofileInit():\n",
    "    data = obj.getInfofileData()"
   ]
  },
  {
   "cell_type": "code",
   "execution_count": 3,
   "metadata": {},
   "outputs": [
    {
     "name": "stdout",
     "output_type": "stream",
     "text": [
      "Elite 10\n",
      "fate Reawakening\n",
      "God is dead\n",
      "Elite 10\n",
      "Family guy\n",
      "Heroes\n",
      "Planetary nebula\n",
      "fate Reawakening\n",
      "God is dead\n",
      "Keyboard masters\n",
      "This world is beautiful\n",
      "video game highschool\n"
     ]
    }
   ],
   "source": [
    "phoneDir = data['Phone Directory']\n",
    "if obj.validAniyomiDirectory(frm, obj, func_but, pop, phoneDir, labels):\n",
    "    invalidTitles, duplicateTitles, emptyTitles, showMap = obj.getValidShowMap(frm, obj, func_but, pop, phoneDir, labels)\n",
    "    if showMap:\n",
    "        if duplicateTitles:\n",
    "            obj.cullDuplicates(pop, frm, duplicateTitles)\n",
    "        if emptyTitles:\n",
    "            obj.cullEmptyShows(frm, pop, data, emptyTitles)\n",
    "        if invalidTitles:\n",
    "            for title in invalidTitles:\n",
    "                print(f\"INVALID TITLE: {title}\")\n",
    "                \n",
    "        titles = []\n",
    "        for show in showMap.keys():\n",
    "            print(showMap[show])\n",
    "            titles.append(showMap[show])\n",
    "    else:\n",
    "        root.destroy()\n",
    "        \n",
    "    # Isolate the valid titles\n"
   ]
  },
  {
   "cell_type": "markdown",
   "metadata": {},
   "source": [
    "## Listbox"
   ]
  },
  {
   "cell_type": "code",
   "execution_count": 4,
   "metadata": {},
   "outputs": [],
   "source": [
    "# make a listbox of shows\n",
    "showListbox = obj.gridListbox(\n",
    "        frm,\n",
    "        titles, \n",
    "        r = 0,\n",
    "        c = 0\n",
    "    )\n",
    "storeButton = obj.gridButton(\n",
    "        frm,\n",
    "        button_lab = \"Store\",\n",
    "        button_function = lambda: func_but.storeAnimeButton(frm, pop, obj, data, showListbox),\n",
    "        r = 1,\n",
    "        c = 0\n",
    ")"
   ]
  },
  {
   "cell_type": "markdown",
   "metadata": {},
   "source": [
    "### Store Anime"
   ]
  },
  {
   "cell_type": "code",
   "execution_count": null,
   "metadata": {},
   "outputs": [],
   "source": []
  },
  {
   "cell_type": "markdown",
   "metadata": {},
   "source": [
    "## Row 1"
   ]
  },
  {
   "cell_type": "code",
   "execution_count": 5,
   "metadata": {},
   "outputs": [],
   "source": [
    "# Entry box\n",
    "pass"
   ]
  },
  {
   "cell_type": "markdown",
   "metadata": {},
   "source": [
    "## Row 2"
   ]
  },
  {
   "cell_type": "code",
   "execution_count": 6,
   "metadata": {},
   "outputs": [],
   "source": [
    "# Button to transfer stuff\n",
    "pass"
   ]
  },
  {
   "cell_type": "markdown",
   "metadata": {},
   "source": [
    "## Row 3"
   ]
  },
  {
   "cell_type": "code",
   "execution_count": 7,
   "metadata": {},
   "outputs": [],
   "source": [
    "pass"
   ]
  },
  {
   "cell_type": "code",
   "execution_count": 8,
   "metadata": {},
   "outputs": [],
   "source": [
    "root.mainloop()"
   ]
  },
  {
   "cell_type": "code",
   "execution_count": 9,
   "metadata": {},
   "outputs": [],
   "source": [
    "\n",
    "# Make a listbox\n",
    "# make an entrybox\n",
    "# make a transfer button\n",
    "    # make a popup if the user tries to store anime that's too big for the folder to handle\n",
    "# make a progress bar for ongoing transfer\n",
    "    # Make a number of files transfered\n",
    "    # make a number of the amount of space left to be transfered\n",
    "    # make an estimated time\n",
    "    # Make an ongoing time\n",
    "    # Make a popup for if the user tries to leave the window mid-transfer\n"
   ]
  }
 ],
 "metadata": {
  "kernelspec": {
   "display_name": "Python 3",
   "language": "python",
   "name": "python3"
  },
  "language_info": {
   "codemirror_mode": {
    "name": "ipython",
    "version": 3
   },
   "file_extension": ".py",
   "mimetype": "text/x-python",
   "name": "python",
   "nbconvert_exporter": "python",
   "pygments_lexer": "ipython3",
   "version": "3.11.9"
  }
 },
 "nbformat": 4,
 "nbformat_minor": 2
}
