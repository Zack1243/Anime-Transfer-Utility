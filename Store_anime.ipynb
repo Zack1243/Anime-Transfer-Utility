{
 "cells": [
  {
   "cell_type": "markdown",
   "metadata": {},
   "source": [
    "# Import Libraries"
   ]
  },
  {
   "cell_type": "code",
   "execution_count": 1,
   "metadata": {},
   "outputs": [],
   "source": [
    "from button_functions import Button_functions\n",
    "from functions import Functions\n",
    "from popups import Popups\n",
    "from tkinter import *\n",
    "import os\n",
    "INFOFILE = 'information.json'"
   ]
  },
  {
   "cell_type": "markdown",
   "metadata": {},
   "source": [
    "# Initialize"
   ]
  },
  {
   "cell_type": "code",
   "execution_count": 2,
   "metadata": {},
   "outputs": [
    {
     "name": "stdout",
     "output_type": "stream",
     "text": [
      "pc directory: PY_VAR0\n"
     ]
    }
   ],
   "source": [
    "obj = Functions(INFOFILE)\n",
    "func_but = Button_functions(INFOFILE)\n",
    "pop = Popups(INFOFILE)\n",
    "root, frm, labels = obj.rootInit()\n",
    "if obj.checkInfofileInit():\n",
    "    data = obj.getInfofileData()\n"
   ]
  },
  {
   "cell_type": "code",
   "execution_count": null,
   "metadata": {},
   "outputs": [],
   "source": [
    "phoneDir = data['Phone Directory']\n",
    "localAnimeDir = os.path.join(str(phoneDir), \"localanime\").replace(\"/\", \"\\\\\")\n",
    "localAnimeDirs = [os.path.join(str(localAnimeDir), item).replace(\"/\", \"\\\\\") for item in os.listdir(localAnimeDir)]\n",
    "downloadsDir = os.path.join(str(phoneDir), \"downloads\").replace(\"/\", \"\\\\\")\n",
    "all_items = os.listdir(downloadsDir)\n",
    "sources = [item for item in all_items if os.path.isdir(os.path.join(downloadsDir, item))]\n",
    "sourceDirs = []\n",
    "\n",
    "for source in sources:\n",
    "    animeSource = os.path.join(downloadsDir, source).replace(\"/\", \"\\\\\")\n",
    "    if os.path.exists(animeSource):\n",
    "        sourceDirs.append(os.path.join(downloadsDir, source).replace(\"/\", \"\\\\\"))\n",
    "    # TODO: add an else statement and initiate a popup warning the user that a directory cannot be opened\n",
    "\n",
    "\n",
    "\n",
    "showMap = obj.getShowMap(frm, pop, localAnimeDirs, downloadsDir)\n",
    "\n",
    "# Need to make a map for the title directories and their title\n",
    "\n",
    "\n",
    "# Get localanime directory\n",
    "if obj.validAniyomiDirectory(frm, obj, func_but, pop, phoneDir, labels):\n",
    "    \n",
    "    # Cull the empty shows\n",
    "    localAnimeDirs = obj.cullEmptyShows(phoneDir, frm, pop, data)\n",
    "        \n",
    "    # Isolate the valid titles\n",
    "    titles = [show.split('\\\\')[-1] for show in localAnimeDirs]\n",
    "\n",
    "    # make a listbox of shows\n",
    "    showListbox = obj.gridListbox(\n",
    "            frm,\n",
    "            titles, \n",
    "            r = 0,\n",
    "            c = 0\n",
    "        )\n",
    "\n",
    "\n",
    "    storeButton = obj.gridButton(\n",
    "            frm,\n",
    "            button_lab = \"Store\",\n",
    "            button_function = lambda: func_but.storeAnimeButton(frm, pop, obj, data, showListbox),\n",
    "            r = 1,\n",
    "            c = 0\n",
    "        \n",
    "        \n",
    "    )"
   ]
  },
  {
   "cell_type": "markdown",
   "metadata": {},
   "source": [
    "## Listbox"
   ]
  },
  {
   "cell_type": "markdown",
   "metadata": {},
   "source": [
    "# Error Popup Windows"
   ]
  },
  {
   "cell_type": "markdown",
   "metadata": {},
   "source": [
    "## Invalid Phone Directory"
   ]
  },
  {
   "cell_type": "code",
   "execution_count": null,
   "metadata": {},
   "outputs": [],
   "source": []
  },
  {
   "cell_type": "markdown",
   "metadata": {},
   "source": [
    "## Functions"
   ]
  },
  {
   "cell_type": "markdown",
   "metadata": {},
   "source": [
    "### Store Anime"
   ]
  },
  {
   "cell_type": "code",
   "execution_count": null,
   "metadata": {},
   "outputs": [],
   "source": []
  },
  {
   "cell_type": "markdown",
   "metadata": {},
   "source": [
    "## Delete Folders"
   ]
  },
  {
   "cell_type": "markdown",
   "metadata": {},
   "source": [
    "# Button Functions"
   ]
  },
  {
   "cell_type": "markdown",
   "metadata": {},
   "source": [
    "## Popup"
   ]
  },
  {
   "cell_type": "markdown",
   "metadata": {},
   "source": [
    "# Buttons"
   ]
  },
  {
   "cell_type": "markdown",
   "metadata": {},
   "source": [
    "## Row 0"
   ]
  },
  {
   "cell_type": "code",
   "execution_count": null,
   "metadata": {},
   "outputs": [],
   "source": []
  },
  {
   "cell_type": "markdown",
   "metadata": {},
   "source": [
    "## Row 1"
   ]
  },
  {
   "cell_type": "code",
   "execution_count": 4,
   "metadata": {},
   "outputs": [],
   "source": [
    "# Entry box\n",
    "pass"
   ]
  },
  {
   "cell_type": "markdown",
   "metadata": {},
   "source": [
    "## Row 2"
   ]
  },
  {
   "cell_type": "code",
   "execution_count": 5,
   "metadata": {},
   "outputs": [],
   "source": [
    "# Button to transfer stuff\n",
    "pass"
   ]
  },
  {
   "cell_type": "markdown",
   "metadata": {},
   "source": [
    "## Row 3"
   ]
  },
  {
   "cell_type": "code",
   "execution_count": 6,
   "metadata": {},
   "outputs": [],
   "source": [
    "pass"
   ]
  },
  {
   "cell_type": "code",
   "execution_count": 7,
   "metadata": {},
   "outputs": [],
   "source": [
    "root.mainloop()"
   ]
  },
  {
   "cell_type": "code",
   "execution_count": 8,
   "metadata": {},
   "outputs": [],
   "source": [
    "\n",
    "# Make a listbox\n",
    "# make an entrybox\n",
    "# make a transfer button\n",
    "    # make a popup if the user tries to store anime that's too big for the folder to handle\n",
    "# make a progress bar for ongoing transfer\n",
    "    # Make a number of files transfered\n",
    "    # make a number of the amount of space left to be transfered\n",
    "    # make an estimated time\n",
    "    # Make an ongoing time\n",
    "    # Make a popup for if the user tries to leave the window mid-transfer\n"
   ]
  }
 ],
 "metadata": {
  "kernelspec": {
   "display_name": "Python 3",
   "language": "python",
   "name": "python3"
  },
  "language_info": {
   "codemirror_mode": {
    "name": "ipython",
    "version": 3
   },
   "file_extension": ".py",
   "mimetype": "text/x-python",
   "name": "python",
   "nbconvert_exporter": "python",
   "pygments_lexer": "ipython3",
   "version": "3.11.9"
  }
 },
 "nbformat": 4,
 "nbformat_minor": 2
}
