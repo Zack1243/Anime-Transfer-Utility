{
 "cells": [
  {
   "cell_type": "markdown",
   "metadata": {},
   "source": [
    "# Import Libraries"
   ]
  },
  {
   "cell_type": "code",
   "execution_count": 1,
   "metadata": {},
   "outputs": [],
   "source": [
    "from button_functions import Button_functions\n",
    "from functions import Functions\n",
    "from popups import Popups\n",
    "from tkinter import *\n",
    "import os\n",
    "INFOFILE = 'information.json'"
   ]
  },
  {
   "cell_type": "markdown",
   "metadata": {},
   "source": [
    "# Initialize"
   ]
  },
  {
   "cell_type": "code",
   "execution_count": 1,
   "metadata": {},
   "outputs": [
    {
     "name": "stdout",
     "output_type": "stream",
     "text": [
      "pc directory: PY_VAR0\n",
      "fate Reawakening\n",
      "God is dead\n",
      "Keyboard masters\n",
      "This world is beautiful\n",
      "video game highschool\n",
      "(4,)\n",
      "Selected number of files: 1\n",
      "{'D:\\\\emulated Aniyomi Phone\\\\downloads\\\\Gogoanime (EN)\\\\fate Reawakening': 'fate Reawakening', 'D:\\\\emulated Aniyomi Phone\\\\downloads\\\\Gogoanime (EN)\\\\God is dead': 'God is dead', 'D:\\\\emulated Aniyomi Phone\\\\downloads\\\\more_tests (EN)\\\\Keyboard masters': 'Keyboard masters', 'D:\\\\emulated Aniyomi Phone\\\\downloads\\\\testing (EN)\\\\This world is beautiful': 'This world is beautiful', 'D:\\\\emulated Aniyomi Phone\\\\downloads\\\\testing (EN)\\\\video game highschool': 'video game highschool'}\n",
      "Beginning to store title: fate Reawakening\n",
      "Title directory: D:\\emulated Aniyomi Phone\\downloads\\Gogoanime (EN)\\fate Reawakening\n",
      "Title size: 146.16 MB\n",
      "(2, 3)\n",
      "Selected number of files: 2\n",
      "{'D:\\\\emulated Aniyomi Phone\\\\downloads\\\\Gogoanime (EN)\\\\fate Reawakening': 'fate Reawakening', 'D:\\\\emulated Aniyomi Phone\\\\downloads\\\\Gogoanime (EN)\\\\God is dead': 'God is dead', 'D:\\\\emulated Aniyomi Phone\\\\downloads\\\\more_tests (EN)\\\\Keyboard masters': 'Keyboard masters', 'D:\\\\emulated Aniyomi Phone\\\\downloads\\\\testing (EN)\\\\This world is beautiful': 'This world is beautiful', 'D:\\\\emulated Aniyomi Phone\\\\downloads\\\\testing (EN)\\\\video game highschool': 'video game highschool'}\n",
      "Beginning to store title: Keyboard masters\n",
      "Title directory: D:\\emulated Aniyomi Phone\\downloads\\more_tests (EN)\\Keyboard masters\n",
      "Title size: 146.16 MB\n",
      "Beginning to store title: God is dead\n",
      "Title directory: D:\\emulated Aniyomi Phone\\downloads\\Gogoanime (EN)\\God is dead\n",
      "Title size: 146.16 MB\n"
     ]
    }
   ],
   "source": [
    "from button_functions import Button_functions\n",
    "from functions import Functions\n",
    "from popups import Popups\n",
    "from tkinter import *\n",
    "import os\n",
    "\n",
    "\n",
    "INFOFILE = 'information.json'\n",
    "obj = Functions(INFOFILE)\n",
    "func_but = Button_functions(INFOFILE)\n",
    "pop = Popups(INFOFILE)\n",
    "root, frm, labels = obj.rootInit()\n",
    "if obj.checkInfofileInit():\n",
    "    data = obj.getInfofileData()\n",
    "phoneDir = data['Phone Directory']\n",
    "\n",
    "\n",
    "if obj.validAniyomiDirectory(frm, obj, func_but, pop, phoneDir, labels):\n",
    "    invalidTitles, duplicateTitles, emptyTitles, showMap = obj.getValidShowMap(frm, obj, func_but, pop, phoneDir, labels)\n",
    "    if showMap:\n",
    "        if duplicateTitles:\n",
    "            obj.cullDuplicates(pop, frm, duplicateTitles)\n",
    "        if emptyTitles:\n",
    "            obj.cullEmptyShows(frm, pop, data, emptyTitles)\n",
    "        if invalidTitles:\n",
    "            for title in invalidTitles:\n",
    "                print(f\"INVALID TITLE: {title}\")\n",
    "                \n",
    "        titles = []\n",
    "        for show in showMap.keys():\n",
    "            print(showMap[show])\n",
    "            titles.append(showMap[show])\n",
    "    else:\n",
    "        root.destroy()\n",
    "else:\n",
    "    root.destroy()\n",
    "    # Isolate the valid titles\n",
    "    \n",
    "# make a listbox of shows\n",
    "showListbox = obj.gridListbox(\n",
    "        frm,\n",
    "        titles,\n",
    "        r = 0,\n",
    "        c = 0\n",
    "    )\n",
    "storeButton = obj.gridButton(\n",
    "        frm,\n",
    "        button_lab = \"Store\",\n",
    "        button_function = lambda: func_but.storeAnimeButton(root, frm, pop, obj, data, labels, showListbox, showMap),\n",
    "        r = 1,\n",
    "        c = 0\n",
    ")\n",
    "root.mainloop()"
   ]
  },
  {
   "cell_type": "code",
   "execution_count": 3,
   "metadata": {},
   "outputs": [
    {
     "name": "stdout",
     "output_type": "stream",
     "text": [
      "fate Reawakening\n",
      "God is dead\n",
      "Keyboard masters\n",
      "This world is beautiful\n",
      "video game highschool\n"
     ]
    }
   ],
   "source": [
    "phoneDir = data['Phone Directory']\n",
    "if obj.validAniyomiDirectory(frm, obj, func_but, pop, phoneDir, labels):\n",
    "    invalidTitles, duplicateTitles, emptyTitles, showMap = obj.getValidShowMap(frm, obj, func_but, pop, phoneDir, labels)\n",
    "    if showMap:\n",
    "        if duplicateTitles:\n",
    "            obj.cullDuplicates(pop, frm, duplicateTitles)\n",
    "        if emptyTitles:\n",
    "            obj.cullEmptyShows(frm, pop, data, emptyTitles)\n",
    "        if invalidTitles:\n",
    "            for title in invalidTitles:\n",
    "                print(f\"INVALID TITLE: {title}\")\n",
    "                \n",
    "        titles = []\n",
    "        for show in showMap.keys():\n",
    "            print(showMap[show])\n",
    "            titles.append(showMap[show])\n",
    "    else:\n",
    "        root.destroy()\n",
    "else:\n",
    "    root.destroy()\n",
    "    # Isolate the valid titles\n"
   ]
  },
  {
   "cell_type": "code",
   "execution_count": 4,
   "metadata": {},
   "outputs": [],
   "source": [
    "#Listbox Update Function\n",
    "def updateListbox(self, frm, pop, obj, data, labels, showListbox):\n",
    "    showMap = func_but.storeAnimeButton(frm, pop, obj, data, showListbox)"
   ]
  },
  {
   "cell_type": "markdown",
   "metadata": {},
   "source": [
    "## Listbox"
   ]
  },
  {
   "cell_type": "code",
   "execution_count": 5,
   "metadata": {},
   "outputs": [
    {
     "ename": "TclError",
     "evalue": "can't invoke \"scrollbar\" command: application has been destroyed",
     "output_type": "error",
     "traceback": [
      "\u001b[1;31m---------------------------------------------------------------------------\u001b[0m",
      "\u001b[1;31mTclError\u001b[0m                                  Traceback (most recent call last)",
      "Cell \u001b[1;32mIn[5], line 2\u001b[0m\n\u001b[0;32m      1\u001b[0m \u001b[38;5;66;03m# make a listbox of shows\u001b[39;00m\n\u001b[1;32m----> 2\u001b[0m showListbox \u001b[38;5;241m=\u001b[39m \u001b[43mobj\u001b[49m\u001b[38;5;241;43m.\u001b[39;49m\u001b[43mgridListbox\u001b[49m\u001b[43m(\u001b[49m\n\u001b[0;32m      3\u001b[0m \u001b[43m        \u001b[49m\u001b[43mfrm\u001b[49m\u001b[43m,\u001b[49m\n\u001b[0;32m      4\u001b[0m \u001b[43m        \u001b[49m\u001b[43mtitles\u001b[49m\u001b[43m,\u001b[49m\u001b[43m \u001b[49m\n\u001b[0;32m      5\u001b[0m \u001b[43m        \u001b[49m\u001b[43mr\u001b[49m\u001b[43m \u001b[49m\u001b[38;5;241;43m=\u001b[39;49m\u001b[43m \u001b[49m\u001b[38;5;241;43m0\u001b[39;49m\u001b[43m,\u001b[49m\n\u001b[0;32m      6\u001b[0m \u001b[43m        \u001b[49m\u001b[43mc\u001b[49m\u001b[43m \u001b[49m\u001b[38;5;241;43m=\u001b[39;49m\u001b[43m \u001b[49m\u001b[38;5;241;43m0\u001b[39;49m\n\u001b[0;32m      7\u001b[0m \u001b[43m    \u001b[49m\u001b[43m)\u001b[49m\n\u001b[0;32m      8\u001b[0m storeButton \u001b[38;5;241m=\u001b[39m obj\u001b[38;5;241m.\u001b[39mgridButton(\n\u001b[0;32m      9\u001b[0m         frm,\n\u001b[0;32m     10\u001b[0m         button_lab \u001b[38;5;241m=\u001b[39m \u001b[38;5;124m\"\u001b[39m\u001b[38;5;124mStore\u001b[39m\u001b[38;5;124m\"\u001b[39m,\n\u001b[1;32m   (...)\u001b[0m\n\u001b[0;32m     14\u001b[0m         c \u001b[38;5;241m=\u001b[39m \u001b[38;5;241m0\u001b[39m\n\u001b[0;32m     15\u001b[0m )\n",
      "File \u001b[1;32md:\\Programming\\Tkinter exe\\functions.py:54\u001b[0m, in \u001b[0;36mFunctions.gridListbox\u001b[1;34m(self, frm, titles, r, c)\u001b[0m\n\u001b[0;32m     53\u001b[0m \u001b[38;5;28;01mdef\u001b[39;00m \u001b[38;5;21mgridListbox\u001b[39m(\u001b[38;5;28mself\u001b[39m, frm, titles, r, c):\n\u001b[1;32m---> 54\u001b[0m     my_scrollbar \u001b[38;5;241m=\u001b[39m \u001b[43mScrollbar\u001b[49m\u001b[43m(\u001b[49m\u001b[43mfrm\u001b[49m\u001b[43m,\u001b[49m\u001b[43m \u001b[49m\u001b[43morient\u001b[49m\u001b[38;5;241;43m=\u001b[39;49m\u001b[43mVERTICAL\u001b[49m\u001b[43m)\u001b[49m\n\u001b[0;32m     55\u001b[0m     my_listbox \u001b[38;5;241m=\u001b[39m Listbox(frm, width\u001b[38;5;241m=\u001b[39m\u001b[38;5;241m50\u001b[39m, yscrollcommand\u001b[38;5;241m=\u001b[39mmy_scrollbar\u001b[38;5;241m.\u001b[39mset, selectmode\u001b[38;5;241m=\u001b[39mMULTIPLE)\n\u001b[0;32m     56\u001b[0m     my_scrollbar\u001b[38;5;241m.\u001b[39mconfig(command\u001b[38;5;241m=\u001b[39mmy_listbox\u001b[38;5;241m.\u001b[39myview)\n",
      "File \u001b[1;32mC:\\Program Files\\WindowsApps\\PythonSoftwareFoundation.Python.3.11_3.11.2544.0_x64__qbz5n2kfra8p0\\Lib\\tkinter\\__init__.py:3582\u001b[0m, in \u001b[0;36mScrollbar.__init__\u001b[1;34m(self, master, cnf, **kw)\u001b[0m\n\u001b[0;32m   3573\u001b[0m \u001b[38;5;28;01mdef\u001b[39;00m \u001b[38;5;21m__init__\u001b[39m(\u001b[38;5;28mself\u001b[39m, master\u001b[38;5;241m=\u001b[39m\u001b[38;5;28;01mNone\u001b[39;00m, cnf\u001b[38;5;241m=\u001b[39m{}, \u001b[38;5;241m*\u001b[39m\u001b[38;5;241m*\u001b[39mkw):\n\u001b[0;32m   3574\u001b[0m \u001b[38;5;250m    \u001b[39m\u001b[38;5;124;03m\"\"\"Construct a scrollbar widget with the parent MASTER.\u001b[39;00m\n\u001b[0;32m   3575\u001b[0m \n\u001b[0;32m   3576\u001b[0m \u001b[38;5;124;03m    Valid resource names: activebackground, activerelief,\u001b[39;00m\n\u001b[1;32m   (...)\u001b[0m\n\u001b[0;32m   3580\u001b[0m \u001b[38;5;124;03m    relief, repeatdelay, repeatinterval, takefocus,\u001b[39;00m\n\u001b[0;32m   3581\u001b[0m \u001b[38;5;124;03m    troughcolor, width.\"\"\"\u001b[39;00m\n\u001b[1;32m-> 3582\u001b[0m     \u001b[43mWidget\u001b[49m\u001b[38;5;241;43m.\u001b[39;49m\u001b[38;5;21;43m__init__\u001b[39;49m\u001b[43m(\u001b[49m\u001b[38;5;28;43mself\u001b[39;49m\u001b[43m,\u001b[49m\u001b[43m \u001b[49m\u001b[43mmaster\u001b[49m\u001b[43m,\u001b[49m\u001b[43m \u001b[49m\u001b[38;5;124;43m'\u001b[39;49m\u001b[38;5;124;43mscrollbar\u001b[39;49m\u001b[38;5;124;43m'\u001b[39;49m\u001b[43m,\u001b[49m\u001b[43m \u001b[49m\u001b[43mcnf\u001b[49m\u001b[43m,\u001b[49m\u001b[43m \u001b[49m\u001b[43mkw\u001b[49m\u001b[43m)\u001b[49m\n",
      "File \u001b[1;32mC:\\Program Files\\WindowsApps\\PythonSoftwareFoundation.Python.3.11_3.11.2544.0_x64__qbz5n2kfra8p0\\Lib\\tkinter\\__init__.py:2647\u001b[0m, in \u001b[0;36mBaseWidget.__init__\u001b[1;34m(self, master, widgetName, cnf, kw, extra)\u001b[0m\n\u001b[0;32m   2645\u001b[0m \u001b[38;5;28;01mfor\u001b[39;00m k, v \u001b[38;5;129;01min\u001b[39;00m classes:\n\u001b[0;32m   2646\u001b[0m     \u001b[38;5;28;01mdel\u001b[39;00m cnf[k]\n\u001b[1;32m-> 2647\u001b[0m \u001b[38;5;28;43mself\u001b[39;49m\u001b[38;5;241;43m.\u001b[39;49m\u001b[43mtk\u001b[49m\u001b[38;5;241;43m.\u001b[39;49m\u001b[43mcall\u001b[49m\u001b[43m(\u001b[49m\n\u001b[0;32m   2648\u001b[0m \u001b[43m    \u001b[49m\u001b[43m(\u001b[49m\u001b[43mwidgetName\u001b[49m\u001b[43m,\u001b[49m\u001b[43m \u001b[49m\u001b[38;5;28;43mself\u001b[39;49m\u001b[38;5;241;43m.\u001b[39;49m\u001b[43m_w\u001b[49m\u001b[43m)\u001b[49m\u001b[43m \u001b[49m\u001b[38;5;241;43m+\u001b[39;49m\u001b[43m \u001b[49m\u001b[43mextra\u001b[49m\u001b[43m \u001b[49m\u001b[38;5;241;43m+\u001b[39;49m\u001b[43m \u001b[49m\u001b[38;5;28;43mself\u001b[39;49m\u001b[38;5;241;43m.\u001b[39;49m\u001b[43m_options\u001b[49m\u001b[43m(\u001b[49m\u001b[43mcnf\u001b[49m\u001b[43m)\u001b[49m\u001b[43m)\u001b[49m\n\u001b[0;32m   2649\u001b[0m \u001b[38;5;28;01mfor\u001b[39;00m k, v \u001b[38;5;129;01min\u001b[39;00m classes:\n\u001b[0;32m   2650\u001b[0m     k\u001b[38;5;241m.\u001b[39mconfigure(\u001b[38;5;28mself\u001b[39m, v)\n",
      "\u001b[1;31mTclError\u001b[0m: can't invoke \"scrollbar\" command: application has been destroyed"
     ]
    }
   ],
   "source": [
    "# make a listbox of shows\n",
    "showListbox = obj.gridListbox(\n",
    "        frm,\n",
    "        titles, \n",
    "        r = 0,\n",
    "        c = 0\n",
    "    )\n",
    "storeButton = obj.gridButton(\n",
    "        frm,\n",
    "        button_lab = \"Store\",\n",
    "        # button_function = lambda: func_but.storeAnimeButton(frm, pop, obj, data, showListbox),\n",
    "        button_function = updateListbox(frm, pop, obj, data, labels, showListbox),\n",
    "        r = 1,\n",
    "        c = 0\n",
    ")"
   ]
  },
  {
   "cell_type": "markdown",
   "metadata": {},
   "source": [
    "## Row 1"
   ]
  },
  {
   "cell_type": "code",
   "execution_count": null,
   "metadata": {},
   "outputs": [],
   "source": [
    "# Entry box\n",
    "pass"
   ]
  },
  {
   "cell_type": "code",
   "execution_count": null,
   "metadata": {},
   "outputs": [],
   "source": [
    "root.mainloop()"
   ]
  },
  {
   "cell_type": "code",
   "execution_count": null,
   "metadata": {},
   "outputs": [],
   "source": [
    "\n",
    "# Make a listbox\n",
    "# make an entrybox\n",
    "# make a transfer button\n",
    "    # make a popup if the user tries to store anime that's too big for the folder to handle\n",
    "# make a progress bar for ongoing transfer\n",
    "    # Make a number of files transfered\n",
    "    # make a number of the amount of space left to be transfered\n",
    "    # make an estimated time\n",
    "    # Make an ongoing time\n",
    "    # Make a popup for if the user tries to leave the window mid-transfer\n"
   ]
  }
 ],
 "metadata": {
  "kernelspec": {
   "display_name": "Python 3",
   "language": "python",
   "name": "python3"
  },
  "language_info": {
   "codemirror_mode": {
    "name": "ipython",
    "version": 3
   },
   "file_extension": ".py",
   "mimetype": "text/x-python",
   "name": "python",
   "nbconvert_exporter": "python",
   "pygments_lexer": "ipython3",
   "version": "3.11.9"
  }
 },
 "nbformat": 4,
 "nbformat_minor": 2
}
