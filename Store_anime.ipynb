{
 "cells": [
  {
   "cell_type": "markdown",
   "metadata": {},
   "source": [
    "# Import Libraries"
   ]
  },
  {
   "cell_type": "code",
   "execution_count": 1,
   "metadata": {},
   "outputs": [],
   "source": [
    "from button_functions import Button_functions\n",
    "from functions import Functions\n",
    "from popups import Popups\n",
    "from tkinter import *\n",
    "import os\n",
    "INFOFILE = 'information.json'"
   ]
  },
  {
   "cell_type": "markdown",
   "metadata": {},
   "source": [
    "# Initialize"
   ]
  },
  {
   "cell_type": "code",
   "execution_count": 2,
   "metadata": {},
   "outputs": [
    {
     "name": "stdout",
     "output_type": "stream",
     "text": [
      "pc directory: PY_VAR0\n"
     ]
    }
   ],
   "source": [
    "obj = Functions(INFOFILE)\n",
    "func_but = Button_functions(INFOFILE)\n",
    "pop = Popups(INFOFILE)\n",
    "root, frm, labels = obj.rootInit()\n",
    "if obj.checkInfofileInit():\n",
    "    data = obj.getInfofileData()\n"
   ]
  },
  {
   "cell_type": "code",
   "execution_count": null,
   "metadata": {},
   "outputs": [],
   "source": [
    "phoneDir = data['Phone Directory']\n",
    "localAnimeDir = os.path.join(str(phoneDir), \"localanime\").replace(\"/\", \"\\\\\")\n",
    "localAnimeDirs = [os.path.join(str(localAnimeDir), item).replace(\"/\", \"\\\\\") for item in os.listdir(localAnimeDir)]\n",
    "\n",
    "# Get localanime directory\n",
    "if obj.validAniyomiDirectory(frm, obj, func_but, pop, phoneDir, labels):\n",
    "    emptyShows = obj.getEmptyShows(phoneDir)\n",
    "    \n",
    "    # if condition handling empty shows if found\n",
    "    if emptyShows:\n",
    "        \n",
    "        # Remove shows from list of folders\n",
    "        for show in emptyShows:\n",
    "            localAnimeDirs.remove(show)\n",
    "\n",
    "        # Cut the emptyShows out of the avaliable files to transfer\n",
    "        obj.cullEmptyShows(frm, pop, data, emptyShows)\n",
    "    \n",
    "    # Isolate the valid titles\n",
    "    titles = [show.split('\\\\')[-1] for show in localAnimeDirs]\n",
    "\n",
    "\n",
    "\n",
    "    shows = obj.gridListbox(\n",
    "            frm,\n",
    "            titles, \n",
    "            r = 0,\n",
    "            c = 0\n",
    "        )\n",
    "    \n",
    "    storeButton = obj.gridButton(\n",
    "            frm,\n",
    "            button_lab,\n",
    "            button_function = lambda: func_but.(obj, labels),\n",
    "            r = 1,\n",
    "            c = 0\n",
    "        \n",
    "        \n",
    "    )"
   ]
  },
  {
   "cell_type": "markdown",
   "metadata": {},
   "source": [
    "## Listbox"
   ]
  },
  {
   "cell_type": "markdown",
   "metadata": {},
   "source": [
    "# Error Popup Windows"
   ]
  },
  {
   "cell_type": "markdown",
   "metadata": {},
   "source": [
    "## Invalid Phone Directory"
   ]
  },
  {
   "cell_type": "code",
   "execution_count": null,
   "metadata": {},
   "outputs": [],
   "source": []
  },
  {
   "cell_type": "markdown",
   "metadata": {},
   "source": [
    "## Functions"
   ]
  },
  {
   "cell_type": "markdown",
   "metadata": {},
   "source": [
    "### Store Anime"
   ]
  },
  {
   "cell_type": "code",
   "execution_count": null,
   "metadata": {},
   "outputs": [],
   "source": []
  },
  {
   "cell_type": "markdown",
   "metadata": {},
   "source": [
    "## Delete Folders"
   ]
  },
  {
   "cell_type": "markdown",
   "metadata": {},
   "source": [
    "# Button Functions"
   ]
  },
  {
   "cell_type": "markdown",
   "metadata": {},
   "source": [
    "## Popup"
   ]
  },
  {
   "cell_type": "markdown",
   "metadata": {},
   "source": [
    "# Buttons"
   ]
  },
  {
   "cell_type": "markdown",
   "metadata": {},
   "source": [
    "## Row 0"
   ]
  },
  {
   "cell_type": "code",
   "execution_count": null,
   "metadata": {},
   "outputs": [],
   "source": []
  },
  {
   "cell_type": "markdown",
   "metadata": {},
   "source": [
    "## Row 1"
   ]
  },
  {
   "cell_type": "code",
   "execution_count": 4,
   "metadata": {},
   "outputs": [],
   "source": [
    "# Entry box\n",
    "pass"
   ]
  },
  {
   "cell_type": "markdown",
   "metadata": {},
   "source": [
    "## Row 2"
   ]
  },
  {
   "cell_type": "code",
   "execution_count": 5,
   "metadata": {},
   "outputs": [],
   "source": [
    "# Button to transfer stuff\n",
    "pass"
   ]
  },
  {
   "cell_type": "markdown",
   "metadata": {},
   "source": [
    "## Row 3"
   ]
  },
  {
   "cell_type": "code",
   "execution_count": 6,
   "metadata": {},
   "outputs": [],
   "source": [
    "pass"
   ]
  },
  {
   "cell_type": "code",
   "execution_count": 7,
   "metadata": {},
   "outputs": [],
   "source": [
    "root.mainloop()"
   ]
  },
  {
   "cell_type": "code",
   "execution_count": 8,
   "metadata": {},
   "outputs": [],
   "source": [
    "# Sense a localanime folder\n",
    "# Sense a downloads folder\n",
    "\n",
    "# Sense any empty shows found within the localanime folder\n",
    "# Sense any empty shows found within the downloads folder (be careful not to delete the source folders)\n",
    "# Initiate a popup for any empty shows found in localanime folder\n",
    "# Initiate a popup found for any empty shows found within the downloads folder\n",
    "# Make a move function that moves titles onto the pc (keeping the shows in their src folder if necessary)\n",
    "# Make a listbox\n",
    "# make an entrybox\n",
    "# make a transfer button\n",
    "    # make a popup if the user tries to store anime that's too big for the folder to handle\n",
    "# make a progress bar for ongoing transfer\n",
    "    # Make a number of files transfered\n",
    "    # make a number of the amount of space left to be transfered\n",
    "    # make an estimated time\n",
    "    # Make an ongoing time\n",
    "    # Make a popup for if the user tries to leave the window mid-transfer\n"
   ]
  }
 ],
 "metadata": {
  "kernelspec": {
   "display_name": "Python 3",
   "language": "python",
   "name": "python3"
  },
  "language_info": {
   "codemirror_mode": {
    "name": "ipython",
    "version": 3
   },
   "file_extension": ".py",
   "mimetype": "text/x-python",
   "name": "python",
   "nbconvert_exporter": "python",
   "pygments_lexer": "ipython3",
   "version": "3.11.9"
  }
 },
 "nbformat": 4,
 "nbformat_minor": 2
}
