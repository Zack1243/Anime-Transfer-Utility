{
 "cells": [
  {
   "cell_type": "markdown",
   "metadata": {},
   "source": [
    "#### Import libraries"
   ]
  },
  {
   "cell_type": "code",
   "execution_count": 730,
   "metadata": {},
   "outputs": [],
   "source": [
    "import customtkinter as ctk\n",
    "from customtkinter import CTkButton\n",
    "from customtkinter import CTkLabel\n",
    "import json\n",
    "import math\n",
    "import os\n",
    "import shutil\n",
    "from tkinter import *\n",
    "from tkinter import ttk\n",
    "from tkinter import filedialog\n",
    "from tkinter import font"
   ]
  },
  {
   "cell_type": "markdown",
   "metadata": {},
   "source": [
    "## Global Variables"
   ]
  },
  {
   "cell_type": "markdown",
   "metadata": {},
   "source": [
    "##### Initialize Interface"
   ]
  },
  {
   "cell_type": "code",
   "execution_count": 731,
   "metadata": {},
   "outputs": [],
   "source": [
    "filename = 'information.json'\n",
    "root = ctk.CTk()\n",
    "root.title(\"Anime/Manga Transfer Tool\")  # Optional: Set title\n",
    "# Set dark mode (optional)\n",
    "ctk.set_appearance_mode(\"dark\")  # Options: \"light\", \"dark\", or \"system\"\n",
    "ctk.set_default_color_theme(\"dark-blue\")  # Options: \"blue\", \"green\", \"dark-blue\"\n",
    "\n",
    "frm = ctk.CTkFrame(root, corner_radius=10)\n",
    "frm.pack(padx=20, pady=20, fill=\"both\", expand=True)  # Adjust layout\n",
    "app_width = 500\n",
    "app_height = 500\n",
    "screen_width = root.winfo_screenwidth()\n",
    "screen_height = root.winfo_screenheight()\n",
    "x = (screen_width / 2) - (app_width / 2)\n",
    "y = (screen_height / 2) - (app_height / 2)\n",
    "root.geometry(f'{app_width}x{app_height}+{int(x)}+{int(y)}')"
   ]
  },
  {
   "cell_type": "markdown",
   "metadata": {},
   "source": [
    "##### Initialize files"
   ]
  },
  {
   "cell_type": "code",
   "execution_count": 732,
   "metadata": {},
   "outputs": [],
   "source": [
    "def getDir(library_path):\n",
    "    if library_path and os.path.isdir(library_path):\n",
    "        # Loop through each folder within the library path directory\n",
    "        items = os.listdir(library_path)\n",
    "        # Separate folders and files\n",
    "        folders = [item for item in items if os.path.isdir(os.path.join(library_path, item))]\n",
    "        \n",
    "        # Save folders to a file\n",
    "        with open('avaliable_anime.txt', 'w') as file:\n",
    "            for folder in folders:\n",
    "                file.write(f\"{folder}\\n\")\n",
    "    else:\n",
    "        print(\"ERROR: no directory listed!!! Add it to the information.json file manually...\")"
   ]
  },
  {
   "cell_type": "code",
   "execution_count": 733,
   "metadata": {},
   "outputs": [],
   "source": [
    "if not os.path.isfile(filename):\n",
    "        # If it doesn't exist, create it and write data to it\n",
    "        data = {\n",
    "            \"PC Directory\": \"Nu\",\n",
    "            \"PC Capacity\": \"Nu\",\n",
    "            \"PC storage usage\": \"testing\",\n",
    "            \"Phone storage usage\": \"testing\",\n",
    "            \"Phone Directory\": \"testing\",\n",
    "            \"Phone Capacity\": \"testing\"\n",
    "        }\n",
    "        with open(filename, 'w') as json_file:\n",
    "            json.dump(data, json_file, indent=4)\n",
    "\n",
    "# Read data from json file\n",
    "with open(filename, 'r') as json_file:\n",
    "    data = json.load(json_file)\n",
    "\n",
    "# There is a directory that the user has entered\n",
    "if os.path.isdir(data[\"PC Directory\"]):\n",
    "    getDir(data[\"PC Directory\"])\n",
    "\n",
    "\n",
    "# TODO\n",
    "# The user has not updated the directory to read from\n",
    "#else:\n",
    "    # Gray out the button for transfering anime.\n",
    "    # Gray out the PC capacity\n",
    "    # Gray out the limit for pc limit\n",
    "    # gray out anime to transfer\n",
    "    # Gray out the get list of avaliable anime button\n",
    "    # Gray out the transfer button.\n",
    "    # Pretty much wait until the user has chosen a valid directory"
   ]
  },
  {
   "cell_type": "markdown",
   "metadata": {},
   "source": [
    "#### Functions"
   ]
  },
  {
   "cell_type": "markdown",
   "metadata": {},
   "source": [
    "##### Get size of directory"
   ]
  },
  {
   "cell_type": "code",
   "execution_count": 734,
   "metadata": {},
   "outputs": [],
   "source": [
    "def get_directory_size(directory):\n",
    "    total_size = 0\n",
    "    # Walk through each folder, subfolder, and files\n",
    "    for dirpath, dirnames, filenames in os.walk(directory):\n",
    "        for filename in filenames:\n",
    "            # Get the full file path\n",
    "            file_path = os.path.join(dirpath, filename)\n",
    "            # Add the file size to the total size\n",
    "            if os.path.isfile(file_path):\n",
    "                total_size += os.path.getsize(file_path)\n",
    "                \n",
    "    if total_size == 0:\n",
    "        return \"0B\"\n",
    "    size_name = (\"B\", \"KB\", \"MB\", \"GB\", \"TB\")\n",
    "    i = int(math.floor(math.log(total_size, 1024)))\n",
    "    p = math.pow(1024, i)\n",
    "    s = round(total_size / p, 2)\n",
    "    return f\"{s} {size_name[i]}\""
   ]
  },
  {
   "cell_type": "markdown",
   "metadata": {},
   "source": [
    "##### Progress bar"
   ]
  },
  {
   "cell_type": "code",
   "execution_count": 735,
   "metadata": {},
   "outputs": [],
   "source": [
    "def senseStorage(src_dir, dst_dir, root2):\n",
    "    # Sense how much the size of the files is to be transfered\n",
    "    \n",
    "    total = float(str.split(get_directory_size(src_dir))[0])\n",
    "    # Instantiate the progress bar\n",
    "    my_progress = ttk.Progressbar(root2, orient=HORIZONTAL, length=270, mode='determinate')\n",
    "    my_progress.grid()\n",
    "    \n",
    "    progress = 0\n",
    "    print(f\"Total: {total}\")\n",
    "    # Periodically check the size of the files within the src_dir and update the progress variable\n",
    "    shutil.move(src_dir, dst_dir)\n",
    "    while progress != total:\n",
    "        # Get the progress\n",
    "        progress = total - int(str.strip(get_directory_size(src_dir))[0])\n",
    "        print(f\"updated progress: {progress}\")\n",
    "        perc_prog = (progress / total) * 100\n",
    "        print(f\"percent progress: {perc_prog}\")\n",
    "        # Update the progress bar variable\n",
    "        my_progress['value'] = perc_prog"
   ]
  },
  {
   "cell_type": "markdown",
   "metadata": {},
   "source": [
    "##### Function to retrieve files"
   ]
  },
  {
   "cell_type": "code",
   "execution_count": 736,
   "metadata": {},
   "outputs": [],
   "source": [
    "def retrieve(titles, data, root2):\n",
    "    # For each title in the list of shows\n",
    "    for title in titles:\n",
    "        \n",
    "        # Get directory of show folder\n",
    "        src_dir = os.path.join(data[\"PC Directory\"], title).replace(\"/\", \"\\\\\")\n",
    "        \n",
    "        # Destination folder\n",
    "        dest_dir = os.path.join(data[\"Phone Directory\"], title).replace(\"/\", \"\\\\\")\n",
    "        \n",
    "        # Phone directory\n",
    "        phone_dir = data[\"Phone Directory\"]\n",
    "        \n",
    "        # Check if the show folder exists\n",
    "        if not os.path.isdir(src_dir):\n",
    "            print(f\"ERROR: Source folder '{src_dir}' does not exist!\")\n",
    "            continue\n",
    "        \n",
    "        # Check if the destination folder already exists\n",
    "        if not os.path.isdir(dest_dir) and os.path.isdir(phone_dir):\n",
    "            \n",
    "            senseStorage(src_dir, data[\"Phone Directory\"], root2)\n",
    "            \n",
    "            print(f\"Transferred '{title}' to '{phone_dir}'.\")\n",
    "        else:\n",
    "            print(f\"ERROR: Destination path '{dest_dir}' already exists!!!\")"
   ]
  },
  {
   "cell_type": "markdown",
   "metadata": {},
   "source": [
    "##### Function to store files"
   ]
  },
  {
   "cell_type": "code",
   "execution_count": 737,
   "metadata": {},
   "outputs": [],
   "source": [
    "def store(titles, data, root2):\n",
    "    \n",
    "    # For each title in the list of shows\n",
    "    for title in titles:\n",
    "        \n",
    "        # Get directory of show folder\n",
    "        src_dir = os.path.join(data[\"Phone Directory\"], title).replace(\"/\", \"\\\\\")\n",
    "        \n",
    "        # Destination folder\n",
    "        dest_dir = os.path.join(data[\"PC Directory\"], title).replace(\"/\", \"\\\\\")\n",
    "        \n",
    "        # Phone directory\n",
    "        pc_dir = data[\"PC Directory\"]\n",
    "        \n",
    "        # Check if the show folder exists\n",
    "        if not os.path.isdir(src_dir):\n",
    "            print(f\"ERROR: Source folder '{src_dir}' does not exist!\")\n",
    "            continue\n",
    "        \n",
    "        # Check if the destination folder already exists\n",
    "        if not os.path.isdir(dest_dir) and os.path.isdir(pc_dir):\n",
    "            \n",
    "            # Move folder and its contents to the new folder\n",
    "            senseStorage(src_dir, pc_dir, root2)\n",
    "            \n",
    "            print(f\"Transferred '{title}' to '{pc_dir}'.\")\n",
    "        else:\n",
    "            print(f\"ERROR: Destination path '{dest_dir}' already exists!!!\")"
   ]
  },
  {
   "cell_type": "markdown",
   "metadata": {},
   "source": [
    "##### On clicking 'x' window"
   ]
  },
  {
   "cell_type": "code",
   "execution_count": 738,
   "metadata": {},
   "outputs": [
    {
     "data": {
      "text/plain": [
       "''"
      ]
     },
     "execution_count": 738,
     "metadata": {},
     "output_type": "execute_result"
    }
   ],
   "source": [
    "def on_close():\n",
    "    print(\"Closing the window...\")\n",
    "    root.quit()  # Stops the main loop\n",
    "    root.destroy()  # Destroys the window\n",
    "\n",
    "# Handle close event\n",
    "root.protocol(\"WM_DELETE_WINDOW\", on_close)"
   ]
  },
  {
   "cell_type": "markdown",
   "metadata": {},
   "source": [
    "#### Buttons"
   ]
  },
  {
   "cell_type": "markdown",
   "metadata": {},
   "source": [
    "##### Set PC Directory"
   ]
  },
  {
   "cell_type": "code",
   "execution_count": 739,
   "metadata": {},
   "outputs": [],
   "source": [
    "def setPCDir():\n",
    "    if not os.path.isfile(filename):\n",
    "        # If it doesn't exist, create it and write data to it\n",
    "        data = {\n",
    "            \"PC Directory\": \"Nu\",\n",
    "            \"PC Capacity\": \"Nu\",\n",
    "            \"PC storage usage\": \"testing\",\n",
    "            \"Phone storage usage\": \"testing\",\n",
    "            \"Phone Directory\": \"testing\",\n",
    "            \"Phone Capacity\": \"testing\"\n",
    "        }\n",
    "        with open(filename, 'w') as json_file:\n",
    "            json.dump(data, json_file, indent=4)\n",
    "    folder_path = filedialog.askdirectory()\n",
    "    if folder_path:\n",
    "        ttk.Label(frm, text=folder_path).grid(column=1, row=1)\n",
    "        # Read the existing JSON data to update it\n",
    "        with open(filename, 'r') as json_file:\n",
    "            data = json.load(json_file)\n",
    "        \n",
    "        # Update the relevant fields in the data dictionary\n",
    "        data[\"PC Directory\"] = folder_path\n",
    "        \n",
    "        # Write the updated data back to the JSON file\n",
    "        with open(filename, 'w') as json_file:\n",
    "            json.dump(data, json_file, indent=4)\n",
    "        print(f\"{filename} has been updated with the new PC Directory.\")"
   ]
  },
  {
   "cell_type": "markdown",
   "metadata": {},
   "source": [
    "##### Set Phone Directory"
   ]
  },
  {
   "cell_type": "code",
   "execution_count": 740,
   "metadata": {},
   "outputs": [],
   "source": [
    "def setPhoneDir():\n",
    "    if not os.path.isfile(filename):\n",
    "        # If it doesn't exist, create it and write data to it\n",
    "        data = {\n",
    "            \"PC Directory\": \"Nu\",\n",
    "            \"PC Capacity\": \"Nu\",\n",
    "            \"PC storage usage\": \"testing\",\n",
    "            \"Phone storage usage\": \"testing\",\n",
    "            \"Phone Directory\": \"testing\",\n",
    "            \"Phone Capacity\": \"testing\"\n",
    "        }\n",
    "        with open(filename, 'w') as json_file:\n",
    "            json.dump(data, json_file, indent=4)\n",
    "    folder_path = filedialog.askdirectory()\n",
    "    if folder_path:\n",
    "        ttk.Label(frm, text=folder_path).grid(column=1, row=2)\n",
    "        # Read the existing JSON data to update it\n",
    "        with open(filename, 'r') as json_file:\n",
    "            data = json.load(json_file)\n",
    "        \n",
    "        # Update the relevant fields in the data dictionary\n",
    "        data[\"Phone Directory\"] = folder_path\n",
    "        \n",
    "        # Write the updated data back to the JSON file\n",
    "        with open(filename, 'w') as json_file:\n",
    "            json.dump(data, json_file, indent=4)\n",
    "        print(f\"{filename} has been updated with the new Phone Directory.\")"
   ]
  },
  {
   "cell_type": "markdown",
   "metadata": {},
   "source": [
    "##### Transfer Anime"
   ]
  },
  {
   "cell_type": "code",
   "execution_count": 741,
   "metadata": {},
   "outputs": [],
   "source": [
    "def transferAnime():\n",
    "    # Run a new instance of ttk\n",
    "    root2 = Tk()\n",
    "    frm2 = ttk.Frame(root2, padding=10)\n",
    "    frm2.grid()\n",
    "    app_width = 500\n",
    "    app_height = 500\n",
    "    screen_width = root.winfo_screenwidth()\n",
    "    screen_height = root.winfo_screenheight()\n",
    "    x = (screen_width / 2) - (app_width / 2)\n",
    "    y = (screen_height / 2) - (app_height / 2)\n",
    "    root2.geometry(f'{app_width}x{app_height}+{int(x + 100)}+{int(y + 100)}')\n",
    "    \n",
    "    # Get a list of the anime inside of the folder\n",
    "    with open(filename, 'r') as json_file:\n",
    "        data = json.load(json_file)\n",
    "    if data:\n",
    "        # Get the directory of the library\n",
    "        library_path = data[\"PC Directory\"]\n",
    "\n",
    "        # Loop through each folder within the library path directory\n",
    "        items = os.listdir(library_path)\n",
    "        # Separate folders and files\n",
    "        folders = [item for item in items if os.path.isdir(os.path.join(library_path, item))]\n",
    "\n",
    "        # Save folders to a file\n",
    "        with open('avaliable_anime.txt', 'w') as file:\n",
    "            for folder in folders:\n",
    "                file.write(f\"{folder}\\n\")\n",
    "    \n",
    "    # Instantiate and grid scrollbar and listbox\n",
    "    my_scrollbar = Scrollbar(frm2, orient=VERTICAL)\n",
    "    my_listbox = Listbox(frm2, width=50, yscrollcommand=my_scrollbar.set, selectmode=MULTIPLE)\n",
    "    my_scrollbar.config(command=my_listbox.yview)\n",
    "    frm2.grid()\n",
    "    my_listbox.grid(pady=15)\n",
    "    my_listbox.grid(row=0, column=0)\n",
    "    my_scrollbar.grid(row=0, column=1, sticky='ns')\n",
    "    \n",
    "    # Add shows to listbox from avaliable anime\n",
    "    shows = []\n",
    "    with open('avaliable_anime.txt', 'r') as file:\n",
    "        for line in file:\n",
    "            shows.append(line)\n",
    "    for show in shows:\n",
    "        my_listbox.insert(0, show)\n",
    "    \n",
    "    \n",
    "    # Create an entry box\n",
    "    my_entry = Entry(root2)\n",
    "    my_entry.grid()\n",
    "    \n",
    "    # Update entrybox with listbox clicked\n",
    "    def fillout(e):\n",
    "        selection = my_listbox.curselection()\n",
    "        \n",
    "        # Delete whatever is in the entrybox\n",
    "        my_entry.delete(0, END)\n",
    "        \n",
    "        # Add clicked list item to entry box (should I sub this out with anchor?????)\n",
    "        my_entry.insert(0, my_listbox.get(selection[-1]))\n",
    "        \n",
    "    # Update search bar with entry from listbox\n",
    "    my_listbox.bind(\"<<ListboxSelect>>\", fillout)\n",
    "    \n",
    "    \n",
    "    def update(data):\n",
    "        \n",
    "        my_listbox.delete(0, END)\n",
    "        \n",
    "        # Add toppings to listbox\n",
    "        for show in data:\n",
    "            my_listbox.insert(END, show)\n",
    "    \n",
    "    \n",
    "    \n",
    "    # Checks entry vs listbox\n",
    "    def check(e):\n",
    "        \n",
    "        # Grab what was typed\n",
    "        typed = my_entry.get()\n",
    "        \n",
    "        if typed == '':\n",
    "            data = shows\n",
    "        else:\n",
    "            data = []\n",
    "            for show in shows:\n",
    "                if typed.lower() in show.lower():\n",
    "                    data.append(show)\n",
    "                    \n",
    "        # Update our listbox with selected items\n",
    "        update(data)\n",
    "        # See if the string is within the listbox item list\n",
    "    my_entry.bind(\"<KeyRelease>\", check)\n",
    "    \n",
    "    # Select All Button to show entries as labels\n",
    "    def transferSelected():\n",
    "        test = []\n",
    "        for item in my_listbox.curselection():\n",
    "            test.append(str.strip((my_listbox.get(item)))       )\n",
    "        combined_text = ', '.join(test)\n",
    "        combined_label = Label(root2, text=combined_text)\n",
    "        combined_label.grid()  # Place it below the individual labels\n",
    "        # Function to transfer the items selected\n",
    "        retrieve(test, data, root2)\n",
    "        for item in reversed(my_listbox.curselection()):\n",
    "            my_listbox.delete(item)\n",
    "\n",
    "    # Transfer Selected titles\n",
    "    transferSelected_button = Button(root2, text=\"Export Selected\", command=transferSelected)\n",
    "    transferSelected_button.grid(pady=10)\n",
    "    \n",
    "    \n",
    "    my_label = Label(root2, text='')\n",
    "    my_label.grid(pady=5)"
   ]
  },
  {
   "cell_type": "markdown",
   "metadata": {},
   "source": [
    "##### Store Anime"
   ]
  },
  {
   "cell_type": "code",
   "execution_count": 742,
   "metadata": {},
   "outputs": [],
   "source": [
    "def storeAnime():\n",
    "    # Run a new instance of ttk\n",
    "    root2 = Tk()\n",
    "    frm2 = ttk.Frame(root2, padding=10)\n",
    "    frm2.grid()\n",
    "    app_width = 500\n",
    "    app_height = 500\n",
    "    screen_width = root.winfo_screenwidth()\n",
    "    screen_height = root.winfo_screenheight()\n",
    "    x = (screen_width / 2) - (app_width / 2)\n",
    "    y = (screen_height / 2) - (app_height / 2)\n",
    "    root2.geometry(f'{app_width}x{app_height}+{int(x + 100)}+{int(y + 100)}')\n",
    "    # Get a list of the anime inside of the folder\n",
    "    with open(filename, 'r') as json_file:\n",
    "        data = json.load(json_file)\n",
    "    if data:\n",
    "        # Get the directory of the library\n",
    "        library_path = data[\"Phone Directory\"]\n",
    "\n",
    "        # Loop through each folder within the library path directory\n",
    "        items = os.listdir(library_path)\n",
    "        # Separate folders and files\n",
    "        folders = [item for item in items if os.path.isdir(os.path.join(library_path, item))]\n",
    "\n",
    "        # Save folders to a file\n",
    "        with open('phone_anime.txt', 'w') as file:\n",
    "            for folder in folders:\n",
    "                file.write(f\"{folder}\\n\")\n",
    "    \n",
    "    # Instantiate and grid scrollbar and listbox\n",
    "    my_scrollbar = Scrollbar(frm2, orient=VERTICAL)\n",
    "    my_listbox = Listbox(frm2, width=50, yscrollcommand=my_scrollbar.set, selectmode=MULTIPLE)\n",
    "    my_scrollbar.config(command=my_listbox.yview)\n",
    "    frm2.grid()\n",
    "    my_listbox.grid(pady=15)\n",
    "    my_listbox.grid(row=0, column=0)\n",
    "    my_scrollbar.grid(row=0, column=1, sticky='ns')\n",
    "    \n",
    "    # Add shows to listbox from avaliable anime\n",
    "    shows = []\n",
    "    with open('phone_anime.txt', 'r') as file:\n",
    "        for line in file:\n",
    "            shows.append(line)\n",
    "    for show in shows:\n",
    "        my_listbox.insert(0, show)\n",
    "    \n",
    "    \n",
    "    # Create an entry box\n",
    "    my_entry = Entry(root2)\n",
    "    my_entry.grid()\n",
    "    \n",
    "    # Update entrybox with listbox clicked\n",
    "    def fillout(e):\n",
    "        selection = my_listbox.curselection()\n",
    "        \n",
    "        # Delete whatever is in the entrybox\n",
    "        my_entry.delete(0, END)\n",
    "        \n",
    "        # Add clicked list item to entry box (should I sub this out with anchor?????)\n",
    "        my_entry.insert(0, my_listbox.get(selection[-1]))\n",
    "        \n",
    "    # Update search bar with entry from listbox\n",
    "    my_listbox.bind(\"<<ListboxSelect>>\", fillout)\n",
    "    \n",
    "    \n",
    "    def update(data):\n",
    "        \n",
    "        my_listbox.delete(0, END)\n",
    "        \n",
    "        # Add toppings to listbox\n",
    "        for show in data:\n",
    "            my_listbox.insert(END, show)\n",
    "    \n",
    "    # Checks entry vs listbox\n",
    "    def check(e):\n",
    "        \n",
    "        # Grab what was typed\n",
    "        typed = my_entry.get()\n",
    "        \n",
    "        if typed == '':\n",
    "            data = shows\n",
    "        else:\n",
    "            data = []\n",
    "            for show in shows:\n",
    "                if typed.lower() in show.lower():\n",
    "                    data.append(show)\n",
    "                    \n",
    "        # Update our listbox with selected items\n",
    "        update(data)\n",
    "        # See if the string is within the listbox item list\n",
    "    my_entry.bind(\"<KeyRelease>\", check)\n",
    "    \n",
    "    # Select All Button to show entries as labels\n",
    "    def transferSelected():\n",
    "        test = []\n",
    "        for item in my_listbox.curselection():\n",
    "            test.append(str.strip((my_listbox.get(item))))\n",
    "        combined_text = ', '.join(test)\n",
    "        combined_label = Label(root2, text=combined_text)\n",
    "        combined_label.grid()\n",
    "        # Function to transfer the items selected\n",
    "        store(test, data, root2)\n",
    "        for item in reversed(my_listbox.curselection()):\n",
    "            my_listbox.delete(item)\n",
    "\n",
    "    # Transfer Selected titles\n",
    "    transferSelected_button = Button(root2, text=\"Export Selected\", command=transferSelected)\n",
    "    transferSelected_button.grid(pady=10)\n",
    "    \n",
    "    \n",
    "    my_label = Label(root2, text='')\n",
    "    my_label.grid(pady=5)"
   ]
  },
  {
   "cell_type": "markdown",
   "metadata": {},
   "source": [
    "##### Dark Mode"
   ]
  },
  {
   "cell_type": "code",
   "execution_count": 743,
   "metadata": {},
   "outputs": [],
   "source": [
    "def dark_mode():\n",
    "    global enabled\n",
    "    if not enabled:\n",
    "        ctk.set_appearance_mode(\"dark\")  # Options: \"light\", \"dark\", or \"system\"\n",
    "        ctk.set_default_color_theme(\"dark-blue\")  # Options: \"blue\", \"green\", \"dark-blue\"\n",
    "    else:\n",
    "        ctk.set_appearance_mode(\"light\")  # Options: \"light\", \"dark\", or \"system\"\n",
    "        ctk.set_default_color_theme(\"green\")  # Options: \"blue\", \"green\", \"dark-blue\"\n",
    "    enabled = not enabled"
   ]
  },
  {
   "cell_type": "markdown",
   "metadata": {},
   "source": [
    "##### Testing removing the label"
   ]
  },
  {
   "cell_type": "code",
   "execution_count": 744,
   "metadata": {},
   "outputs": [],
   "source": [
    "def swap_dark_mode_button():\n",
    "    # Remove the current button\n",
    "    \n",
    "    \n",
    "    \n",
    "    # add a new button\n",
    "    \n",
    "    \n",
    "    pass"
   ]
  },
  {
   "cell_type": "markdown",
   "metadata": {},
   "source": [
    "#### Progress bars"
   ]
  },
  {
   "cell_type": "markdown",
   "metadata": {},
   "source": [
    "##### Progress Bars for Storing Anime"
   ]
  },
  {
   "cell_type": "code",
   "execution_count": null,
   "metadata": {},
   "outputs": [],
   "source": []
  },
  {
   "cell_type": "markdown",
   "metadata": {},
   "source": [
    "##### Progress Bars for Retrieving Anime"
   ]
  },
  {
   "cell_type": "code",
   "execution_count": null,
   "metadata": {},
   "outputs": [],
   "source": []
  },
  {
   "cell_type": "markdown",
   "metadata": {},
   "source": [
    "#### Rows"
   ]
  },
  {
   "cell_type": "markdown",
   "metadata": {},
   "source": [
    "##### Row 0"
   ]
  },
  {
   "cell_type": "code",
   "execution_count": 745,
   "metadata": {},
   "outputs": [],
   "source": [
    "ctk.CTkLabel(frm, text=\"Welcome to the anime library!\").grid(column=0, row=0)"
   ]
  },
  {
   "cell_type": "markdown",
   "metadata": {},
   "source": [
    "##### Row 1"
   ]
  },
  {
   "cell_type": "code",
   "execution_count": 746,
   "metadata": {},
   "outputs": [],
   "source": [
    "CTkLabel(frm, text=\"PC anime directory:\").grid(column=0, row=1)\n",
    "CTkButton(frm, text=\"..\", command=setPCDir).grid(column=2, row=1)"
   ]
  },
  {
   "cell_type": "markdown",
   "metadata": {},
   "source": [
    "##### Row 2"
   ]
  },
  {
   "cell_type": "code",
   "execution_count": 747,
   "metadata": {},
   "outputs": [],
   "source": [
    "CTkLabel(frm, text=\"Phone anime directory:\").grid(column=0, row=2)\n",
    "CTkButton(frm, text=\"..\", command=setPhoneDir).grid(column=2, row=2)"
   ]
  },
  {
   "cell_type": "markdown",
   "metadata": {},
   "source": [
    "##### Row 3"
   ]
  },
  {
   "cell_type": "code",
   "execution_count": 748,
   "metadata": {},
   "outputs": [],
   "source": [
    "# Get the storage usage on pc\n",
    "if os.path.isdir(data[\"PC Directory\"]):\n",
    "    total = get_directory_size(data[\"PC Directory\"])\n",
    "total = total if total else \"unknown\"\n",
    "CTkLabel(frm, text=f\"PC storage capacity: {total}/TOTAL GB\").grid(column=0, row=3)\n",
    "\n",
    "# TODO:\n",
    "    # Currently the storage usage is inaccurate\n",
    "    # How to update the pc usage when the directory is reset"
   ]
  },
  {
   "cell_type": "markdown",
   "metadata": {},
   "source": [
    "##### Row 4"
   ]
  },
  {
   "cell_type": "code",
   "execution_count": 749,
   "metadata": {},
   "outputs": [],
   "source": [
    "if os.path.isdir(data[\"Phone Directory\"]):\n",
    "    total = get_directory_size(data[\"Phone Directory\"])\n",
    "CTkLabel(frm, text=f\"Phone storage capacity: {total}/TOTAL GB\").grid(column=0, row=4)\n"
   ]
  },
  {
   "cell_type": "markdown",
   "metadata": {},
   "source": [
    "##### Row 5"
   ]
  },
  {
   "cell_type": "code",
   "execution_count": 750,
   "metadata": {},
   "outputs": [],
   "source": [
    "CTkButton(frm, text=\"Retrieve\", command=transferAnime).grid(column=0, row=5)\n",
    "CTkButton(frm, text=\"Store\", command=storeAnime).grid(column=1, row=5)"
   ]
  },
  {
   "cell_type": "markdown",
   "metadata": {},
   "source": [
    "##### Row 6"
   ]
  },
  {
   "cell_type": "code",
   "execution_count": 751,
   "metadata": {},
   "outputs": [],
   "source": [
    "enabled = True\n",
    "dark_mode_button = CTkButton(frm, text=\"Dark Mode\", command=lambda: dark_mode())\n",
    "dark_mode_button.grid(column=0, row=6)"
   ]
  },
  {
   "cell_type": "markdown",
   "metadata": {},
   "source": [
    "##### Row 8"
   ]
  },
  {
   "cell_type": "code",
   "execution_count": 752,
   "metadata": {},
   "outputs": [],
   "source": [
    "CTkButton(frm, text=\"Quit\", command=lambda: (root.quit(), root.destroy())).grid()\n",
    "root.mainloop()"
   ]
  }
 ],
 "metadata": {
  "kernelspec": {
   "display_name": "Python 3",
   "language": "python",
   "name": "python3"
  },
  "language_info": {
   "codemirror_mode": {
    "name": "ipython",
    "version": 3
   },
   "file_extension": ".py",
   "mimetype": "text/x-python",
   "name": "python",
   "nbconvert_exporter": "python",
   "pygments_lexer": "ipython3",
   "version": "3.11.9"
  }
 },
 "nbformat": 4,
 "nbformat_minor": 2
}
