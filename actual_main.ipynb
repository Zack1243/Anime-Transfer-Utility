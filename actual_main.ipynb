{
 "cells": [
  {
   "cell_type": "markdown",
   "metadata": {},
   "source": [
    "#### Import libraries"
   ]
  },
  {
   "cell_type": "code",
   "execution_count": 1,
   "metadata": {},
   "outputs": [],
   "source": [
    "import json\n",
    "import math\n",
    "import os\n",
    "import shutil\n",
    "from tkinter import *\n",
    "from tkinter import ttk\n",
    "from tkinter import filedialog\n",
    "from tkinter import font"
   ]
  },
  {
   "cell_type": "markdown",
   "metadata": {},
   "source": [
    "##### Initialize Interface"
   ]
  },
  {
   "cell_type": "code",
   "execution_count": 2,
   "metadata": {},
   "outputs": [
    {
     "data": {
      "text/plain": [
       "''"
      ]
     },
     "execution_count": 2,
     "metadata": {},
     "output_type": "execute_result"
    }
   ],
   "source": [
    "filename = 'information.json'\n",
    "root = Tk()\n",
    "frm = ttk.Frame(root, padding=10)\n",
    "frm.grid()\n",
    "app_width = 500\n",
    "app_height = 500\n",
    "screen_width = root.winfo_screenwidth()\n",
    "screen_height = root.winfo_screenheight()\n",
    "x = (screen_width / 2) - (app_width / 2)\n",
    "y = (screen_height / 2) - (app_height / 2)\n",
    "root.geometry(f'{app_width}x{app_height}+{int(x)}+{int(y)}')"
   ]
  },
  {
   "cell_type": "markdown",
   "metadata": {},
   "source": [
    "##### Initialize files"
   ]
  },
  {
   "cell_type": "code",
   "execution_count": 3,
   "metadata": {},
   "outputs": [],
   "source": [
    "def getDir(library_path):\n",
    "    if library_path and os.path.isdir(library_path):\n",
    "        # Loop through each folder within the library path directory\n",
    "        items = os.listdir(library_path)\n",
    "        # Separate folders and files\n",
    "        folders = [item for item in items if os.path.isdir(os.path.join(library_path, item))]\n",
    "        \n",
    "        # Save folders to a file\n",
    "        with open('avaliable_anime.txt', 'w') as file:\n",
    "            for folder in folders:\n",
    "                file.write(f\"{folder}\\n\")\n",
    "    else:\n",
    "        print(\"ERROR: no directory listed!!! Add it to the information.json file manually...\")"
   ]
  },
  {
   "cell_type": "code",
   "execution_count": 4,
   "metadata": {},
   "outputs": [],
   "source": [
    "if not os.path.isfile(filename):\n",
    "        # If it doesn't exist, create it and write data to it\n",
    "        data = {\n",
    "            \"PC Directory\": \"testing\",\n",
    "            \"PC Capacity\": \"testing\",\n",
    "            \"PC storage usage\": \"testing\",\n",
    "            \"Phone storage usage\": \"testing\",\n",
    "            \"Phone Directory\": \"testing\",\n",
    "            \"Phone Capacity\": \"testing\"\n",
    "        }\n",
    "        with open(filename, 'w') as json_file:\n",
    "            json.dump(data, json_file, indent=4)\n",
    "\n",
    "# Read data from json file\n",
    "with open(filename, 'r') as json_file:\n",
    "    data = json.load(json_file)\n",
    "\n",
    "# There is a directory that the user has entered\n",
    "if os.path.isdir(data[\"PC Directory\"]):\n",
    "    getDir(data[\"PC Directory\"])\n",
    "\n",
    "\n",
    "# TODO\n",
    "# The user has not updated the directory to read from\n",
    "#else:\n",
    "    # Gray out the button for transfering anime.\n",
    "    # Gray out the PC capacity\n",
    "    # Gray out the limit for pc limit\n",
    "    # gray out anime to transfer\n",
    "    # Gray out the get list of avaliable anime button\n",
    "    # Gray out the transfer button.\n",
    "    # Pretty much wait until the user has chosen a valid directory"
   ]
  },
  {
   "cell_type": "markdown",
   "metadata": {},
   "source": [
    "#### Functions"
   ]
  },
  {
   "cell_type": "markdown",
   "metadata": {},
   "source": [
    "##### Percentage of file transfered"
   ]
  },
  {
   "cell_type": "code",
   "execution_count": 5,
   "metadata": {},
   "outputs": [],
   "source": [
    "def file_transfer_progress(src, dst, buffer_size=1024 * 1024):  # 1MB buffer\n",
    "    total_size = os.path.getsize(src)\n",
    "    transferred = 0\n",
    "\n",
    "    with open(src, \"rb\") as fsrc, open(dst, \"wb\") as fdst:\n",
    "        while chunk := fsrc.read(buffer_size):\n",
    "            fdst.write(chunk)\n",
    "            transferred += len(chunk)\n",
    "            yield transferred / total_size  # Return progress as a float (0.0 - 1.0)"
   ]
  },
  {
   "cell_type": "markdown",
   "metadata": {},
   "source": [
    "##### Get size of directory"
   ]
  },
  {
   "cell_type": "code",
   "execution_count": 6,
   "metadata": {},
   "outputs": [],
   "source": [
    "def get_directory_size(directory):\n",
    "    total_size = 0\n",
    "    # Walk through each folder, subfolder, and files\n",
    "    for dirpath, dirnames, filenames in os.walk(directory):\n",
    "        for filename in filenames:\n",
    "            # Get the full file path\n",
    "            file_path = os.path.join(dirpath, filename)\n",
    "            # Add the file size to the total size\n",
    "            if os.path.isfile(file_path):\n",
    "                total_size += os.path.getsize(file_path)\n",
    "                \n",
    "    if total_size == 0:\n",
    "        return \"0B\"\n",
    "    size_name = (\"B\", \"KB\", \"MB\", \"GB\", \"TB\")\n",
    "    i = int(math.floor(math.log(total_size, 1024)))\n",
    "    p = math.pow(1024, i)\n",
    "    s = round(total_size / p, 2)\n",
    "    return f\"{s} {size_name[i]}\""
   ]
  },
  {
   "cell_type": "markdown",
   "metadata": {},
   "source": [
    "##### Get avaliable storage within a directory"
   ]
  },
  {
   "cell_type": "code",
   "execution_count": 7,
   "metadata": {},
   "outputs": [],
   "source": [
    "def get_available_storage(directory=\".\"):\n",
    "    total, used, free = shutil.disk_usage(directory)\n",
    "    return free"
   ]
  },
  {
   "cell_type": "markdown",
   "metadata": {},
   "source": [
    "##### Progress bar"
   ]
  },
  {
   "cell_type": "code",
   "execution_count": 8,
   "metadata": {},
   "outputs": [],
   "source": [
    "def senseStorage(src_dir, dst_dir, root2):\n",
    "    # Sense how much the size of the files is to be transfered\n",
    "    \n",
    "    total = float(str.split(get_directory_size(src_dir))[0])\n",
    "    # Instantiate the progress bar\n",
    "    my_progress = ttk.Progressbar(root2, orient=HORIZONTAL, length=270, mode='determinate')\n",
    "    my_progress.grid()\n",
    "    \n",
    "    progress = 0\n",
    "    size_name = (\"B\", \"KB\", \"MB\", \"GB\", \"TB\")\n",
    "    i = int(math.floor(math.log(total, 1024)))\n",
    "    p = math.pow(1024, i)\n",
    "    s = round(total / p, 2)\n",
    "    print(f\"{s} {size_name[i]}\")\n",
    "    # Periodically check the size of the files within the src_dir and update the progress variable\n",
    "    shutil.move(src_dir, dst_dir)\n",
    "    while progress != total:\n",
    "        # Get the progress\n",
    "        progress = total - int(str.strip(get_directory_size(src_dir))[0])\n",
    "        print(f\"updated progress: {progress}\")\n",
    "        perc_prog = (progress / total) * 100\n",
    "        print(f\"percent progress: {perc_prog}\")\n",
    "        # Update the progress bar variable\n",
    "        my_progress['value'] = perc_prog"
   ]
  },
  {
   "cell_type": "markdown",
   "metadata": {},
   "source": [
    "##### Retrieve Anime"
   ]
  },
  {
   "cell_type": "code",
   "execution_count": 9,
   "metadata": {},
   "outputs": [],
   "source": [
    "def retrieve(titles, data, root2):\n",
    "    # For each title in the list of shows\n",
    "    for title in titles:\n",
    "        \n",
    "        # Get directory of show folder\n",
    "        src_dir = os.path.join(data[\"PC Directory\"], title).replace(\"/\", \"\\\\\")\n",
    "        \n",
    "        # Destination folder\n",
    "        dest_dir = os.path.join(data[\"Phone Directory\"], title).replace(\"/\", \"\\\\\")\n",
    "        \n",
    "        # Phone directory\n",
    "        phone_dir = data[\"Phone Directory\"]\n",
    "        \n",
    "        # Check if the show folder exists\n",
    "        if not os.path.isdir(src_dir):\n",
    "            print(f\"ERROR: Source folder '{src_dir}' does not exist!\")\n",
    "            continue\n",
    "        \n",
    "        # Check if the destination folder already exists\n",
    "        if not os.path.isdir(dest_dir) and os.path.isdir(phone_dir):\n",
    "            \n",
    "            senseStorage(src_dir, data[\"Phone Directory\"], root2)\n",
    "            \n",
    "            print(f\"Retrieved '{title}' to '{phone_dir}'.\")\n",
    "        else:\n",
    "            print(f\"ERROR: Destination path '{dest_dir}' already exists!!!\")"
   ]
  },
  {
   "cell_type": "markdown",
   "metadata": {},
   "source": [
    "##### Store Anime"
   ]
  },
  {
   "cell_type": "code",
   "execution_count": 10,
   "metadata": {},
   "outputs": [],
   "source": [
    "def store(titles, data, root2):\n",
    "    \n",
    "    # For each title in the list of shows\n",
    "    for title in titles:\n",
    "        \n",
    "        # Get directory of show folder\n",
    "        src_dir = os.path.join(data[\"Phone Directory\"], title).replace(\"/\", \"\\\\\")\n",
    "        \n",
    "        # Destination folder\n",
    "        dest_dir = os.path.join(data[\"PC Directory\"], title).replace(\"/\", \"\\\\\")\n",
    "        \n",
    "        # Phone directory\n",
    "        pc_dir = data[\"PC Directory\"]\n",
    "        \n",
    "        # Check if the show folder exists\n",
    "        if not os.path.isdir(src_dir):\n",
    "            print(f\"ERROR: Source folder '{src_dir}' does not exist!\")\n",
    "            continue\n",
    "        \n",
    "        # Check if the destination folder already exists\n",
    "        if not os.path.isdir(dest_dir) and os.path.isdir(pc_dir):\n",
    "                        \n",
    "            for progress in file_transfer_progress(src_dir, pc_dir):\n",
    "                print(f\"Progress (new stuff): {progress:.2%}\")  # Prints progress as percentage'''\n",
    "                \n",
    "            # Move folder and its contents to the new folder\n",
    "            senseStorage(src_dir, pc_dir, root2)\n",
    "            \n",
    "            print(f\"Transferred '{title}' to '{pc_dir}'.\")\n",
    "        else:\n",
    "            print(f\"ERROR: Destination path '{dest_dir}' already exists!!!\")\n",
    "            \n",
    "            \n",
    "# TODO\n",
    "    # Add in a tracker for the files being transfered.\n"
   ]
  },
  {
   "cell_type": "markdown",
   "metadata": {},
   "source": [
    "#### Buttons"
   ]
  },
  {
   "cell_type": "markdown",
   "metadata": {},
   "source": [
    "##### Set PC Directory"
   ]
  },
  {
   "cell_type": "code",
   "execution_count": 11,
   "metadata": {},
   "outputs": [],
   "source": [
    "def setPCDir():\n",
    "    if not os.path.isfile(filename):\n",
    "        # If it doesn't exist, create it and write data to it\n",
    "        data = {\n",
    "            \"PC Directory\": \"testing\",\n",
    "            \"PC Capacity\": \"testing\",\n",
    "            \"PC storage usage\": \"testing\",\n",
    "            \"Phone storage usage\": \"testing\",\n",
    "            \"Phone Directory\": \"testing\",\n",
    "            \"Phone Capacity\": \"testing\"\n",
    "        }\n",
    "        with open(filename, 'w') as json_file:\n",
    "            json.dump(data, json_file, indent=4)\n",
    "    folder_path = filedialog.askdirectory()\n",
    "    if folder_path:\n",
    "        ttk.Label(frm, text=folder_path).grid(column=1, row=1)\n",
    "        # Read the existing JSON data to update it\n",
    "        with open(filename, 'r') as json_file:\n",
    "            data = json.load(json_file)\n",
    "        \n",
    "        # Update the relevant fields in the data dictionary\n",
    "        data[\"PC Directory\"] = folder_path\n",
    "        \n",
    "        # Write the updated data back to the JSON file\n",
    "        with open(filename, 'w') as json_file:\n",
    "            json.dump(data, json_file, indent=4)\n",
    "        print(f\"{filename} has been updated with the new PC Directory.\")"
   ]
  },
  {
   "cell_type": "markdown",
   "metadata": {},
   "source": [
    "##### Set Phone Directory"
   ]
  },
  {
   "cell_type": "code",
   "execution_count": 12,
   "metadata": {},
   "outputs": [],
   "source": [
    "def setPhoneDir():\n",
    "    if not os.path.isfile(filename):\n",
    "        # If it doesn't exist, create it and write data to it\n",
    "        data = {\n",
    "            \"PC Directory\": \"testing\",\n",
    "            \"PC Capacity\": \"testing\",\n",
    "            \"PC storage usage\": \"testing\",\n",
    "            \"Phone storage usage\": \"testing\",\n",
    "            \"Phone Directory\": \"testing\",\n",
    "            \"Phone Capacity\": \"testing\"\n",
    "        }\n",
    "        with open(filename, 'w') as json_file:\n",
    "            json.dump(data, json_file, indent=4)\n",
    "    folder_path = filedialog.askdirectory()\n",
    "    if folder_path:\n",
    "        ttk.Label(frm, text=folder_path).grid(column=1, row=2)\n",
    "        # Read the existing JSON data to update it\n",
    "        with open(filename, 'r') as json_file:\n",
    "            data = json.load(json_file)\n",
    "        \n",
    "        # Update the relevant fields in the data dictionary\n",
    "        data[\"Phone Directory\"] = folder_path\n",
    "        \n",
    "        # Write the updated data back to the JSON file\n",
    "        with open(filename, 'w') as json_file:\n",
    "            json.dump(data, json_file, indent=4)\n",
    "        print(f\"{filename} has been updated with the new Phone Directory.\")"
   ]
  },
  {
   "cell_type": "markdown",
   "metadata": {},
   "source": [
    "##### Transfer Anime"
   ]
  },
  {
   "cell_type": "code",
   "execution_count": 13,
   "metadata": {},
   "outputs": [],
   "source": [
    "def transferAnime():\n",
    "    # Run a new instance of ttk\n",
    "    root2 = Tk()\n",
    "    frm2 = ttk.Frame(root2, padding=10)\n",
    "    frm2.grid()\n",
    "    app_width = 500\n",
    "    app_height = 500\n",
    "    screen_width = root.winfo_screenwidth()\n",
    "    screen_height = root.winfo_screenheight()\n",
    "    x = (screen_width / 2) - (app_width / 2)\n",
    "    y = (screen_height / 2) - (app_height / 2)\n",
    "    root2.geometry(f'{app_width}x{app_height}+{int(x + 100)}+{int(y + 100)}')\n",
    "    \n",
    "    # Get a list of the anime inside of the folder\n",
    "    with open(filename, 'r') as json_file:\n",
    "        data = json.load(json_file)\n",
    "    if data:\n",
    "        # Get the directory of the library\n",
    "        library_path = data[\"PC Directory\"]\n",
    "\n",
    "        # Loop through each folder within the library path directory\n",
    "        items = os.listdir(library_path)\n",
    "        # Separate folders and files\n",
    "        folders = [item for item in items if os.path.isdir(os.path.join(library_path, item))]\n",
    "\n",
    "        # Save folders to a file\n",
    "        with open('avaliable_anime.txt', 'w') as file:\n",
    "            for folder in folders:\n",
    "                file.write(f\"{folder}\\n\")\n",
    "    \n",
    "    # Instantiate and grid scrollbar and listbox\n",
    "    my_scrollbar = Scrollbar(frm2, orient=VERTICAL)\n",
    "    my_listbox = Listbox(frm2, width=50, yscrollcommand=my_scrollbar.set, selectmode=MULTIPLE)\n",
    "    my_scrollbar.config(command=my_listbox.yview)\n",
    "    frm2.grid()\n",
    "    my_listbox.grid(pady=15)\n",
    "    my_listbox.grid(row=0, column=0)\n",
    "    my_scrollbar.grid(row=0, column=1, sticky='ns')\n",
    "    \n",
    "    # Add shows to listbox from avaliable anime\n",
    "    shows = []\n",
    "    with open('avaliable_anime.txt', 'r') as file:\n",
    "        for line in file:\n",
    "            shows.append(line)\n",
    "    for show in shows:\n",
    "        my_listbox.insert(0, show)\n",
    "    \n",
    "    \n",
    "    # Create an entry box\n",
    "    my_entry = Entry(root2)\n",
    "    my_entry.grid()\n",
    "    \n",
    "    # Update entrybox with listbox clicked\n",
    "    def fillout(e):\n",
    "        selection = my_listbox.curselection()\n",
    "        \n",
    "        # Delete whatever is in the entrybox\n",
    "        my_entry.delete(0, END)\n",
    "        \n",
    "        # Add clicked list item to entry box (should I sub this out with anchor?????)\n",
    "        my_entry.insert(0, my_listbox.get(selection[-1]))\n",
    "        \n",
    "    # Update search bar with entry from listbox\n",
    "    my_listbox.bind(\"<<ListboxSelect>>\", fillout)\n",
    "    \n",
    "    \n",
    "    def update(data):\n",
    "        \n",
    "        my_listbox.delete(0, END)\n",
    "        \n",
    "        # Add toppings to listbox\n",
    "        for show in data:\n",
    "            my_listbox.insert(END, show)\n",
    "    \n",
    "    \n",
    "    \n",
    "    # Checks entry vs listbox\n",
    "    def check(e):\n",
    "        \n",
    "        # Grab what was typed\n",
    "        typed = my_entry.get()\n",
    "        \n",
    "        if typed == '':\n",
    "            data = shows\n",
    "        else:\n",
    "            data = []\n",
    "            for show in shows:\n",
    "                if typed.lower() in show.lower():\n",
    "                    data.append(show)\n",
    "                    \n",
    "        # Update our listbox with selected items\n",
    "        update(data)\n",
    "        # See if the string is within the listbox item list\n",
    "    my_entry.bind(\"<KeyRelease>\", check)\n",
    "    \n",
    "    # Select All Button to show entries as labels\n",
    "    def transferSelected():\n",
    "        test = []\n",
    "        for item in my_listbox.curselection():\n",
    "            test.append(str.strip((my_listbox.get(item)))       )\n",
    "        combined_text = ', '.join(test)\n",
    "        combined_label = Label(root2, text=combined_text)\n",
    "        combined_label.grid()  # Place it below the individual labels\n",
    "        # Function to transfer the items selected\n",
    "        retrieve(test, data, root2)\n",
    "        for item in reversed(my_listbox.curselection()):\n",
    "            my_listbox.delete(item)\n",
    "\n",
    "    # Transfer Selected titles\n",
    "    transferSelected_button = Button(root2, text=\"Retrieve Selected\", command=transferSelected)\n",
    "    transferSelected_button.grid(pady=10)\n",
    "    \n",
    "    \n",
    "    my_label = Label(root2, text='')\n",
    "    my_label.grid(pady=5)"
   ]
  },
  {
   "cell_type": "markdown",
   "metadata": {},
   "source": [
    "##### Store Anime"
   ]
  },
  {
   "cell_type": "code",
   "execution_count": null,
   "metadata": {},
   "outputs": [],
   "source": [
    "def storeAnime():\n",
    "    # Run a new instance of ttk\n",
    "    root2 = Tk()\n",
    "    frm2 = ttk.Frame(root2, padding=10)\n",
    "    frm2.grid()\n",
    "    app_width = 500\n",
    "    app_height = 500\n",
    "    screen_width = root.winfo_screenwidth()\n",
    "    screen_height = root.winfo_screenheight()\n",
    "    x = (screen_width / 2) - (app_width / 2)\n",
    "    y = (screen_height / 2) - (app_height / 2)\n",
    "    root2.geometry(f'{app_width}x{app_height}+{int(x + 100)}+{int(y + 100)}')\n",
    "    # Get a list of the anime inside of the folder\n",
    "    with open(filename, 'r') as json_file:\n",
    "        data = json.load(json_file)\n",
    "    if data:\n",
    "        # Get the directory of the library\n",
    "        library_path = data[\"Phone Directory\"]\n",
    "\n",
    "        # Loop through each folder within the library path directory\n",
    "        items = os.listdir(library_path)\n",
    "        # Separate folders and files\n",
    "        folders = [item for item in items if os.path.isdir(os.path.join(library_path, item))]\n",
    "\n",
    "        # Save folders to a file\n",
    "        with open('phone_anime.txt', 'w') as file:\n",
    "            for folder in folders:\n",
    "                file.write(f\"{folder}\\n\")\n",
    "    \n",
    "    # Instantiate and grid scrollbar and listbox\n",
    "    my_scrollbar = Scrollbar(frm2, orient=VERTICAL)\n",
    "    my_listbox = Listbox(frm2, width=50, yscrollcommand=my_scrollbar.set, selectmode=MULTIPLE)\n",
    "    my_scrollbar.config(command=my_listbox.yview)\n",
    "    frm2.grid()\n",
    "    my_listbox.grid(pady=15)\n",
    "    my_listbox.grid(row=0, column=0)\n",
    "    my_scrollbar.grid(row=0, column=1, sticky='ns')\n",
    "    \n",
    "    # Add shows to listbox from avaliable anime\n",
    "    shows = []\n",
    "    with open('phone_anime.txt', 'r') as file:\n",
    "        for line in file:\n",
    "            shows.append(line)\n",
    "    for show in shows:\n",
    "        my_listbox.insert(0, show)\n",
    "    \n",
    "    \n",
    "    # Create an entry box\n",
    "    my_entry = Entry(root2)\n",
    "    my_entry.grid()\n",
    "    \n",
    "    # Update entrybox with listbox clicked\n",
    "    def fillout(e):\n",
    "        selection = my_listbox.curselection()\n",
    "        \n",
    "        # Delete whatever is in the entrybox\n",
    "        my_entry.delete(0, END)\n",
    "        \n",
    "        # Add clicked list item to entry box (should I sub this out with anchor?????)\n",
    "        my_entry.insert(0, my_listbox.get(selection[-1]))\n",
    "        \n",
    "    # Update search bar with entry from listbox\n",
    "    my_listbox.bind(\"<<ListboxSelect>>\", fillout)\n",
    "    \n",
    "    \n",
    "    def update(data):\n",
    "        \n",
    "        my_listbox.delete(0, END)\n",
    "        \n",
    "        # Add toppings to listbox\n",
    "        for show in data:\n",
    "            my_listbox.insert(END, show)\n",
    "    \n",
    "    # Checks entry vs listbox\n",
    "    def check(e):\n",
    "        \n",
    "        # Grab what was typed\n",
    "        typed = my_entry.get()\n",
    "        \n",
    "        if typed == '':\n",
    "            data = shows\n",
    "        else:\n",
    "            data = []\n",
    "            for show in shows:\n",
    "                if typed.lower() in show.lower():\n",
    "                    data.append(show)\n",
    "                    \n",
    "        # Update our listbox with selected items\n",
    "        update(data)\n",
    "        # See if the string is within the listbox item list\n",
    "    my_entry.bind(\"<KeyRelease>\", check)\n",
    "    \n",
    "    # Select All Button to show entries as labels\n",
    "    def transferSelected():\n",
    "        test = []\n",
    "        for item in my_listbox.curselection():\n",
    "            test.append(str.strip((my_listbox.get(item))))\n",
    "        combined_text = ', '.join(test)\n",
    "        combined_label = Label(root2, text=combined_text)\n",
    "        combined_label.grid()\n",
    "        # Function to transfer the items selected\n",
    "        store(test, data, root2)\n",
    "        for item in reversed(my_listbox.curselection()):\n",
    "            my_listbox.delete(item)\n",
    "\n",
    "    # Transfer Selected titles\n",
    "    transferSelected_button = Button(root2, text=\"Store Selected\", command=transferSelected)\n",
    "    transferSelected_button.grid(pady=10)\n",
    "    \n",
    "    \n",
    "    my_label = Label(root2, text='')\n",
    "    my_label.grid(pady=5)"
   ]
  },
  {
   "cell_type": "markdown",
   "metadata": {},
   "source": [
    "#### Progress bars"
   ]
  },
  {
   "cell_type": "markdown",
   "metadata": {},
   "source": [
    "##### Progress Bars for Storing Anime"
   ]
  },
  {
   "cell_type": "code",
   "execution_count": null,
   "metadata": {},
   "outputs": [],
   "source": []
  },
  {
   "cell_type": "markdown",
   "metadata": {},
   "source": [
    "##### Progress Bars for Retrieving Anime"
   ]
  },
  {
   "cell_type": "code",
   "execution_count": null,
   "metadata": {},
   "outputs": [],
   "source": []
  },
  {
   "cell_type": "markdown",
   "metadata": {},
   "source": [
    "#### Rows"
   ]
  },
  {
   "cell_type": "markdown",
   "metadata": {},
   "source": [
    "##### Row 0"
   ]
  },
  {
   "cell_type": "code",
   "execution_count": 15,
   "metadata": {},
   "outputs": [],
   "source": [
    "ttk.Label(frm, text=\"Welcome to the anime library!\").grid(column=0, row=0)"
   ]
  },
  {
   "cell_type": "markdown",
   "metadata": {},
   "source": [
    "##### Row 1"
   ]
  },
  {
   "cell_type": "code",
   "execution_count": 16,
   "metadata": {},
   "outputs": [],
   "source": [
    "ttk.Label(frm, text=\"PC anime directory:\").grid(column=0, row=1)\n",
    "\n",
    "if os.path.isdir(data[\"PC Directory\"]):\n",
    "    ttk.Label(frm, text=data[\"PC Directory\"]).grid(column=1, row=1)\n",
    "\n",
    "ttk.Button(frm, text=\"..\", command=setPCDir).grid(column=2, row=1)"
   ]
  },
  {
   "cell_type": "markdown",
   "metadata": {},
   "source": [
    "##### Row 2"
   ]
  },
  {
   "cell_type": "code",
   "execution_count": 17,
   "metadata": {},
   "outputs": [],
   "source": [
    "ttk.Label(frm, text=\"Phone anime directory:\").grid(column=0, row=2)\n",
    "\n",
    "if os.path.isdir(data[\"Phone Directory\"]):\n",
    "    ttk.Label(frm, text=data[\"Phone Directory\"]).grid(column=1, row=2)\n",
    "    \n",
    "ttk.Button(frm, text=\"..\", command=setPhoneDir).grid(column=2, row=2)"
   ]
  },
  {
   "cell_type": "markdown",
   "metadata": {},
   "source": [
    "##### Row 3"
   ]
  },
  {
   "cell_type": "code",
   "execution_count": 18,
   "metadata": {},
   "outputs": [],
   "source": [
    "# Get the storage usage on pc\n",
    "if os.path.isdir(data[\"PC Directory\"]):\n",
    "    total = get_directory_size(data[\"PC Directory\"])\n",
    "    free = get_available_storage(data[\"PC Directory\"])\n",
    "    \n",
    "ttk.Label(frm, text=f\"PC storage capacity: {total} / {free / (1024**3):.2f} GB\").grid(column=0, row=3)\n",
    "\n",
    "\n",
    "# TODO:\n",
    "    # Currently the storage usage is inaccurate\n",
    "    # How to update the pc usage when the directory is reset"
   ]
  },
  {
   "cell_type": "markdown",
   "metadata": {},
   "source": [
    "##### Row 4"
   ]
  },
  {
   "cell_type": "code",
   "execution_count": 19,
   "metadata": {},
   "outputs": [],
   "source": [
    "if os.path.isdir(data[\"Phone Directory\"]):\n",
    "    total = get_directory_size(data[\"Phone Directory\"])\n",
    "    free = get_available_storage(data[\"Phone Directory\"])\n",
    "ttk.Label(frm, text=f\"Phone storage capacity: {total} / {free / (1024**3):.2f} GB\").grid(column=0, row=4)"
   ]
  },
  {
   "cell_type": "markdown",
   "metadata": {},
   "source": [
    "##### Row 5"
   ]
  },
  {
   "cell_type": "code",
   "execution_count": 20,
   "metadata": {},
   "outputs": [],
   "source": [
    "ttk.Button(frm, text=\"Retrieve\", command=transferAnime).grid(column=0, row=5)\n",
    "ttk.Button(frm, text=\"Store\", command=storeAnime).grid(column=1, row=5)"
   ]
  },
  {
   "cell_type": "markdown",
   "metadata": {},
   "source": [
    "##### Row 8"
   ]
  },
  {
   "cell_type": "code",
   "execution_count": 21,
   "metadata": {},
   "outputs": [],
   "source": [
    "root.mainloop()"
   ]
  },
  {
   "cell_type": "code",
   "execution_count": 22,
   "metadata": {},
   "outputs": [],
   "source": [
    "# COPY THE FILE THEN DELETE IT!!!!!!!!!"
   ]
  },
  {
   "cell_type": "markdown",
   "metadata": {},
   "source": [
    "# Testing storing information"
   ]
  },
  {
   "cell_type": "code",
   "execution_count": 23,
   "metadata": {},
   "outputs": [
    {
     "data": {
      "text/plain": [
       "'\\n\\nimport json\\nimport math\\nimport os\\nimport shutil\\nfrom tkinter import *\\nfrom tqdm import tqdm\\nfrom tkinter import ttk\\nfrom tkinter import filedialog\\nfrom tkinter import font\\nfilename = \\'information.json\\'\\nroot3 = Tk()\\nfrm3 = ttk.Frame(root3, padding=10)\\nfrm3.grid()\\napp_width = 500\\napp_height = 500\\nscreen_width = root3.winfo_screenwidth()\\nscreen_height = root3.winfo_screenheight()\\nx = (screen_width / 2) - (app_width / 2)\\ny = (screen_height / 2) - (app_height / 2)\\nroot3.geometry(f\\'{app_width}x{app_height}+{int(x)}+{int(y)}\\')\\n\\ndef test_copy():\\n    src = \"D:\\\\emulatedPC\\\\avatar\"\\n    dst = \"D:\\\\emulatedPhone\"\\n    if os.path.exists(src) and os.path.exists(dst):\\n        print(\"Awesome\")\\n    elif not os.path.exists(src):\\n        ttk.Label(root3, text=f\"{src} does not exist!\").grid()\\n    elif not os.path.exists(dst):\\n        ttk.Label(root3, text=f\"{dst} does not exist!\").grid()\\n    \\n\\nttk.Button(root3, text=\"export\", command=test_copy).grid()\\n\\nroot3.mainloop()'"
      ]
     },
     "execution_count": 23,
     "metadata": {},
     "output_type": "execute_result"
    }
   ],
   "source": [
    "'''\n",
    "\n",
    "import json\n",
    "import math\n",
    "import os\n",
    "import shutil\n",
    "from tkinter import *\n",
    "from tqdm import tqdm\n",
    "from tkinter import ttk\n",
    "from tkinter import filedialog\n",
    "from tkinter import font\n",
    "filename = 'information.json'\n",
    "root3 = Tk()\n",
    "frm3 = ttk.Frame(root3, padding=10)\n",
    "frm3.grid()\n",
    "app_width = 500\n",
    "app_height = 500\n",
    "screen_width = root3.winfo_screenwidth()\n",
    "screen_height = root3.winfo_screenheight()\n",
    "x = (screen_width / 2) - (app_width / 2)\n",
    "y = (screen_height / 2) - (app_height / 2)\n",
    "root3.geometry(f'{app_width}x{app_height}+{int(x)}+{int(y)}')\n",
    "\n",
    "def test_copy():\n",
    "    src = \"D:\\emulatedPC\\\\avatar\"\n",
    "    dst = \"D:\\emulatedPhone\"\n",
    "    if os.path.exists(src) and os.path.exists(dst):\n",
    "        print(\"Awesome\")\n",
    "    elif not os.path.exists(src):\n",
    "        ttk.Label(root3, text=f\"{src} does not exist!\").grid()\n",
    "    elif not os.path.exists(dst):\n",
    "        ttk.Label(root3, text=f\"{dst} does not exist!\").grid()\n",
    "    \n",
    "\n",
    "ttk.Button(root3, text=\"export\", command=test_copy).grid()\n",
    "\n",
    "root3.mainloop()'''"
   ]
  },
  {
   "cell_type": "code",
   "execution_count": 24,
   "metadata": {},
   "outputs": [
    {
     "data": {
      "text/plain": [
       "'import os\\nimport shutil\\nimport time\\nimport tkinter as tk\\nfrom tkinter import ttk\\nfrom tqdm import tqdm\\n\\n# Initialize Tkinter window\\nroot = tk.Tk()\\nroot.title(\"File Copy Progress\")\\nroot.geometry(\"400x200\")\\n\\n# Progress bar\\nprogress = ttk.Progressbar(root, orient=\"horizontal\", length=300, mode=\"determinate\")\\nprogress.grid(row=4, column=0, pady=20)\\n\\n# Label to show status\\nstatus_label = tk.Label(root, text=\"Waiting to start...\", font=(\"Arial\", 12))\\nstatus_label.grid(row=5, column=0,pady=10)\\n\\n# Function to copy files with tqdm\\ndef copy_files():\\n    # TODO: Pass src as a series of shows you want to have\\n    src = r\"D:\\\\emulatedPC\\x07vatar\"  # Source folder\\n    \\n    # TODO: Edit each dst to be a remade destination folder\\n    dst = r\"D:\\\\emulatedPhone\\x07vatar_copy\"  # Destination folder\\n\\n    if not os.path.exists(src):\\n        status_label.config(text=\"Source folder does not exist!\")\\n        return\\n\\n    # Turn \\n    files = os.listdir(src)\\n    total_files = len(files)\\n\\n    if total_files == 0:\\n        status_label.config(text=\"No files to copy!\")\\n        return\\n\\n    progress[\"maximum\"] = total_files  # Set progress bar max value\\n\\n    \\n    # TODO: Add label saying copying {len(files)} files from {src} to {dst}\\n    \\n    \\n    # TODO: Calculate the total storage of all files\\n    \\n    \\n    \\n    \\n    # Copy files with tqdm\\n    for i, file in enumerate(tqdm(files, desc=\"Copying Files\", unit=\"file\")):\\n        # TODO: Calculate the percentage of files left out of 100\\n        \\n        num_items = tk.Label(root, text=f\"Copying {len(files)} items from {src} to {dst}\", font=(\"Arial\", 12))\\n        num_items.grid(row=0, column=0,pady=10)\\n        \\n        \\n        # TODO: Add label saying {number} % complete\\n        percentage_label = tk.Label(root, text=f\"{23}% complete\", font=(\"Arial\", 12))\\n        percentage_label.grid(row=1, column=0,pady=10)\\n        \\n        \\n        # TODO: Add label saying name: {file_name}\\n        name_label = tk.Label(root, text=f\"name: {file}\", font=(\"Arial\", 12))\\n        name_label.grid(row=2, column=0,pady=10)\\n        \\n        # TODO: Add label saying remaining: _______ (_____ GB)\\n        remaining_items_label = tk.Label(root, text=f\"remaining: {len(files)-i} ({23} KB/MB/GB)\", font=(\"Arial\", 12))\\n        remaining_items_label.grid(row=3, column=0,pady=10)\\n        \\n        # TODO: make the dst and src arrays with file being a matrix\\n        shutil.copytree(os.path.join(src, file), os.path.join(dst, file))\\n        \\n        # When I want to remove the tree\\n        #shutil.rmtree(os.path.join(src, file))\\n        \\n        \\n        \\n        progress[\"value\"] = i + 1  # Update progress bar\\n        root.update_idletasks()  # Refresh GUI\\n\\n    status_label.config(text=\"Copy Completed!\")\\n\\n# Button to start copying\\ncopy_button = ttk.Button(root, text=\"Start Copy\", command=copy_files)\\ncopy_button.grid(row=6, column=0, pady=20)\\n\\n# Run the Tkinter main loop\\nroot.mainloop()\\n'"
      ]
     },
     "execution_count": 24,
     "metadata": {},
     "output_type": "execute_result"
    }
   ],
   "source": [
    "\n",
    "'''import os\n",
    "import shutil\n",
    "import time\n",
    "import tkinter as tk\n",
    "from tkinter import ttk\n",
    "from tqdm import tqdm\n",
    "\n",
    "# Initialize Tkinter window\n",
    "root = tk.Tk()\n",
    "root.title(\"File Copy Progress\")\n",
    "root.geometry(\"400x200\")\n",
    "\n",
    "# Progress bar\n",
    "progress = ttk.Progressbar(root, orient=\"horizontal\", length=300, mode=\"determinate\")\n",
    "progress.grid(row=4, column=0, pady=20)\n",
    "\n",
    "# Label to show status\n",
    "status_label = tk.Label(root, text=\"Waiting to start...\", font=(\"Arial\", 12))\n",
    "status_label.grid(row=5, column=0,pady=10)\n",
    "\n",
    "# Function to copy files with tqdm\n",
    "def copy_files():\n",
    "    # TODO: Pass src as a series of shows you want to have\n",
    "    src = r\"D:\\emulatedPC\\avatar\"  # Source folder\n",
    "    \n",
    "    # TODO: Edit each dst to be a remade destination folder\n",
    "    dst = r\"D:\\emulatedPhone\\avatar_copy\"  # Destination folder\n",
    "\n",
    "    if not os.path.exists(src):\n",
    "        status_label.config(text=\"Source folder does not exist!\")\n",
    "        return\n",
    "\n",
    "    # Turn \n",
    "    files = os.listdir(src)\n",
    "    total_files = len(files)\n",
    "\n",
    "    if total_files == 0:\n",
    "        status_label.config(text=\"No files to copy!\")\n",
    "        return\n",
    "\n",
    "    progress[\"maximum\"] = total_files  # Set progress bar max value\n",
    "\n",
    "    \n",
    "    # TODO: Add label saying copying {len(files)} files from {src} to {dst}\n",
    "    \n",
    "    \n",
    "    # TODO: Calculate the total storage of all files\n",
    "    \n",
    "    \n",
    "    \n",
    "    \n",
    "    # Copy files with tqdm\n",
    "    for i, file in enumerate(tqdm(files, desc=\"Copying Files\", unit=\"file\")):\n",
    "        # TODO: Calculate the percentage of files left out of 100\n",
    "        \n",
    "        num_items = tk.Label(root, text=f\"Copying {len(files)} items from {src} to {dst}\", font=(\"Arial\", 12))\n",
    "        num_items.grid(row=0, column=0,pady=10)\n",
    "        \n",
    "        \n",
    "        # TODO: Add label saying {number} % complete\n",
    "        percentage_label = tk.Label(root, text=f\"{23}% complete\", font=(\"Arial\", 12))\n",
    "        percentage_label.grid(row=1, column=0,pady=10)\n",
    "        \n",
    "        \n",
    "        # TODO: Add label saying name: {file_name}\n",
    "        name_label = tk.Label(root, text=f\"name: {file}\", font=(\"Arial\", 12))\n",
    "        name_label.grid(row=2, column=0,pady=10)\n",
    "        \n",
    "        # TODO: Add label saying remaining: _______ (_____ GB)\n",
    "        remaining_items_label = tk.Label(root, text=f\"remaining: {len(files)-i} ({23} KB/MB/GB)\", font=(\"Arial\", 12))\n",
    "        remaining_items_label.grid(row=3, column=0,pady=10)\n",
    "        \n",
    "        # TODO: make the dst and src arrays with file being a matrix\n",
    "        shutil.copytree(os.path.join(src, file), os.path.join(dst, file))\n",
    "        \n",
    "        # When I want to remove the tree\n",
    "        #shutil.rmtree(os.path.join(src, file))\n",
    "        \n",
    "        \n",
    "        \n",
    "        progress[\"value\"] = i + 1  # Update progress bar\n",
    "        root.update_idletasks()  # Refresh GUI\n",
    "\n",
    "    status_label.config(text=\"Copy Completed!\")\n",
    "\n",
    "# Button to start copying\n",
    "copy_button = ttk.Button(root, text=\"Start Copy\", command=copy_files)\n",
    "copy_button.grid(row=6, column=0, pady=20)\n",
    "\n",
    "# Run the Tkinter main loop\n",
    "root.mainloop()\n",
    "'''"
   ]
  }
 ],
 "metadata": {
  "kernelspec": {
   "display_name": "Python 3",
   "language": "python",
   "name": "python3"
  },
  "language_info": {
   "codemirror_mode": {
    "name": "ipython",
    "version": 3
   },
   "file_extension": ".py",
   "mimetype": "text/x-python",
   "name": "python",
   "nbconvert_exporter": "python",
   "pygments_lexer": "ipython3",
   "version": "3.11.9"
  }
 },
 "nbformat": 4,
 "nbformat_minor": 2
}
