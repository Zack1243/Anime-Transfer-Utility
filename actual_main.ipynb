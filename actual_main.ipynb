{
 "cells": [
  {
   "cell_type": "markdown",
   "metadata": {},
   "source": [
    "#### Import libraries"
   ]
  },
  {
   "cell_type": "code",
   "execution_count": 364,
   "metadata": {},
   "outputs": [],
   "source": [
    "import json\n",
    "import math\n",
    "import os\n",
    "from tkinter import *\n",
    "from tkinter import ttk\n",
    "from tkinter import filedialog\n",
    "import time"
   ]
  },
  {
   "cell_type": "markdown",
   "metadata": {},
   "source": [
    "##### Initialize Interface"
   ]
  },
  {
   "cell_type": "code",
   "execution_count": 365,
   "metadata": {},
   "outputs": [
    {
     "data": {
      "text/plain": [
       "''"
      ]
     },
     "execution_count": 365,
     "metadata": {},
     "output_type": "execute_result"
    }
   ],
   "source": [
    "filename = 'information.json'\n",
    "root = Tk()\n",
    "frm = ttk.Frame(root, padding=10)\n",
    "frm.grid()\n",
    "root.geometry(\"500x600\")"
   ]
  },
  {
   "cell_type": "markdown",
   "metadata": {},
   "source": [
    "##### Initialize files"
   ]
  },
  {
   "cell_type": "code",
   "execution_count": 366,
   "metadata": {},
   "outputs": [],
   "source": [
    "def getDir(library_path):\n",
    "    if library_path and os.path.isdir(library_path):\n",
    "        # Loop through each folder within the library path directory\n",
    "        items = os.listdir(library_path)\n",
    "        # Separate folders and files\n",
    "        folders = [item for item in items if os.path.isdir(os.path.join(library_path, item))]\n",
    "        \n",
    "        # Save folders to a file\n",
    "        with open('avaliable_anime.txt', 'w') as file:\n",
    "            for folder in folders:\n",
    "                file.write(f\"{folder}\\n\")\n",
    "    else:\n",
    "        print(\"ERROR: no directory listed!!! Add it to the information.json file manually...\")"
   ]
  },
  {
   "cell_type": "code",
   "execution_count": 367,
   "metadata": {},
   "outputs": [],
   "source": [
    "if not os.path.isfile(filename):\n",
    "        # If it doesn't exist, create it and write data to it\n",
    "        data = {\n",
    "            \"PC Directory\": \"Nu\",\n",
    "            \"PC Capacity\": \"Nu\",\n",
    "            \"PC storage usage\": \"testing\",\n",
    "            \"Phone storage usage\": \"testing\",\n",
    "            \"Phone Directory\": \"testing\",\n",
    "            \"Phone Capacity\": \"testing\"\n",
    "        }\n",
    "        with open(filename, 'w') as json_file:\n",
    "            json.dump(data, json_file, indent=4)\n",
    "\n",
    "# Read data from json file\n",
    "with open(filename, 'r') as json_file:\n",
    "    data = json.load(json_file)\n",
    "\n",
    "# There is a directory that the user has entered\n",
    "if os.path.isdir(data[\"PC Directory\"]):\n",
    "    getDir(data[\"PC Directory\"])\n",
    "\n",
    "\n",
    "# TODO\n",
    "# The user has not updated the directory to read from\n",
    "#else:\n",
    "    # Gray out the button for transfering anime.\n",
    "    # Gray out the PC capacity\n",
    "    # Gray out the limit for pc limit\n",
    "    # gray out anime to transfer\n",
    "    # Gray out the get list of avaliable anime button\n",
    "    # Gray out the transfer button.\n",
    "    # Pretty much wait until the user has chosen a valid directory"
   ]
  },
  {
   "cell_type": "markdown",
   "metadata": {},
   "source": [
    "#### Buttons"
   ]
  },
  {
   "cell_type": "code",
   "execution_count": 368,
   "metadata": {},
   "outputs": [],
   "source": [
    "def setPCDir():\n",
    "    if not os.path.isfile(filename):\n",
    "        # If it doesn't exist, create it and write data to it\n",
    "        data = {\n",
    "            \"PC Directory\": \"Nu\",\n",
    "            \"PC Capacity\": \"Nu\",\n",
    "            \"PC storage usage\": \"testing\",\n",
    "            \"Phone storage usage\": \"testing\",\n",
    "            \"Phone Directory\": \"testing\",\n",
    "            \"Phone Capacity\": \"testing\"\n",
    "        }\n",
    "        with open(filename, 'w') as json_file:\n",
    "            json.dump(data, json_file, indent=4)\n",
    "    folder_path = filedialog.askdirectory()\n",
    "    if folder_path:\n",
    "        ttk.Label(frm, text=folder_path).grid(column=1, row=1)\n",
    "        # Read the existing JSON data to update it\n",
    "        with open(filename, 'r') as json_file:\n",
    "            data = json.load(json_file)\n",
    "        \n",
    "        # Update the relevant fields in the data dictionary\n",
    "        data[\"PC Directory\"] = folder_path\n",
    "        \n",
    "        # Write the updated data back to the JSON file\n",
    "        with open(filename, 'w') as json_file:\n",
    "            json.dump(data, json_file, indent=4)\n",
    "        print(f\"{filename} has been updated with the new PC Directory.\")"
   ]
  },
  {
   "cell_type": "code",
   "execution_count": 369,
   "metadata": {},
   "outputs": [],
   "source": [
    "def setPhoneDir():\n",
    "    if not os.path.isfile(filename):\n",
    "        # If it doesn't exist, create it and write data to it\n",
    "        data = {\n",
    "            \"PC Directory\": \"Nu\",\n",
    "            \"PC Capacity\": \"Nu\",\n",
    "            \"PC storage usage\": \"testing\",\n",
    "            \"Phone storage usage\": \"testing\",\n",
    "            \"Phone Directory\": \"testing\",\n",
    "            \"Phone Capacity\": \"testing\"\n",
    "        }\n",
    "        with open(filename, 'w') as json_file:\n",
    "            json.dump(data, json_file, indent=4)\n",
    "    folder_path = filedialog.askdirectory()\n",
    "    if folder_path:\n",
    "        ttk.Label(frm, text=folder_path).grid(column=1, row=2)\n",
    "        # Read the existing JSON data to update it\n",
    "        with open(filename, 'r') as json_file:\n",
    "            data = json.load(json_file)\n",
    "        \n",
    "        # Update the relevant fields in the data dictionary\n",
    "        data[\"Phone Directory\"] = folder_path\n",
    "        \n",
    "        # Write the updated data back to the JSON file\n",
    "        with open(filename, 'w') as json_file:\n",
    "            json.dump(data, json_file, indent=4)\n",
    "        print(f\"{filename} has been updated with the new Phone Directory.\")"
   ]
  },
  {
   "cell_type": "markdown",
   "metadata": {},
   "source": [
    "#### Functions"
   ]
  },
  {
   "cell_type": "markdown",
   "metadata": {},
   "source": [
    "##### Function to transfer files"
   ]
  },
  {
   "cell_type": "code",
   "execution_count": null,
   "metadata": {},
   "outputs": [],
   "source": []
  },
  {
   "cell_type": "markdown",
   "metadata": {},
   "source": [
    "##### Function to retrieve files"
   ]
  },
  {
   "cell_type": "code",
   "execution_count": null,
   "metadata": {},
   "outputs": [],
   "source": []
  },
  {
   "cell_type": "markdown",
   "metadata": {},
   "source": [
    "#### Rows"
   ]
  },
  {
   "cell_type": "markdown",
   "metadata": {},
   "source": [
    "##### Row 0"
   ]
  },
  {
   "cell_type": "code",
   "execution_count": 370,
   "metadata": {},
   "outputs": [],
   "source": [
    "ttk.Label(frm, text=\"Welcome to the anime library!\").grid(column=0, row=0)"
   ]
  },
  {
   "cell_type": "markdown",
   "metadata": {},
   "source": [
    "##### Row 1"
   ]
  },
  {
   "cell_type": "code",
   "execution_count": 371,
   "metadata": {},
   "outputs": [],
   "source": [
    "ttk.Label(frm, text=\"PC anime directory:\").grid(column=0, row=1)\n",
    "ttk.Button(frm, text=\"..\", command=setPCDir).grid(column=2, row=1)"
   ]
  },
  {
   "cell_type": "markdown",
   "metadata": {},
   "source": [
    "##### Row 2"
   ]
  },
  {
   "cell_type": "code",
   "execution_count": 372,
   "metadata": {},
   "outputs": [],
   "source": [
    "ttk.Label(frm, text=\"Phone anime directory:\").grid(column=0, row=2)\n",
    "ttk.Button(frm, text=\"..\", command=setPhoneDir).grid(column=2, row=2)\n"
   ]
  },
  {
   "cell_type": "markdown",
   "metadata": {},
   "source": [
    "##### Row 3"
   ]
  },
  {
   "cell_type": "code",
   "execution_count": 373,
   "metadata": {},
   "outputs": [],
   "source": [
    "def get_directory_size(directory):\n",
    "    total_size = 0\n",
    "    # Walk through each folder, subfolder, and files\n",
    "    for dirpath, dirnames, filenames in os.walk(directory):\n",
    "        for filename in filenames:\n",
    "            # Get the full file path\n",
    "            file_path = os.path.join(dirpath, filename)\n",
    "            # Add the file size to the total size\n",
    "            if os.path.isfile(file_path):\n",
    "                total_size += os.path.getsize(file_path)\n",
    "                \n",
    "    if total_size == 0:\n",
    "        return \"0B\"\n",
    "    size_name = (\"B\", \"KB\", \"MB\", \"GB\", \"TB\")\n",
    "    i = int(math.floor(math.log(total_size, 1024)))\n",
    "    p = math.pow(1024, i)\n",
    "    s = round(total_size / p, 2)\n",
    "    return s"
   ]
  },
  {
   "cell_type": "code",
   "execution_count": 374,
   "metadata": {},
   "outputs": [],
   "source": [
    "# Get the storage usage on pc\n",
    "if os.path.isdir(data[\"PC Directory\"]):\n",
    "    total = get_directory_size(data[\"PC Directory\"])\n",
    "\n",
    "ttk.Label(frm, text=f\"PC storage capacity: {total}/TOTAL GB\").grid(column=0, row=3)\n",
    "\n",
    "# TODO:\n",
    "    # Currently the storage usage is inaccurate\n",
    "    # How to update the pc usage when the directory is reset"
   ]
  },
  {
   "cell_type": "markdown",
   "metadata": {},
   "source": [
    "##### Row 4"
   ]
  },
  {
   "cell_type": "code",
   "execution_count": 375,
   "metadata": {},
   "outputs": [],
   "source": [
    "ttk.Label(frm, text=\"Phone storage capacity: current/total\").grid(column=0, row=4)\n"
   ]
  },
  {
   "cell_type": "markdown",
   "metadata": {},
   "source": [
    "##### Row 5"
   ]
  },
  {
   "cell_type": "code",
   "execution_count": 376,
   "metadata": {},
   "outputs": [],
   "source": [
    "ttk.Label(frm, text=\"Anime to transfer: [popout textbox with submit button]\").grid(column=0, row=5)\n"
   ]
  },
  {
   "cell_type": "markdown",
   "metadata": {},
   "source": [
    "##### Row 6"
   ]
  },
  {
   "cell_type": "code",
   "execution_count": 377,
   "metadata": {},
   "outputs": [],
   "source": [
    "ttk.Label(frm, text=\"[Get list of avaliable anime]\").grid(column=0, row=6)\n"
   ]
  },
  {
   "cell_type": "markdown",
   "metadata": {},
   "source": [
    "##### Row 7"
   ]
  },
  {
   "cell_type": "code",
   "execution_count": 378,
   "metadata": {},
   "outputs": [],
   "source": [
    "ttk.Label(frm, text=\"Retrieve/Store\").grid(column=0, row=7)"
   ]
  },
  {
   "cell_type": "markdown",
   "metadata": {},
   "source": [
    "##### Row 8"
   ]
  },
  {
   "cell_type": "code",
   "execution_count": 379,
   "metadata": {},
   "outputs": [],
   "source": [
    "ttk.Label(frm, text=\"Retrieve/Store\").grid(column=0, row=7)"
   ]
  },
  {
   "cell_type": "code",
   "execution_count": 380,
   "metadata": {},
   "outputs": [],
   "source": [
    "ttk.Button(frm, text=\"Quit\", command=root.destroy).grid()\n",
    "root.mainloop()"
   ]
  }
 ],
 "metadata": {
  "kernelspec": {
   "display_name": "Python 3",
   "language": "python",
   "name": "python3"
  },
  "language_info": {
   "codemirror_mode": {
    "name": "ipython",
    "version": 3
   },
   "file_extension": ".py",
   "mimetype": "text/x-python",
   "name": "python",
   "nbconvert_exporter": "python",
   "pygments_lexer": "ipython3",
   "version": "3.11.9"
  }
 },
 "nbformat": 4,
 "nbformat_minor": 2
}
