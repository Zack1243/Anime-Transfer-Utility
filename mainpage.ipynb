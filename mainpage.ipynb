{
 "cells": [
  {
   "cell_type": "markdown",
   "metadata": {},
   "source": [
    "## Import libraries"
   ]
  },
  {
   "cell_type": "code",
   "execution_count": 46,
   "metadata": {},
   "outputs": [],
   "source": [
    "from button_functions import Button_functions\n",
    "from functions import Functions\n",
    "from tkinter import *\n",
    "INFOFILE = 'information.json'"
   ]
  },
  {
   "cell_type": "markdown",
   "metadata": {},
   "source": [
    "## Initialize Interface"
   ]
  },
  {
   "cell_type": "code",
   "execution_count": 47,
   "metadata": {},
   "outputs": [
    {
     "name": "stdout",
     "output_type": "stream",
     "text": [
      "PY_VAR20\n"
     ]
    }
   ],
   "source": [
    "obj = Functions(INFOFILE)\n",
    "func_but = Button_functions(INFOFILE)\n",
    "root, frm, labels = obj.rootInit()\n",
    "if obj.checkInfofileInit():\n",
    "    data = obj.getInfofileData()"
   ]
  },
  {
   "cell_type": "markdown",
   "metadata": {},
   "source": [
    "### Row 0"
   ]
  },
  {
   "cell_type": "code",
   "execution_count": 48,
   "metadata": {},
   "outputs": [
    {
     "data": {
      "text/plain": [
       "<tkinter.ttk.Label object .!frame.!label>"
      ]
     },
     "execution_count": 48,
     "metadata": {},
     "output_type": "execute_result"
    }
   ],
   "source": [
    "obj.gridLabel(\n",
    "                frm,\n",
    "                label_cont = \"Welcome to the anime transfer tool!\",\n",
    "                r = 0,\n",
    "                c = 0\n",
    "            )"
   ]
  },
  {
   "cell_type": "markdown",
   "metadata": {},
   "source": [
    "### Row 1"
   ]
  },
  {
   "cell_type": "code",
   "execution_count": 49,
   "metadata": {},
   "outputs": [],
   "source": [
    "\n",
    "_ = obj.gridLabel(  \n",
    "                frm,\n",
    "                label_cont = \"Choose the aniyomi Phone directory (should be called Anime): \",\n",
    "                r = 1,\n",
    "                c = 0\n",
    "            )\n",
    "\n",
    "phone_directory_label = obj.gridVariableLabel(  \n",
    "                frm,\n",
    "                label_cont = labels[\"Phone Directory\"],\n",
    "                r = 1,\n",
    "                c = 1\n",
    "            )\n",
    "\n",
    "_ = obj.gridButton(\n",
    "                frm,\n",
    "                button_lab = \"..\",\n",
    "                button_function = lambda: func_but.setPhoneDirectory(obj, labels),\n",
    "                r = 1,\n",
    "                c = 2\n",
    "            )"
   ]
  },
  {
   "cell_type": "markdown",
   "metadata": {},
   "source": [
    "### Row 2"
   ]
  },
  {
   "cell_type": "code",
   "execution_count": 50,
   "metadata": {},
   "outputs": [],
   "source": [
    "_ = obj.gridLabel(  \n",
    "                frm,\n",
    "                label_cont = \"Choose a PC directory: \",\n",
    "                r = 2,\n",
    "                c = 0\n",
    "            )\n",
    "\n",
    "pc_directory_label = obj.gridVariableLabel(  \n",
    "                frm,\n",
    "                label_cont = f\"{labels['PC Directory']}\",\n",
    "                r = 2,\n",
    "                c = 1\n",
    "            )\n",
    "\n",
    "_ = obj.gridButton(\n",
    "                frm,\n",
    "                button_lab = \"..\",\n",
    "                button_function = lambda: func_but.setPCDirectory(obj, labels),\n",
    "                r = 2,\n",
    "                c = 2\n",
    "            )"
   ]
  },
  {
   "cell_type": "markdown",
   "metadata": {},
   "source": [
    "### Row 3"
   ]
  },
  {
   "cell_type": "code",
   "execution_count": 51,
   "metadata": {},
   "outputs": [],
   "source": [
    "pc_storage_usage_label = obj.gridVariableLabel(                      \n",
    "                frm,\n",
    "                label_cont = labels['PC Storage Usage'],\n",
    "                r = 3,\n",
    "                c = 0\n",
    "            )"
   ]
  },
  {
   "cell_type": "markdown",
   "metadata": {},
   "source": [
    "### Row 4"
   ]
  },
  {
   "cell_type": "code",
   "execution_count": 52,
   "metadata": {},
   "outputs": [],
   "source": [
    "phone_storage_usage_label = obj.gridVariableLabel(\n",
    "                frm,\n",
    "                label_cont = labels['Phone Storage Usage'],\n",
    "                r = 4,\n",
    "                c = 0\n",
    "            )"
   ]
  },
  {
   "cell_type": "markdown",
   "metadata": {},
   "source": [
    "### Row 5"
   ]
  },
  {
   "cell_type": "code",
   "execution_count": 53,
   "metadata": {},
   "outputs": [],
   "source": [
    "_ = obj.gridButton(\n",
    "                frm,\n",
    "                button_lab = \"Store Anime\",\n",
    "                button_function=lambda: func_but.storeAnime(obj, frm, labels),\n",
    "                r = 5,\n",
    "                c = 0\n",
    "            )"
   ]
  },
  {
   "cell_type": "markdown",
   "metadata": {},
   "source": [
    "### Row 6"
   ]
  },
  {
   "cell_type": "code",
   "execution_count": 54,
   "metadata": {},
   "outputs": [
    {
     "name": "stdout",
     "output_type": "stream",
     "text": [
      "User has refused to select a directory\n",
      "User has refused to select a directory\n"
     ]
    }
   ],
   "source": [
    "root.mainloop()"
   ]
  }
 ],
 "metadata": {
  "kernelspec": {
   "display_name": "Python 3",
   "language": "python",
   "name": "python3"
  },
  "language_info": {
   "codemirror_mode": {
    "name": "ipython",
    "version": 3
   },
   "file_extension": ".py",
   "mimetype": "text/x-python",
   "name": "python",
   "nbconvert_exporter": "python",
   "pygments_lexer": "ipython3",
   "version": "3.11.9"
  }
 },
 "nbformat": 4,
 "nbformat_minor": 2
}
