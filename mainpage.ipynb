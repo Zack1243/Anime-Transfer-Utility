{
 "cells": [
  {
   "cell_type": "markdown",
   "metadata": {},
   "source": [
    "## Import libraries"
   ]
  },
  {
   "cell_type": "code",
   "execution_count": 1,
   "metadata": {},
   "outputs": [],
   "source": [
    "#from button_functions import Button_functions\n",
    "#from functions import Functions\n",
    "from tkinter import *\n",
    "INFOFILE = 'information.json'"
   ]
  },
  {
   "cell_type": "markdown",
   "metadata": {},
   "source": [
    "## Initialize Interface"
   ]
  },
  {
   "cell_type": "code",
   "execution_count": 2,
   "metadata": {},
   "outputs": [],
   "source": [
    "\n",
    "\n",
    "\n",
    "\n",
    "#root, frm, labels = obj.rootInit()\n",
    "#if obj.checkInfofileInit():\n",
    "    #data = obj.getInfofileData()"
   ]
  },
  {
   "cell_type": "markdown",
   "metadata": {},
   "source": [
    "### Row 0"
   ]
  },
  {
   "cell_type": "code",
   "execution_count": 3,
   "metadata": {},
   "outputs": [
    {
     "ename": "NameError",
     "evalue": "name 'obj' is not defined",
     "output_type": "error",
     "traceback": [
      "\u001b[1;31m---------------------------------------------------------------------------\u001b[0m",
      "\u001b[1;31mNameError\u001b[0m                                 Traceback (most recent call last)",
      "Cell \u001b[1;32mIn[3], line 1\u001b[0m\n\u001b[1;32m----> 1\u001b[0m \u001b[43mobj\u001b[49m\u001b[38;5;241m.\u001b[39mgridLabel(\n\u001b[0;32m      2\u001b[0m                 frm,\n\u001b[0;32m      3\u001b[0m                 label_cont \u001b[38;5;241m=\u001b[39m \u001b[38;5;124m\"\u001b[39m\u001b[38;5;124mWelcome to the anime transfer tool!\u001b[39m\u001b[38;5;124m\"\u001b[39m,\n\u001b[0;32m      4\u001b[0m                 r \u001b[38;5;241m=\u001b[39m \u001b[38;5;241m0\u001b[39m,\n\u001b[0;32m      5\u001b[0m                 c \u001b[38;5;241m=\u001b[39m \u001b[38;5;241m0\u001b[39m\n\u001b[0;32m      6\u001b[0m             )\n",
      "\u001b[1;31mNameError\u001b[0m: name 'obj' is not defined"
     ]
    }
   ],
   "source": [
    "obj.gridLabel(\n",
    "                frm,\n",
    "                label_cont = \"Welcome to the anime transfer tool!\",\n",
    "                r = 0,\n",
    "                c = 0\n",
    "            )"
   ]
  },
  {
   "cell_type": "markdown",
   "metadata": {},
   "source": [
    "### Row 1"
   ]
  },
  {
   "cell_type": "code",
   "execution_count": null,
   "metadata": {},
   "outputs": [
    {
     "name": "stdout",
     "output_type": "stream",
     "text": [
      "PY_VAR2\n"
     ]
    }
   ],
   "source": [
    "\n",
    "_ = obj.gridLabel(  \n",
    "                frm,\n",
    "                label_cont = \"Choose the aniyomi Phone directory (should be called Anime): \",\n",
    "                r = 1,\n",
    "                c = 0\n",
    "            )\n",
    "\n",
    "phone_directory_label = obj.gridVariableLabel(  \n",
    "                frm,\n",
    "                label_cont = labels[\"Phone Directory\"],\n",
    "                r = 1,\n",
    "                c = 1\n",
    "            )\n",
    "\n",
    "_ = obj.gridButton(\n",
    "                frm,\n",
    "                button_lab = \"..\",\n",
    "                button_function = lambda: func_but.setPhoneDirectory(obj, labels),\n",
    "                r = 1,\n",
    "                c = 2\n",
    "            )"
   ]
  },
  {
   "cell_type": "markdown",
   "metadata": {},
   "source": [
    "### Row 2"
   ]
  },
  {
   "cell_type": "code",
   "execution_count": null,
   "metadata": {},
   "outputs": [
    {
     "name": "stdout",
     "output_type": "stream",
     "text": [
      "PY_VAR0\n"
     ]
    }
   ],
   "source": [
    "_ = obj.gridLabel(  \n",
    "                frm,\n",
    "                label_cont = \"Choose a PC directory: \",\n",
    "                r = 2,\n",
    "                c = 0\n",
    "            )\n",
    "\n",
    "pc_directory_label = obj.gridVariableLabel(  \n",
    "                frm,\n",
    "                label_cont = f\"{labels['PC Directory']}\",\n",
    "                r = 2,\n",
    "                c = 1\n",
    "            )\n",
    "\n",
    "_ = obj.gridButton(\n",
    "                frm,\n",
    "                button_lab = \"..\",\n",
    "                button_function = lambda: func_but.setPCDirectory(obj, labels),\n",
    "                r = 2,\n",
    "                c = 2\n",
    "            )"
   ]
  },
  {
   "cell_type": "markdown",
   "metadata": {},
   "source": [
    "### Row 3"
   ]
  },
  {
   "cell_type": "code",
   "execution_count": null,
   "metadata": {},
   "outputs": [
    {
     "name": "stdout",
     "output_type": "stream",
     "text": [
      "PY_VAR1\n"
     ]
    }
   ],
   "source": [
    "pc_storage_usage_label = obj.gridVariableLabel(                      \n",
    "                frm,\n",
    "                label_cont = labels['PC Storage Usage'],\n",
    "                r = 3,\n",
    "                c = 0\n",
    "            )"
   ]
  },
  {
   "cell_type": "markdown",
   "metadata": {},
   "source": [
    "### Row 4"
   ]
  },
  {
   "cell_type": "code",
   "execution_count": null,
   "metadata": {},
   "outputs": [
    {
     "name": "stdout",
     "output_type": "stream",
     "text": [
      "PY_VAR3\n"
     ]
    }
   ],
   "source": [
    "phone_storage_usage_label = obj.gridVariableLabel(\n",
    "                frm,\n",
    "                label_cont = labels['Phone Storage Usage'],\n",
    "                r = 4,\n",
    "                c = 0\n",
    "            )"
   ]
  },
  {
   "cell_type": "markdown",
   "metadata": {},
   "source": [
    "### Row 5"
   ]
  },
  {
   "cell_type": "code",
   "execution_count": null,
   "metadata": {},
   "outputs": [],
   "source": [
    "_ = obj.gridButton(\n",
    "                frm,\n",
    "                button_lab = \"Store Anime\",\n",
    "                button_function=lambda: func_but.storeAnime(obj, func_but, frm, labels, data),\n",
    "                r = 5,\n",
    "                c = 0\n",
    "            )"
   ]
  },
  {
   "cell_type": "markdown",
   "metadata": {},
   "source": [
    "### Row 6"
   ]
  },
  {
   "cell_type": "code",
   "execution_count": null,
   "metadata": {},
   "outputs": [],
   "source": [
    "root.mainloop()"
   ]
  }
 ],
 "metadata": {
  "kernelspec": {
   "display_name": "Python 3",
   "language": "python",
   "name": "python3"
  },
  "language_info": {
   "codemirror_mode": {
    "name": "ipython",
    "version": 3
   },
   "file_extension": ".py",
   "mimetype": "text/x-python",
   "name": "python",
   "nbconvert_exporter": "python",
   "pygments_lexer": "ipython3",
   "version": "3.11.9"
  }
 },
 "nbformat": 4,
 "nbformat_minor": 2
}
