{
 "cells": [
  {
   "cell_type": "code",
   "execution_count": null,
   "metadata": {},
   "outputs": [],
   "source": [
    "import requests\n",
    "import json\n",
    "import os\n",
    "import re\n",
    "import shutil\n",
    "import subprocess\n",
    "import sys\n",
    "import time\n",
    "import yt_dlp\n",
    "import zipfile\n",
    "from tkinter import *\n",
    "from tkinter import ttk\n",
    "import tkinter as tk\n",
    "from tkinter import filedialog\n",
    "from tkinter import font\n",
    "from tkinter import messagebox\n",
    "from tkinter import Listbox\n",
    "import os\n",
    "import json\n",
    "import shutil\n",
    "import os\n",
    "import re\n",
    "import subprocess\n",
    "import time\n",
    "from seleniumwire import webdriver\n",
    "#pip install blinker==1.4 #in case the import webdriver doesn't work\n",
    "from selenium.webdriver.firefox.options import Options\n",
    "\n",
    "def getTitle(url):\n",
    "  try:\n",
    "    print(url)\n",
    "    \n",
    "    # Get the video title\n",
    "    result = subprocess.run([\n",
    "        sys.executable, \"-m\", \"yt_dlp\",\n",
    "        \"--no-playlist\",\n",
    "        \"--skip-download\",\n",
    "        \"--get-title\",\n",
    "        url\n",
    "    ], capture_output=True, text=True, check=True)\n",
    "    \n",
    "    # Extract the title from the result\n",
    "    title = result.stdout.strip()\n",
    "    return title\n",
    "  except subprocess.CalledProcessError as e:\n",
    "    return \"\"\n",
    "\n",
    "\n",
    "def filter_details(file, url, episode_file):\n",
    "\n",
    "  # Get correct format options\n",
    "  with open(file, 'r') as f:\n",
    "    data = json.load(f)\n",
    "\n",
    "    # Get info for details.json file\n",
    "    transformed_data = {\n",
    "        \"title\": data.get(\"title\", \"\"),\n",
    "        \"author\": data.get(\"uploader\", \"\"),\n",
    "        \"artist\": data.get(\"uploader\", \"can't re-use uploader I guess...\"),\n",
    "        \"description\": data.get(\"description\", \"\"),\n",
    "        \"genre\": data.get(\"tags\", []),\n",
    "        # Trying 3 for the status value to see if artist/uploader works\n",
    "        \"status\": \"2\",\n",
    "        \"url\": url,\n",
    "    }\n",
    "\n",
    "    # Get details for episode.json file\n",
    "    episode_data = [{\n",
    "              \"episode_number\": 1,\n",
    "              \"name\": data.get(\"title\", \"\"),\n",
    "              \"date_upload\": data.get(\"upload_date\", \"\")\n",
    "    }]\n",
    "\n",
    "    url_pattern = r'https?://\\S+|www\\.\\S+'\n",
    "\n",
    "    # Replace URLs with an empty string\n",
    "    transformed_data[\"description\"] = re.sub(url_pattern, '', transformed_data[\"description\"])\n",
    "\n",
    "    # Rewrite .json files WITH PROPER SYNTAX!!!\n",
    "    with open(file, 'w') as f:\n",
    "      json.dump(transformed_data, f, indent=4)\n",
    "\n",
    "    with open(episode_file, 'w') as f:\n",
    "      json.dump(episode_data, f, indent=4)\n",
    "  return"
   ]
  },
  {
   "cell_type": "code",
   "execution_count": null,
   "metadata": {},
   "outputs": [
    {
     "name": "stdout",
     "output_type": "stream",
     "text": [
      ".....................................\n",
      "Detected urls:\n",
      "https://www.youtube.com/watch?v=F6ikCpchLbs&list=RDF6ikCpchLbs&start_radio=1\n",
      ".....................................\n",
      "Title of url: _ The Man I Know I'm Not _ - Stanley Pines\n",
      "Path of stored title: d:\\Programming\\Tkinter exe\\_ The Man I Know I'm Not _ - Stanley Pines\n",
      "Title: _ The Man I Know I'm Not _ - Stanley Pines\n",
      "Found the ffmpeg Directory!\n",
      "………………………………………………………………………………………………………\n",
      "An error occurred: Command '['C:\\\\Users\\\\Zachary\\\\AppData\\\\Local\\\\Microsoft\\\\WindowsApps\\\\PythonSoftwareFoundation.Python.3.11_qbz5n2kfra8p0\\\\python.exe', '-m', 'yt_dlp', '--ffmpeg-location', 'd:\\\\Programming\\\\Tkinter exe\\\\ffmpeg', '--progress', '--no-playlist', '-f', 'bestvideo[height<=1080]+bestaudio/best[height<=1080]/best', '-o', \"d:\\\\Programming\\\\Tkinter exe\\\\_ The Man I Know I'm Not _ - Stanley Pines\\\\%(title)s.%(ext)s\", 'https://www.youtube.com/watch?v=F6ikCpchLbs&list=RDF6ikCpchLbs&start_radio=1']' returned non-zero exit status 1.\n",
      "Failed to download url: https://www.youtube.com/watch?v=F6ikCpchLbs&list=RDF6ikCpchLbs&start_radio=1\n",
      "………………………………………………………………………………………………………\n",
      "Failed to download the video: _ The Man I Know I'm Not _ - Stanley Pines\n"
     ]
    }
   ],
   "source": []
  },
  {
   "cell_type": "code",
   "execution_count": 3,
   "metadata": {},
   "outputs": [],
   "source": [
    "url = \"\"\n"
   ]
  },
  {
   "cell_type": "code",
   "execution_count": 4,
   "metadata": {},
   "outputs": [],
   "source": [
    "def instantiate_checkpoint_files():\n",
    "  with open('urls.txt', 'w') as f:\n",
    "    f.write(input(\"Enter urls: \"))\n",
    "    pass\n",
    "  with open('completed.txt', 'w') as f:\n",
    "    pass\n",
    "  with open('failed_downloads.txt', 'w') as f:\n",
    "    pass\n",
    "  with open('downloaded already.txt', 'w') as f:\n",
    "    pass"
   ]
  },
  {
   "cell_type": "code",
   "execution_count": 5,
   "metadata": {},
   "outputs": [
    {
     "name": "stdout",
     "output_type": "stream",
     "text": [
      "\n",
      "SKIPPED: .zip\n"
     ]
    }
   ],
   "source": [
    "# Check if the infofiles have been instantiated\n",
    "if not os.path.exists('urls.txt'):\n",
    "  instantiate_checkpoint_files()\n",
    "\n",
    "# Read Checkpoint files\n",
    "with open('completed.txt', 'r') as f:\n",
    "  completed = f.read().splitlines()[:]\n",
    "with open('failed_downloads.txt', 'r') as f:\n",
    "  failed = f.read().splitlines()[:]\n",
    "with open('downloaded already.txt', 'r') as f:\n",
    "  zipped = f.read().splitlines()[:]\n",
    "  \n",
    "title = getTitle(url)\n",
    "if url not in completed and url not in failed and title + '.zip' not in zipped:\n",
    "  if download(url):\n",
    "    title = getTitle(url)\n",
    "    with open('completed.txt', 'a') as f:\n",
    "      f.write(url + '\\n')\n",
    "else:\n",
    "  print('SKIPPED: ' + title + '.zip')"
   ]
  }
 ],
 "metadata": {
  "kernelspec": {
   "display_name": "Python 3",
   "language": "python",
   "name": "python3"
  },
  "language_info": {
   "codemirror_mode": {
    "name": "ipython",
    "version": 3
   },
   "file_extension": ".py",
   "mimetype": "text/x-python",
   "name": "python",
   "nbconvert_exporter": "python",
   "pygments_lexer": "ipython3",
   "version": "3.11.9"
  }
 },
 "nbformat": 4,
 "nbformat_minor": 2
}
