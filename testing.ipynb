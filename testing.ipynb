{
 "cells": [
  {
   "cell_type": "code",
   "execution_count": 4,
   "metadata": {},
   "outputs": [
    {
     "name": "stdout",
     "output_type": "stream",
     "text": [
      "pc directory: PY_VAR4\n"
     ]
    }
   ],
   "source": [
    "from button_functions import Button_functions\n",
    "from functions import Functions\n",
    "from popups import Popups\n",
    "from tkinter import *\n",
    "import os\n",
    "INFOFILE = 'information.json'\n",
    "\n",
    "obj = Functions(INFOFILE)\n",
    "func_but = Button_functions(INFOFILE)\n",
    "pop = Popups(INFOFILE)\n",
    "root, frm, labels = obj.rootInit()\n",
    "if obj.checkInfofileInit():\n",
    "    data = obj.getInfofileData()\n",
    "phoneDir = data['Phone Directory']\n",
    "titles = [\"ben 10\", \"project zomboid\", \"the boys\", \"invincible\", \"Terror cannon\", \"Bestest day\", \"Spongebob\"]"
   ]
  },
  {
   "cell_type": "code",
   "execution_count": 5,
   "metadata": {},
   "outputs": [
    {
     "name": "stdout",
     "output_type": "stream",
     "text": [
      "<class 'tkinter.Listbox'>\n",
      "('Spongebob', 'Bestest day', 'Terror cannon', 'invincible', 'the boys', 'project zomboid', 'ben 10')\n",
      "ben 10\n",
      "the boys\n",
      "invincible\n",
      "Terror cannon\n",
      "Bestest day\n",
      "Spongebob\n",
      "<class 'tkinter.Listbox'>\n",
      "('project zomboid',)\n",
      "project zomboid\n",
      "<class 'tkinter.Listbox'>\n",
      "()\n",
      "<class 'tkinter.Listbox'>\n",
      "()\n"
     ]
    }
   ],
   "source": [
    "showListbox = obj.gridListbox(\n",
    "        frm,\n",
    "        titles,\n",
    "        r = 0,\n",
    "        c = 0\n",
    "    )\n",
    "\n",
    "\n",
    "storeButton = obj.gridButton(\n",
    "        frm,\n",
    "        button_lab = \"Store\",\n",
    "        button_function = lambda: func_but.testDelete(showListbox),\n",
    "        r = 1,\n",
    "        c = 0\n",
    ")\n",
    "root.mainloop()\n"
   ]
  },
  {
   "cell_type": "code",
   "execution_count": 6,
   "metadata": {},
   "outputs": [],
   "source": [
    "# TODO:\n",
    "# Update the listbox after storing has happened\n",
    "\n",
    "# make the showMap updateable"
   ]
  },
  {
   "cell_type": "code",
   "execution_count": null,
   "metadata": {},
   "outputs": [],
   "source": []
  },
  {
   "cell_type": "code",
   "execution_count": null,
   "metadata": {},
   "outputs": [],
   "source": []
  }
 ],
 "metadata": {
  "kernelspec": {
   "display_name": "Python 3",
   "language": "python",
   "name": "python3"
  },
  "language_info": {
   "codemirror_mode": {
    "name": "ipython",
    "version": 3
   },
   "file_extension": ".py",
   "mimetype": "text/x-python",
   "name": "python",
   "nbconvert_exporter": "python",
   "pygments_lexer": "ipython3",
   "version": "3.11.9"
  }
 },
 "nbformat": 4,
 "nbformat_minor": 2
}
