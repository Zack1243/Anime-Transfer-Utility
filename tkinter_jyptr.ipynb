{
 "cells": [
  {
   "cell_type": "markdown",
   "metadata": {},
   "source": [
    "#### Import libraries"
   ]
  },
  {
   "cell_type": "code",
   "execution_count": 42,
   "metadata": {},
   "outputs": [],
   "source": [
    "from tkinter import *\n",
    "from tkinter import ttk\n",
    "from tkinter import filedialog\n",
    "import json\n",
    "import os\n",
    "\n",
    "\n",
    "filename = 'information.json'\n",
    "root = Tk()\n",
    "frm = ttk.Frame(root, padding=10)\n",
    "frm.grid()\n",
    "\n",
    "# Row 0\n",
    "ttk.Label(frm, text=\"Welcome to the anime library!\").grid(column=0, row=0)\n",
    "# D:\\homework\n",
    "# Find each subfolder within the directory\n",
    "# see if it contains an Episode folder >> .mkv file\n",
    "# if it doesn't contain an Episode folder, see if >> .mkv file\n",
    "# if contains neither, then anime is not avaliable\n",
    "# Add to list of avaliable content in a .txt file\n",
    "\n",
    "def showAnime():\n",
    "    with open(filename, 'r') as json_file:\n",
    "        data = json.load(json_file)\n",
    "    if data:\n",
    "        # Get the directory of the library\n",
    "        library_path = data[\"PC Directory\"]\n",
    "        \n",
    "        # Loop through each folder within the library path directory\n",
    "        items = os.listdir(library_path)\n",
    "\n",
    "        # Separate folders and files\n",
    "        folders = [item for item in items if os.path.isdir(os.path.join(library_path, item))]\n",
    "        \n",
    "        # Save folders to a file\n",
    "        with open('avaliable_anime.txt', 'w') as file:\n",
    "            for folder in folders:\n",
    "                file.write(f\"{folder}\\n\")\n",
    "        root2 = Tk()\n",
    "        root2.geometry(\"500x600\")\n",
    "        frm2 = ttk.Frame(root2, padding=10)\n",
    "        frm2.grid()\n",
    "        my_frame = Frame(root2)\n",
    "        \n",
    "        my_scrollbar = Scrollbar(my_frame, orient=VERTICAL)\n",
    "        # number of letters times 1.3\n",
    "        my_listbox = Listbox(my_frame, width=50, yscrollcommand=my_scrollbar.set, selectmode=MULTIPLE)\n",
    "        my_scrollbar.config(command=my_listbox.yview)\n",
    "        my_frame.grid()\n",
    "        my_listbox.grid(pady=15)\n",
    "        my_listbox.grid(row=0, column=0)\n",
    "        my_scrollbar.grid(row=0, column=1, sticky='ns')\n",
    "\n",
    "        # Open the .txt in a file\n",
    "        with open('avaliable_anime.txt', 'r') as file:\n",
    "            for line in file:\n",
    "                my_listbox.insert(0, line)\n",
    "            \n",
    "        # TODO\n",
    "            # lookup by typing\n",
    "            # transfer button\n",
    "            # Remove elements being transfered\n",
    "\n",
    "                \n",
    "    \n",
    "ttk.Button(frm, text=\"Show avaliable anime (on PC)\", command=showAnime).grid(column=0, row=2)\n",
    "\n",
    "\n",
    "ttk.Button(frm, text=\"Quit\", command=root.destroy).grid()\n",
    "root.mainloop()"
   ]
  },
  {
   "cell_type": "code",
   "execution_count": 9,
   "metadata": {},
   "outputs": [
    {
     "name": "stdout",
     "output_type": "stream",
     "text": [
      "information.json already exists.\n"
     ]
    },
    {
     "name": "stderr",
     "output_type": "stream",
     "text": [
      "Exception in Tkinter callback\n",
      "Traceback (most recent call last):\n",
      "  File \"C:\\Program Files\\WindowsApps\\PythonSoftwareFoundation.Python.3.11_3.11.2544.0_x64__qbz5n2kfra8p0\\Lib\\tkinter\\__init__.py\", line 1967, in __call__\n",
      "    return self.func(*args)\n",
      "           ^^^^^^^^^^^^^^^^\n",
      "  File \"C:\\Users\\Zachary\\AppData\\Local\\Temp\\ipykernel_3896\\3339179504.py\", line 41, in showAnime\n",
      "    data = json.load(json_file)\n",
      "           ^^^^^^^^^^^^^^^^^^^^\n",
      "  File \"C:\\Program Files\\WindowsApps\\PythonSoftwareFoundation.Python.3.11_3.11.2544.0_x64__qbz5n2kfra8p0\\Lib\\json\\__init__.py\", line 293, in load\n",
      "    return loads(fp.read(),\n",
      "           ^^^^^^^^^^^^^^^^\n",
      "  File \"C:\\Program Files\\WindowsApps\\PythonSoftwareFoundation.Python.3.11_3.11.2544.0_x64__qbz5n2kfra8p0\\Lib\\json\\__init__.py\", line 346, in loads\n",
      "    return _default_decoder.decode(s)\n",
      "           ^^^^^^^^^^^^^^^^^^^^^^^^^^\n",
      "  File \"C:\\Program Files\\WindowsApps\\PythonSoftwareFoundation.Python.3.11_3.11.2544.0_x64__qbz5n2kfra8p0\\Lib\\json\\decoder.py\", line 337, in decode\n",
      "    obj, end = self.raw_decode(s, idx=_w(s, 0).end())\n",
      "               ^^^^^^^^^^^^^^^^^^^^^^^^^^^^^^^^^^^^^^\n",
      "  File \"C:\\Program Files\\WindowsApps\\PythonSoftwareFoundation.Python.3.11_3.11.2544.0_x64__qbz5n2kfra8p0\\Lib\\json\\decoder.py\", line 355, in raw_decode\n",
      "    raise JSONDecodeError(\"Expecting value\", s, err.value) from None\n",
      "json.decoder.JSONDecodeError: Expecting value: line 1 column 1 (char 0)\n"
     ]
    }
   ],
   "source": [
    "from tkinter import *\n",
    "from tkinter import ttk\n",
    "from tkinter import filedialog\n",
    "import json\n",
    "import os\n",
    "\n",
    "\n",
    "filename = 'information.json'\n",
    "root = Tk()\n",
    "frm = ttk.Frame(root, padding=10)\n",
    "frm.grid()\n",
    "\n",
    "# Row 0\n",
    "ttk.Label(frm, text=\"Welcome to the anime library!\").grid(column=0, row=0)\n",
    "\n",
    "# Row 1\n",
    "def showAnime():\n",
    "    if not os.path.isfile(filename):\n",
    "        # If it doesn't exist, create it and write data to it\n",
    "        data = {\n",
    "            \"PC Directory\": \"Nu\",\n",
    "            \"PC Capacity\": \"Nu\"\n",
    "        }\n",
    "        with open(filename, 'w') as json_file:\n",
    "            json.dump(data, json_file, indent=4)\n",
    "    folder_path = filedialog.askdirectory()\n",
    "    if folder_path:\n",
    "        ttk.Label(frm, text=folder_path).grid(column=1, row=1)\n",
    "        # Read the existing JSON data to update it\n",
    "        with open(filename, 'r') as json_file:\n",
    "            data = json.load(json_file)\n",
    "        \n",
    "        # Update the relevant fields in the data dictionary\n",
    "        data[\"PC Directory\"] = folder_path\n",
    "        \n",
    "        # Write the updated data back to the JSON file\n",
    "        with open(filename, 'w') as json_file:\n",
    "            json.dump(data, json_file, indent=4)\n",
    "        print(f\"{filename} has been updated with the new PC Directory.\")\n",
    "    \n",
    "ttk.Label(frm, text=\"PC anime directory:\").grid(column=0, row=1)\n",
    "pc_storage_selector = \"Select\"\n",
    "ttk.Button(frm, text=\"..\", command=showAnime).grid(column=2, row=1)\n",
    "\n",
    "# Row 2\n",
    "'''def showAnime():\n",
    "    root2 = Tk()\n",
    "    frm2 = ttk.Frame(root2, padding=10)\n",
    "    frm2.grid()\n",
    "    ttk.Button(frm2, text=\"Quit\", command=root2.destroy).grid(column=1, row=0)\n",
    "    folder_path = filedialog.askdirectory()\n",
    "    if folder_path:\n",
    "        ttk.Label(frm2, text=\"found this directory\" + folder_path).grid()\n",
    "    root2.mainloop()'''\n",
    "ttk.Button(frm, text=\"Show avaliable anime (on PC)\", command=showAnime).grid(column=0, row=2)\n",
    "\n",
    "\n",
    "\n",
    "\n",
    "\n",
    "# D:\\homework\n",
    "# Find each subfolder within the directory\n",
    "# see if it contains an Episode folder >> .mkv file\n",
    "# if it doesn't contain an Episode folder, see if >> .mkv file\n",
    "# if contains neither, then anime is not avaliable\n",
    "# Add to list of avaliable content in a .txt file\n",
    "\n",
    "\n",
    "\n",
    "\n",
    "# use the filedialog option to get the folder\n",
    "\n",
    "\n",
    "# Row 3\n",
    "ttk.Radiobutton(frm, text=\"Store\", value= False).grid(column=0, row=3)\n",
    "\n",
    "# Row 4\n",
    "ttk.Radiobutton(frm, text=\"Retreive\", value= True).grid(column=0, row=4)\n",
    "\n",
    "\n",
    "\n",
    "\n",
    "\n",
    "\n",
    "\n",
    "\n",
    "\n",
    "ttk.Button(frm, text=\"Quit\", command=root.destroy).grid()\n",
    "root.mainloop()"
   ]
  },
  {
   "cell_type": "code",
   "execution_count": 49,
   "metadata": {},
   "outputs": [],
   "source": [
    "from tkinter import *\n",
    "from tkinter import ttk"
   ]
  },
  {
   "cell_type": "markdown",
   "metadata": {},
   "source": [
    "### Instnatiate Tkinter object"
   ]
  },
  {
   "cell_type": "code",
   "execution_count": 50,
   "metadata": {},
   "outputs": [],
   "source": [
    "root = Tk()\n",
    "frm = ttk.Frame(root, padding=10)\n",
    "frm.grid()"
   ]
  },
  {
   "cell_type": "markdown",
   "metadata": {},
   "source": [
    "#### Make Labels"
   ]
  },
  {
   "cell_type": "code",
   "execution_count": 51,
   "metadata": {},
   "outputs": [],
   "source": [
    "ttk.Label(frm, text=\"Welcome to the anime library!\").grid(column=0, row=0)\n",
    "ttk.Label(frm, text=\"PC anime directory: [button]\").grid(column=0, row=1)\n",
    "ttk.Label(frm, text=\"Phone anime directory: [button]\").grid(column=0, row=2)\n",
    "ttk.Label(frm, text=\"PC storage capacity: current/total\").grid(column=0, row=3)\n",
    "ttk.Label(frm, text=\"Phone storage capacity: current/total\").grid(column=0, row=4)\n",
    "ttk.Label(frm, text=\"Anime to transfer: [popout textbox with submit button]\").grid(column=0, row=5)\n",
    "ttk.Label(frm, text=\"[Get list of avaliable anime]\").grid(column=0, row=6)\n",
    "ttk.Label(frm, text=\"Retrieve/Store\").grid(column=0, row=7)"
   ]
  },
  {
   "cell_type": "markdown",
   "metadata": {},
   "source": [
    "### Textboxes"
   ]
  },
  {
   "cell_type": "code",
   "execution_count": 52,
   "metadata": {},
   "outputs": [],
   "source": [
    "e = Entry(root).grid()"
   ]
  },
  {
   "cell_type": "markdown",
   "metadata": {},
   "source": [
    "### Button functions"
   ]
  },
  {
   "cell_type": "code",
   "execution_count": 53,
   "metadata": {},
   "outputs": [],
   "source": [
    "def myClick():\n",
    "    ttk.Label(frm, text=\"Look I clicked a button\").grid()"
   ]
  },
  {
   "cell_type": "markdown",
   "metadata": {},
   "source": [
    "### Buttons"
   ]
  },
  {
   "cell_type": "code",
   "execution_count": 54,
   "metadata": {},
   "outputs": [],
   "source": [
    "ttk.Button(frm, text=\"Submit\", command=myClick).grid(column=0, row=2)\n"
   ]
  },
  {
   "cell_type": "markdown",
   "metadata": {},
   "source": [
    "#### Destroy and exit"
   ]
  },
  {
   "cell_type": "code",
   "execution_count": 55,
   "metadata": {},
   "outputs": [],
   "source": [
    "ttk.Button(frm, text=\"Quit\", command=root.destroy).grid(column=1, row=0)\n",
    "root.mainloop()"
   ]
  },
  {
   "cell_type": "markdown",
   "metadata": {},
   "source": [
    "# Grid system\n",
    "- PC anime directory: [textbox]\n",
    "- Phone anime directory: [textbox]\n",
    "- "
   ]
  },
  {
   "cell_type": "code",
   "execution_count": null,
   "metadata": {},
   "outputs": [],
   "source": [
    "#TODO\n",
    "    # Make a command to destroy all roots that are avaliable\n",
    "    # Sort the anime directories by the source they're from such as aniwave, crunchyroll, etc.\n",
    "    # "
   ]
  }
 ],
 "metadata": {
  "kernelspec": {
   "display_name": "Python 3",
   "language": "python",
   "name": "python3"
  },
  "language_info": {
   "codemirror_mode": {
    "name": "ipython",
    "version": 3
   },
   "file_extension": ".py",
   "mimetype": "text/x-python",
   "name": "python",
   "nbconvert_exporter": "python",
   "pygments_lexer": "ipython3",
   "version": "3.11.9"
  }
 },
 "nbformat": 4,
 "nbformat_minor": 2
}
