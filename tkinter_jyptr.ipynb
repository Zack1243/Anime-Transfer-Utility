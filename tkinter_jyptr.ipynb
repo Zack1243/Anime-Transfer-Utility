{
 "cells": [
  {
   "cell_type": "markdown",
   "metadata": {},
   "source": [
    "## Import libraries"
   ]
  },
  {
   "cell_type": "code",
   "execution_count": 141,
   "metadata": {},
   "outputs": [],
   "source": [
    "import json\n",
    "import math\n",
    "import os\n",
    "import shutil\n",
    "from tkinter import *\n",
    "from tkinter import ttk\n",
    "from tkinter import filedialog\n",
    "from tkinter import font"
   ]
  },
  {
   "cell_type": "markdown",
   "metadata": {},
   "source": [
    "## Initialize Interface"
   ]
  },
  {
   "cell_type": "code",
   "execution_count": 142,
   "metadata": {},
   "outputs": [
    {
     "data": {
      "text/plain": [
       "''"
      ]
     },
     "execution_count": 142,
     "metadata": {},
     "output_type": "execute_result"
    }
   ],
   "source": [
    "INFOFILE = 'information.json'\n",
    "root = Tk()\n",
    "frm = ttk.Frame(root, padding=10)\n",
    "frm.grid()\n",
    "app_width = 500\n",
    "app_height = 500\n",
    "screen_width = root.winfo_screenwidth()\n",
    "screen_height = root.winfo_screenheight()\n",
    "x = (screen_width / 2) - (app_width / 2)\n",
    "y = (screen_height / 2) - (app_height / 2)\n",
    "root.geometry(f'{app_width}x{app_height}+{int(x)}+{int(y)}')"
   ]
  },
  {
   "cell_type": "markdown",
   "metadata": {},
   "source": []
  },
  {
   "cell_type": "code",
   "execution_count": 143,
   "metadata": {},
   "outputs": [],
   "source": [
    "if not os.path.isfile(INFOFILE):\n",
    "    print(f\"Infofile was not found in current directory({os.curdir()}). Attempting to create it...\")\n",
    "    data = {\n",
    "                \"PC Directory\": \"testing\",\n",
    "                \"PC Capacity\": \"testing\",\n",
    "                \"PC storage usage\": \"testing\",\n",
    "                \"Phone storage usage\": \"testing\",\n",
    "                \"Phone Directory\": \"testing\",\n",
    "                \"Phone Capacity\": \"testing\"\n",
    "            }\n",
    "    with open(INFOFILE, 'w') as json_file:\n",
    "        json.dump(data, json_file, indent=4)\n",
    "        \n",
    "        \n",
    "if not os.path.isfile(INFOFILE):\n",
    "    print(\"INFOFILE creation unsuccessful...\")\n",
    "    \n",
    "# Read data from json file\n",
    "with open(INFOFILE, 'r') as json_file:\n",
    "    data = json.load(json_file)"
   ]
  },
  {
   "cell_type": "markdown",
   "metadata": {},
   "source": [
    "## Functions"
   ]
  },
  {
   "cell_type": "markdown",
   "metadata": {},
   "source": [
    "#### Check if Infofile is initiated"
   ]
  },
  {
   "cell_type": "code",
   "execution_count": 144,
   "metadata": {},
   "outputs": [],
   "source": [
    "def check_infofile_init():\n",
    "    if not os.path.isfile(INFOFILE):\n",
    "        print(f\"Infofile was not found in current directory({os.curdir()}). Attempting to create it...\")\n",
    "        data = {\n",
    "                    \"PC Directory\": \"testing\",\n",
    "                    \"PC Capacity\": \"testing\",\n",
    "                    \"PC storage usage\": \"testing\",\n",
    "                    \"Phone storage usage\": \"testing\",\n",
    "                    \"Phone Directory\": \"testing\",\n",
    "                    \"Phone Capacity\": \"testing\"\n",
    "                }\n",
    "        with open(INFOFILE, 'w') as json_file:\n",
    "            json.dump(data, json_file, indent=4)\n",
    "    else:\n",
    "        pass"
   ]
  },
  {
   "cell_type": "markdown",
   "metadata": {},
   "source": [
    "#### Get Directory Size"
   ]
  },
  {
   "cell_type": "code",
   "execution_count": 145,
   "metadata": {},
   "outputs": [],
   "source": [
    "def get_directory_size(directory):\n",
    "    total_size = 0\n",
    "    # Walk through each folder, subfolder, and files\n",
    "    for dirpath, dirnames, filenames in os.walk(directory):\n",
    "        for filename in filenames:\n",
    "            # Get the full file path\n",
    "            file_path = os.path.join(dirpath, filename)\n",
    "            # Add the file size to the total size\n",
    "            if os.path.isfile(file_path):\n",
    "                total_size += os.path.getsize(file_path)\n",
    "                \n",
    "    if total_size == 0:\n",
    "        return \"0B\"\n",
    "    size_name = (\"B\", \"KB\", \"MB\", \"GB\", \"TB\")\n",
    "    i = int(math.floor(math.log(total_size, 1024)))\n",
    "    p = math.pow(1024, i)\n",
    "    s = round(total_size / p, 2)\n",
    "    return f\"{s} {size_name[i]}\""
   ]
  },
  {
   "cell_type": "markdown",
   "metadata": {},
   "source": [
    "#### Get Avaliable Storage"
   ]
  },
  {
   "cell_type": "code",
   "execution_count": 146,
   "metadata": {},
   "outputs": [],
   "source": [
    "def get_available_storage(directory=\".\"):\n",
    "    total, used, free = shutil.disk_usage(directory)\n",
    "    return free"
   ]
  },
  {
   "cell_type": "markdown",
   "metadata": {},
   "source": [
    "## Button Functions"
   ]
  },
  {
   "cell_type": "markdown",
   "metadata": {},
   "source": [
    "### Set Phone Directory"
   ]
  },
  {
   "cell_type": "code",
   "execution_count": 147,
   "metadata": {},
   "outputs": [],
   "source": [
    "def set_phone_directory(phone_directory_label):\n",
    "    check_infofile_init()\n",
    "    \n",
    "    # Placeholder folder_path (if you named your directory this exact sequence of keys, blame the universe)\n",
    "    folder_path = \"woqpagwewsegraberiknh\"\n",
    "    \n",
    "    i = 0\n",
    "    \n",
    "    # Set the folder path to an existing directory\n",
    "    while os.path.exists(folder_path) or i < 4:\n",
    "        \n",
    "        # Try again for a new phone directory\n",
    "        if i > 0:\n",
    "            print(f\"Phone directory not valid. Attempts remaining ({3-i}/3)\")\n",
    "            \n",
    "        # Have the user choose a phone directory\n",
    "        folder_path = filedialog.askdirectory()\n",
    "        \n",
    "        # Check if folder_path exists\n",
    "        if os.path.exists(folder_path):\n",
    "            \n",
    "            # Rewrites the text for phone directory label\n",
    "            phone_directory_label.config(text=f\"{folder_path}\")\n",
    "            #ttk.Label(frm, text=folder_path).grid(column=1, row=1)\n",
    "\n",
    "            # Read in data from INFOFILE\n",
    "            with open(INFOFILE, 'r') as json_file:\n",
    "                data = json.load(json_file)\n",
    "\n",
    "            # Update Phone Directory in INFOFILE\n",
    "            data[\"Phone Directory\"] = folder_path\n",
    "\n",
    "            # Write updated data to json_file\n",
    "            with open(INFOFILE, 'w') as json_file:\n",
    "                json.dump(data, json_file, indent=4)\n",
    "\n",
    "            print(f\"{INFOFILE} has been updated with the new Phone Directory: {folder_path}\")\n",
    "\n",
    "            # Write the phone directory into the INFOFILE\n",
    "            with open(INFOFILE, 'w') as json_file:\n",
    "                json.dump(data, json_file, indent=4)\n",
    "            break\n",
    "        i = i + 1\n",
    "        print(f\"User has failed to select a valid Phone directory!\")"
   ]
  },
  {
   "cell_type": "markdown",
   "metadata": {},
   "source": [
    "### Set PC Directory"
   ]
  },
  {
   "cell_type": "code",
   "execution_count": 148,
   "metadata": {},
   "outputs": [],
   "source": [
    "def set_pc_directory(pc_directory_label):\n",
    "    check_infofile_init()\n",
    "    \n",
    "    # Placeholder folder_path (if you named your directory this exact sequence of keys, blame the universe)\n",
    "    folder_path = \"woqpagwewsegraberiknh\"\n",
    "    \n",
    "    i = 0\n",
    "    \n",
    "    # Set the folder path to an existing directory\n",
    "    while os.path.exists(folder_path) or i < 4:\n",
    "        \n",
    "        # Try again for a new phone directory\n",
    "        if i > 0:\n",
    "            print(f\"PC directory not valid. Attempts remaining ({3-i}/3)\")\n",
    "            \n",
    "        # Have the user choose a phone directory\n",
    "        folder_path = filedialog.askdirectory()\n",
    "        \n",
    "        # Check if folder_path exists\n",
    "        if os.path.exists(folder_path):\n",
    "            \n",
    "            # Rewrites the text for phone directory label\n",
    "            pc_directory_label.config(text=f\"{folder_path}\")\n",
    "            #ttk.Label(frm, text=folder_path).grid(column=1, row=1)\n",
    "\n",
    "            # Read in data from INFOFILE\n",
    "            with open(INFOFILE, 'r') as json_file:\n",
    "                data = json.load(json_file)\n",
    "\n",
    "            # Update Phone Directory in INFOFILE\n",
    "            data[\"PC Directory\"] = folder_path\n",
    "\n",
    "            # Write updated data to json_file\n",
    "            with open(INFOFILE, 'w') as json_file:\n",
    "                json.dump(data, json_file, indent=4)\n",
    "\n",
    "            print(f\"{INFOFILE} has been updated with the new PC Directory: {folder_path}\")\n",
    "\n",
    "            # Write the phone directory into the INFOFILE\n",
    "            with open(INFOFILE, 'w') as json_file:\n",
    "                json.dump(data, json_file, indent=4)\n",
    "            break\n",
    "        i = i + 1\n",
    "        print(f\"User has failed to select a valid PC directory!\")"
   ]
  },
  {
   "cell_type": "markdown",
   "metadata": {},
   "source": [
    "### storeAnime"
   ]
  },
  {
   "cell_type": "code",
   "execution_count": null,
   "metadata": {},
   "outputs": [],
   "source": []
  },
  {
   "cell_type": "markdown",
   "metadata": {},
   "source": [
    "## Rows"
   ]
  },
  {
   "cell_type": "markdown",
   "metadata": {},
   "source": [
    "### Row 0"
   ]
  },
  {
   "cell_type": "code",
   "execution_count": 149,
   "metadata": {},
   "outputs": [],
   "source": [
    "welcome_label = ttk.Label(frm,text=\"Welcome to the anime transfer tool!\")\n",
    "welcome_label.grid(row=0, column=0)"
   ]
  },
  {
   "cell_type": "markdown",
   "metadata": {},
   "source": [
    "### Row 1"
   ]
  },
  {
   "cell_type": "code",
   "execution_count": 150,
   "metadata": {},
   "outputs": [],
   "source": [
    "set_phone_directory_label = ttk.Label(frm, text=\"Choose the aniyomi Phone directory (should be called Anime): \")\n",
    "set_phone_directory_label.grid(row=1, column=0)\n",
    "\n",
    "with open(INFOFILE, 'r') as json_file:\n",
    "    data = json.load(json_file)\n",
    "        \n",
    "phone_directory_label = ttk.Label(frm, text=f\"{data['Phone Directory']}\")\n",
    "phone_directory_label.grid(row=1, column=1)\n",
    "\n",
    "set_phone_directory_button = ttk.Button(frm, text=\"..\", command=lambda: set_phone_directory(phone_directory_label))\n",
    "set_phone_directory_button.grid(row=1,column=2)"
   ]
  },
  {
   "cell_type": "markdown",
   "metadata": {},
   "source": [
    "### Row 2"
   ]
  },
  {
   "cell_type": "code",
   "execution_count": 151,
   "metadata": {},
   "outputs": [],
   "source": [
    "set_pc_directory_label = ttk.Label(frm,text=\"Choose a PC directory: \")\n",
    "set_pc_directory_label.grid(row=2, column=0)\n",
    "\n",
    "with open(INFOFILE, 'r') as json_file:\n",
    "    data = json.load(json_file)\n",
    "        \n",
    "pc_directory_label = ttk.Label(frm, text=f\"{data['PC Directory']}\")\n",
    "pc_directory_label.grid(row=2, column=1)\n",
    "\n",
    "set_pc_directory_button = ttk.Button(frm, text=\"..\", command=lambda: set_pc_directory(pc_directory_label))\n",
    "set_pc_directory_button.grid(row=2,column=2)"
   ]
  },
  {
   "cell_type": "markdown",
   "metadata": {},
   "source": [
    "### Row 3"
   ]
  },
  {
   "cell_type": "code",
   "execution_count": 152,
   "metadata": {},
   "outputs": [],
   "source": [
    "# Get the storage usage on pc\n",
    "if os.path.isdir(data[\"PC Directory\"]):\n",
    "    total = get_directory_size(data[\"PC Directory\"])\n",
    "    free = get_available_storage(data[\"PC Directory\"])\n",
    "    \n",
    "ttk.Label(frm, text=f\"PC storage usage: {total} / {free / (1024**3):.2f} GB\").grid(column=0, row=3)\n",
    "\n",
    "\n",
    "# TODO:\n",
    "    # Currently the storage usage is inaccurate\n",
    "    # How to update the pc usage when the directory is reset"
   ]
  },
  {
   "cell_type": "markdown",
   "metadata": {},
   "source": [
    "### Row 4"
   ]
  },
  {
   "cell_type": "code",
   "execution_count": 153,
   "metadata": {},
   "outputs": [],
   "source": [
    "# Get the storage usage on pc\n",
    "if os.path.isdir(data[\"Phone Directory\"]):\n",
    "    total = get_directory_size(data[\"Phone Directory\"])\n",
    "    free = get_available_storage(data[\"Phone Directory\"])\n",
    "    \n",
    "ttk.Label(frm, text=f\"Phone storage usage: {total} / {free / (1024**3):.2f} GB\").grid(column=0, row=4)\n",
    "\n",
    "\n",
    "# TODO:\n",
    "    # Currently the storage usage is inaccurate\n",
    "    # How to update the pc usage when the directory is reset"
   ]
  },
  {
   "cell_type": "markdown",
   "metadata": {},
   "source": [
    "### Row 5"
   ]
  },
  {
   "cell_type": "code",
   "execution_count": null,
   "metadata": {},
   "outputs": [],
   "source": [
    "ttk.Button(frm, text=\"Store\", command=storeAnime).grid(column=1, row=5)"
   ]
  },
  {
   "cell_type": "markdown",
   "metadata": {},
   "source": [
    "### Row 6"
   ]
  },
  {
   "cell_type": "code",
   "execution_count": 154,
   "metadata": {},
   "outputs": [],
   "source": [
    "root.mainloop()"
   ]
  },
  {
   "cell_type": "code",
   "execution_count": null,
   "metadata": {},
   "outputs": [],
   "source": [
    "# Run a new instance of ttk\n",
    "root2 = Tk()\n",
    "frm2 = ttk.Frame(root2, padding=10)\n",
    "frm2.grid()\n",
    "app_width = 500\n",
    "app_height = 500\n",
    "screen_width = root2.winfo_screenwidth()\n",
    "screen_height = root2.winfo_screenheight()\n",
    "x = (screen_width / 2) - (app_width / 2)\n",
    "y = (screen_height / 2) - (app_height / 2)\n",
    "root2.geometry(f'{app_width}x{app_height}+{int(x + 100)}+{int(y + 100)}')"
   ]
  },
  {
   "cell_type": "code",
   "execution_count": null,
   "metadata": {},
   "outputs": [],
   "source": []
  }
 ],
 "metadata": {
  "kernelspec": {
   "display_name": "Python 3",
   "language": "python",
   "name": "python3"
  },
  "language_info": {
   "codemirror_mode": {
    "name": "ipython",
    "version": 3
   },
   "file_extension": ".py",
   "mimetype": "text/x-python",
   "name": "python",
   "nbconvert_exporter": "python",
   "pygments_lexer": "ipython3",
   "version": "3.11.9"
  }
 },
 "nbformat": 4,
 "nbformat_minor": 2
}
