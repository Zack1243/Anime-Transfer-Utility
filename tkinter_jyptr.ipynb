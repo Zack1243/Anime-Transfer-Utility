{
 "cells": [
  {
   "cell_type": "markdown",
   "metadata": {},
   "source": [
    "#### Import libraries"
   ]
  },
  {
   "cell_type": "code",
   "execution_count": 89,
   "metadata": {},
   "outputs": [],
   "source": [
    "from tkinter import *\n",
    "from tkinter import ttk\n",
    "from tkinter import filedialog\n",
    "root = Tk()\n",
    "frm = ttk.Frame(root, padding=10)\n",
    "frm.grid()\n",
    "\n",
    "# Row 0\n",
    "ttk.Label(frm, text=\"Welcome to the anime library!\").grid(column=0, row=0)\n",
    "\n",
    "# Row 1\n",
    "\n",
    "def showAnime():\n",
    "    folder_path = filedialog.askdirectory()\n",
    "    if folder_path:\n",
    "        ttk.Label(frm, text=folder_path).grid(column=1, row=1)\n",
    "ttk.Label(frm, text=\"PC anime directory:\").grid(column=0, row=1)\n",
    "pc_storage_selector = \"Select\"\n",
    "ttk.Button(frm, text=\"..\", command=showAnime).grid(column=2, row=1)\n",
    "\n",
    "# Row 2\n",
    "'''def showAnime():\n",
    "    root2 = Tk()\n",
    "    frm2 = ttk.Frame(root2, padding=10)\n",
    "    frm2.grid()\n",
    "    ttk.Button(frm2, text=\"Quit\", command=root2.destroy).grid(column=1, row=0)\n",
    "    folder_path = filedialog.askdirectory()\n",
    "    if folder_path:\n",
    "        ttk.Label(frm2, text=\"found this directory\" + folder_path).grid()\n",
    "    root2.mainloop()'''\n",
    "ttk.Button(frm, text=\"Show avaliable anime\", command=showAnime).grid(column=0, row=2)\n",
    "#D:\\homework\n",
    "# use the filedialog option to get the folder\n",
    "\n",
    "\n",
    "# Row 3\n",
    "ttk.Radiobutton(frm, text=\"Store\", value= False).grid(column=0, row=3)\n",
    "\n",
    "# Row 4\n",
    "ttk.Radiobutton(frm, text=\"Retreive\", value= True).grid(column=0, row=4)\n",
    "\n",
    "\n",
    "\n",
    "\n",
    "\n",
    "\n",
    "\n",
    "\n",
    "\n",
    "ttk.Button(frm, text=\"Quit\", command=root.destroy).grid()\n",
    "root.mainloop()"
   ]
  },
  {
   "cell_type": "code",
   "execution_count": 49,
   "metadata": {},
   "outputs": [],
   "source": [
    "from tkinter import *\n",
    "from tkinter import ttk"
   ]
  },
  {
   "cell_type": "markdown",
   "metadata": {},
   "source": [
    "### Instnatiate Tkinter object"
   ]
  },
  {
   "cell_type": "code",
   "execution_count": 50,
   "metadata": {},
   "outputs": [],
   "source": [
    "root = Tk()\n",
    "frm = ttk.Frame(root, padding=10)\n",
    "frm.grid()"
   ]
  },
  {
   "cell_type": "markdown",
   "metadata": {},
   "source": [
    "#### Make Labels"
   ]
  },
  {
   "cell_type": "code",
   "execution_count": 51,
   "metadata": {},
   "outputs": [],
   "source": [
    "ttk.Label(frm, text=\"Welcome to the anime library!\").grid(column=0, row=0)\n",
    "ttk.Label(frm, text=\"PC anime directory: [button]\").grid(column=0, row=1)\n",
    "ttk.Label(frm, text=\"Phone anime directory: [button]\").grid(column=0, row=2)\n",
    "ttk.Label(frm, text=\"PC storage capacity: current/total\").grid(column=0, row=3)\n",
    "ttk.Label(frm, text=\"Phone storage capacity: current/total\").grid(column=0, row=4)\n",
    "ttk.Label(frm, text=\"Anime to transfer: [popout textbox with submit button]\").grid(column=0, row=5)\n",
    "ttk.Label(frm, text=\"[Get list of avaliable anime]\").grid(column=0, row=6)\n",
    "ttk.Label(frm, text=\"Retrieve/Store\").grid(column=0, row=7)"
   ]
  },
  {
   "cell_type": "markdown",
   "metadata": {},
   "source": [
    "### Textboxes"
   ]
  },
  {
   "cell_type": "code",
   "execution_count": 52,
   "metadata": {},
   "outputs": [],
   "source": [
    "e = Entry(root).grid()"
   ]
  },
  {
   "cell_type": "markdown",
   "metadata": {},
   "source": [
    "### Button functions"
   ]
  },
  {
   "cell_type": "code",
   "execution_count": 53,
   "metadata": {},
   "outputs": [],
   "source": [
    "def myClick():\n",
    "    ttk.Label(frm, text=\"Look I clicked a button\").grid()"
   ]
  },
  {
   "cell_type": "markdown",
   "metadata": {},
   "source": [
    "### Buttons"
   ]
  },
  {
   "cell_type": "code",
   "execution_count": 54,
   "metadata": {},
   "outputs": [],
   "source": [
    "ttk.Button(frm, text=\"Submit\", command=myClick).grid(column=0, row=2)\n"
   ]
  },
  {
   "cell_type": "markdown",
   "metadata": {},
   "source": [
    "#### Destroy and exit"
   ]
  },
  {
   "cell_type": "code",
   "execution_count": 55,
   "metadata": {},
   "outputs": [],
   "source": [
    "ttk.Button(frm, text=\"Quit\", command=root.destroy).grid(column=1, row=0)\n",
    "root.mainloop()"
   ]
  },
  {
   "cell_type": "markdown",
   "metadata": {},
   "source": [
    "# Grid system\n",
    "- PC anime directory: [textbox]\n",
    "- Phone anime directory: [textbox]\n",
    "- "
   ]
  },
  {
   "cell_type": "code",
   "execution_count": null,
   "metadata": {},
   "outputs": [],
   "source": [
    "#TODO\n",
    "    # Make a command to destroy all roots that are avaliable"
   ]
  }
 ],
 "metadata": {
  "kernelspec": {
   "display_name": "Python 3",
   "language": "python",
   "name": "python3"
  },
  "language_info": {
   "codemirror_mode": {
    "name": "ipython",
    "version": 3
   },
   "file_extension": ".py",
   "mimetype": "text/x-python",
   "name": "python",
   "nbconvert_exporter": "python",
   "pygments_lexer": "ipython3",
   "version": "3.11.9"
  }
 },
 "nbformat": 4,
 "nbformat_minor": 2
}
